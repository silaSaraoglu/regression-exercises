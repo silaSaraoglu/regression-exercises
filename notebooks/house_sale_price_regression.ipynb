{
  "nbformat": 4,
  "nbformat_minor": 0,
  "metadata": {
    "colab": {
      "provenance": [],
      "collapsed_sections": [
        "u-FxgE3HCKoc"
      ]
    },
    "kernelspec": {
      "name": "python3",
      "display_name": "Python 3"
    },
    "language_info": {
      "name": "python"
    }
  },
  "cells": [
    {
      "cell_type": "code",
      "source": [
        "# imports\n",
        "import pandas as pd\n",
        "from sklearn.impute import SimpleImputer\n",
        "from sklearn.preprocessing import OneHotEncoder, StandardScaler\n",
        "from sklearn.model_selection import train_test_split"
      ],
      "metadata": {
        "id": "qCZxpXiHBgDC"
      },
      "execution_count": null,
      "outputs": []
    },
    {
      "cell_type": "code",
      "source": [
        "# load dataset\n",
        "data = pd.read_csv(\"AmesHousing.csv\")"
      ],
      "metadata": {
        "id": "sLocK2YDBm7T"
      },
      "execution_count": null,
      "outputs": []
    },
    {
      "cell_type": "markdown",
      "source": [
        "# Preprocessing dataset"
      ],
      "metadata": {
        "id": "u-FxgE3HCKoc"
      }
    },
    {
      "cell_type": "code",
      "source": [
        "data.head()"
      ],
      "metadata": {
        "colab": {
          "base_uri": "https://localhost:8080/",
          "height": 273
        },
        "id": "5q5eX9NjCOUD",
        "outputId": "948809b6-5dea-4aa7-a0de-79b1fab1d72c"
      },
      "execution_count": null,
      "outputs": [
        {
          "output_type": "execute_result",
          "data": {
            "text/plain": [
              "   Order        PID  MS SubClass MS Zoning  Lot Frontage  Lot Area Street  \\\n",
              "0      1  526301100           20        RL         141.0     31770   Pave   \n",
              "1      2  526350040           20        RH          80.0     11622   Pave   \n",
              "2      3  526351010           20        RL          81.0     14267   Pave   \n",
              "3      4  526353030           20        RL          93.0     11160   Pave   \n",
              "4      5  527105010           60        RL          74.0     13830   Pave   \n",
              "\n",
              "  Alley Lot Shape Land Contour  ... Pool Area Pool QC  Fence Misc Feature  \\\n",
              "0   NaN       IR1          Lvl  ...         0     NaN    NaN          NaN   \n",
              "1   NaN       Reg          Lvl  ...         0     NaN  MnPrv          NaN   \n",
              "2   NaN       IR1          Lvl  ...         0     NaN    NaN         Gar2   \n",
              "3   NaN       Reg          Lvl  ...         0     NaN    NaN          NaN   \n",
              "4   NaN       IR1          Lvl  ...         0     NaN  MnPrv          NaN   \n",
              "\n",
              "  Misc Val Mo Sold Yr Sold Sale Type  Sale Condition  SalePrice  \n",
              "0        0       5    2010       WD           Normal     215000  \n",
              "1        0       6    2010       WD           Normal     105000  \n",
              "2    12500       6    2010       WD           Normal     172000  \n",
              "3        0       4    2010       WD           Normal     244000  \n",
              "4        0       3    2010       WD           Normal     189900  \n",
              "\n",
              "[5 rows x 82 columns]"
            ],
            "text/html": [
              "\n",
              "  <div id=\"df-9caaf23d-d254-40e7-a4a9-0352474f299b\" class=\"colab-df-container\">\n",
              "    <div>\n",
              "<style scoped>\n",
              "    .dataframe tbody tr th:only-of-type {\n",
              "        vertical-align: middle;\n",
              "    }\n",
              "\n",
              "    .dataframe tbody tr th {\n",
              "        vertical-align: top;\n",
              "    }\n",
              "\n",
              "    .dataframe thead th {\n",
              "        text-align: right;\n",
              "    }\n",
              "</style>\n",
              "<table border=\"1\" class=\"dataframe\">\n",
              "  <thead>\n",
              "    <tr style=\"text-align: right;\">\n",
              "      <th></th>\n",
              "      <th>Order</th>\n",
              "      <th>PID</th>\n",
              "      <th>MS SubClass</th>\n",
              "      <th>MS Zoning</th>\n",
              "      <th>Lot Frontage</th>\n",
              "      <th>Lot Area</th>\n",
              "      <th>Street</th>\n",
              "      <th>Alley</th>\n",
              "      <th>Lot Shape</th>\n",
              "      <th>Land Contour</th>\n",
              "      <th>...</th>\n",
              "      <th>Pool Area</th>\n",
              "      <th>Pool QC</th>\n",
              "      <th>Fence</th>\n",
              "      <th>Misc Feature</th>\n",
              "      <th>Misc Val</th>\n",
              "      <th>Mo Sold</th>\n",
              "      <th>Yr Sold</th>\n",
              "      <th>Sale Type</th>\n",
              "      <th>Sale Condition</th>\n",
              "      <th>SalePrice</th>\n",
              "    </tr>\n",
              "  </thead>\n",
              "  <tbody>\n",
              "    <tr>\n",
              "      <th>0</th>\n",
              "      <td>1</td>\n",
              "      <td>526301100</td>\n",
              "      <td>20</td>\n",
              "      <td>RL</td>\n",
              "      <td>141.0</td>\n",
              "      <td>31770</td>\n",
              "      <td>Pave</td>\n",
              "      <td>NaN</td>\n",
              "      <td>IR1</td>\n",
              "      <td>Lvl</td>\n",
              "      <td>...</td>\n",
              "      <td>0</td>\n",
              "      <td>NaN</td>\n",
              "      <td>NaN</td>\n",
              "      <td>NaN</td>\n",
              "      <td>0</td>\n",
              "      <td>5</td>\n",
              "      <td>2010</td>\n",
              "      <td>WD</td>\n",
              "      <td>Normal</td>\n",
              "      <td>215000</td>\n",
              "    </tr>\n",
              "    <tr>\n",
              "      <th>1</th>\n",
              "      <td>2</td>\n",
              "      <td>526350040</td>\n",
              "      <td>20</td>\n",
              "      <td>RH</td>\n",
              "      <td>80.0</td>\n",
              "      <td>11622</td>\n",
              "      <td>Pave</td>\n",
              "      <td>NaN</td>\n",
              "      <td>Reg</td>\n",
              "      <td>Lvl</td>\n",
              "      <td>...</td>\n",
              "      <td>0</td>\n",
              "      <td>NaN</td>\n",
              "      <td>MnPrv</td>\n",
              "      <td>NaN</td>\n",
              "      <td>0</td>\n",
              "      <td>6</td>\n",
              "      <td>2010</td>\n",
              "      <td>WD</td>\n",
              "      <td>Normal</td>\n",
              "      <td>105000</td>\n",
              "    </tr>\n",
              "    <tr>\n",
              "      <th>2</th>\n",
              "      <td>3</td>\n",
              "      <td>526351010</td>\n",
              "      <td>20</td>\n",
              "      <td>RL</td>\n",
              "      <td>81.0</td>\n",
              "      <td>14267</td>\n",
              "      <td>Pave</td>\n",
              "      <td>NaN</td>\n",
              "      <td>IR1</td>\n",
              "      <td>Lvl</td>\n",
              "      <td>...</td>\n",
              "      <td>0</td>\n",
              "      <td>NaN</td>\n",
              "      <td>NaN</td>\n",
              "      <td>Gar2</td>\n",
              "      <td>12500</td>\n",
              "      <td>6</td>\n",
              "      <td>2010</td>\n",
              "      <td>WD</td>\n",
              "      <td>Normal</td>\n",
              "      <td>172000</td>\n",
              "    </tr>\n",
              "    <tr>\n",
              "      <th>3</th>\n",
              "      <td>4</td>\n",
              "      <td>526353030</td>\n",
              "      <td>20</td>\n",
              "      <td>RL</td>\n",
              "      <td>93.0</td>\n",
              "      <td>11160</td>\n",
              "      <td>Pave</td>\n",
              "      <td>NaN</td>\n",
              "      <td>Reg</td>\n",
              "      <td>Lvl</td>\n",
              "      <td>...</td>\n",
              "      <td>0</td>\n",
              "      <td>NaN</td>\n",
              "      <td>NaN</td>\n",
              "      <td>NaN</td>\n",
              "      <td>0</td>\n",
              "      <td>4</td>\n",
              "      <td>2010</td>\n",
              "      <td>WD</td>\n",
              "      <td>Normal</td>\n",
              "      <td>244000</td>\n",
              "    </tr>\n",
              "    <tr>\n",
              "      <th>4</th>\n",
              "      <td>5</td>\n",
              "      <td>527105010</td>\n",
              "      <td>60</td>\n",
              "      <td>RL</td>\n",
              "      <td>74.0</td>\n",
              "      <td>13830</td>\n",
              "      <td>Pave</td>\n",
              "      <td>NaN</td>\n",
              "      <td>IR1</td>\n",
              "      <td>Lvl</td>\n",
              "      <td>...</td>\n",
              "      <td>0</td>\n",
              "      <td>NaN</td>\n",
              "      <td>MnPrv</td>\n",
              "      <td>NaN</td>\n",
              "      <td>0</td>\n",
              "      <td>3</td>\n",
              "      <td>2010</td>\n",
              "      <td>WD</td>\n",
              "      <td>Normal</td>\n",
              "      <td>189900</td>\n",
              "    </tr>\n",
              "  </tbody>\n",
              "</table>\n",
              "<p>5 rows × 82 columns</p>\n",
              "</div>\n",
              "    <div class=\"colab-df-buttons\">\n",
              "\n",
              "  <div class=\"colab-df-container\">\n",
              "    <button class=\"colab-df-convert\" onclick=\"convertToInteractive('df-9caaf23d-d254-40e7-a4a9-0352474f299b')\"\n",
              "            title=\"Convert this dataframe to an interactive table.\"\n",
              "            style=\"display:none;\">\n",
              "\n",
              "  <svg xmlns=\"http://www.w3.org/2000/svg\" height=\"24px\" viewBox=\"0 -960 960 960\">\n",
              "    <path d=\"M120-120v-720h720v720H120Zm60-500h600v-160H180v160Zm220 220h160v-160H400v160Zm0 220h160v-160H400v160ZM180-400h160v-160H180v160Zm440 0h160v-160H620v160ZM180-180h160v-160H180v160Zm440 0h160v-160H620v160Z\"/>\n",
              "  </svg>\n",
              "    </button>\n",
              "\n",
              "  <style>\n",
              "    .colab-df-container {\n",
              "      display:flex;\n",
              "      gap: 12px;\n",
              "    }\n",
              "\n",
              "    .colab-df-convert {\n",
              "      background-color: #E8F0FE;\n",
              "      border: none;\n",
              "      border-radius: 50%;\n",
              "      cursor: pointer;\n",
              "      display: none;\n",
              "      fill: #1967D2;\n",
              "      height: 32px;\n",
              "      padding: 0 0 0 0;\n",
              "      width: 32px;\n",
              "    }\n",
              "\n",
              "    .colab-df-convert:hover {\n",
              "      background-color: #E2EBFA;\n",
              "      box-shadow: 0px 1px 2px rgba(60, 64, 67, 0.3), 0px 1px 3px 1px rgba(60, 64, 67, 0.15);\n",
              "      fill: #174EA6;\n",
              "    }\n",
              "\n",
              "    .colab-df-buttons div {\n",
              "      margin-bottom: 4px;\n",
              "    }\n",
              "\n",
              "    [theme=dark] .colab-df-convert {\n",
              "      background-color: #3B4455;\n",
              "      fill: #D2E3FC;\n",
              "    }\n",
              "\n",
              "    [theme=dark] .colab-df-convert:hover {\n",
              "      background-color: #434B5C;\n",
              "      box-shadow: 0px 1px 3px 1px rgba(0, 0, 0, 0.15);\n",
              "      filter: drop-shadow(0px 1px 2px rgba(0, 0, 0, 0.3));\n",
              "      fill: #FFFFFF;\n",
              "    }\n",
              "  </style>\n",
              "\n",
              "    <script>\n",
              "      const buttonEl =\n",
              "        document.querySelector('#df-9caaf23d-d254-40e7-a4a9-0352474f299b button.colab-df-convert');\n",
              "      buttonEl.style.display =\n",
              "        google.colab.kernel.accessAllowed ? 'block' : 'none';\n",
              "\n",
              "      async function convertToInteractive(key) {\n",
              "        const element = document.querySelector('#df-9caaf23d-d254-40e7-a4a9-0352474f299b');\n",
              "        const dataTable =\n",
              "          await google.colab.kernel.invokeFunction('convertToInteractive',\n",
              "                                                    [key], {});\n",
              "        if (!dataTable) return;\n",
              "\n",
              "        const docLinkHtml = 'Like what you see? Visit the ' +\n",
              "          '<a target=\"_blank\" href=https://colab.research.google.com/notebooks/data_table.ipynb>data table notebook</a>'\n",
              "          + ' to learn more about interactive tables.';\n",
              "        element.innerHTML = '';\n",
              "        dataTable['output_type'] = 'display_data';\n",
              "        await google.colab.output.renderOutput(dataTable, element);\n",
              "        const docLink = document.createElement('div');\n",
              "        docLink.innerHTML = docLinkHtml;\n",
              "        element.appendChild(docLink);\n",
              "      }\n",
              "    </script>\n",
              "  </div>\n",
              "\n",
              "\n",
              "    <div id=\"df-7f8c72d1-320b-477f-9a49-4b3e837962c8\">\n",
              "      <button class=\"colab-df-quickchart\" onclick=\"quickchart('df-7f8c72d1-320b-477f-9a49-4b3e837962c8')\"\n",
              "                title=\"Suggest charts\"\n",
              "                style=\"display:none;\">\n",
              "\n",
              "<svg xmlns=\"http://www.w3.org/2000/svg\" height=\"24px\"viewBox=\"0 0 24 24\"\n",
              "     width=\"24px\">\n",
              "    <g>\n",
              "        <path d=\"M19 3H5c-1.1 0-2 .9-2 2v14c0 1.1.9 2 2 2h14c1.1 0 2-.9 2-2V5c0-1.1-.9-2-2-2zM9 17H7v-7h2v7zm4 0h-2V7h2v10zm4 0h-2v-4h2v4z\"/>\n",
              "    </g>\n",
              "</svg>\n",
              "      </button>\n",
              "\n",
              "<style>\n",
              "  .colab-df-quickchart {\n",
              "      --bg-color: #E8F0FE;\n",
              "      --fill-color: #1967D2;\n",
              "      --hover-bg-color: #E2EBFA;\n",
              "      --hover-fill-color: #174EA6;\n",
              "      --disabled-fill-color: #AAA;\n",
              "      --disabled-bg-color: #DDD;\n",
              "  }\n",
              "\n",
              "  [theme=dark] .colab-df-quickchart {\n",
              "      --bg-color: #3B4455;\n",
              "      --fill-color: #D2E3FC;\n",
              "      --hover-bg-color: #434B5C;\n",
              "      --hover-fill-color: #FFFFFF;\n",
              "      --disabled-bg-color: #3B4455;\n",
              "      --disabled-fill-color: #666;\n",
              "  }\n",
              "\n",
              "  .colab-df-quickchart {\n",
              "    background-color: var(--bg-color);\n",
              "    border: none;\n",
              "    border-radius: 50%;\n",
              "    cursor: pointer;\n",
              "    display: none;\n",
              "    fill: var(--fill-color);\n",
              "    height: 32px;\n",
              "    padding: 0;\n",
              "    width: 32px;\n",
              "  }\n",
              "\n",
              "  .colab-df-quickchart:hover {\n",
              "    background-color: var(--hover-bg-color);\n",
              "    box-shadow: 0 1px 2px rgba(60, 64, 67, 0.3), 0 1px 3px 1px rgba(60, 64, 67, 0.15);\n",
              "    fill: var(--button-hover-fill-color);\n",
              "  }\n",
              "\n",
              "  .colab-df-quickchart-complete:disabled,\n",
              "  .colab-df-quickchart-complete:disabled:hover {\n",
              "    background-color: var(--disabled-bg-color);\n",
              "    fill: var(--disabled-fill-color);\n",
              "    box-shadow: none;\n",
              "  }\n",
              "\n",
              "  .colab-df-spinner {\n",
              "    border: 2px solid var(--fill-color);\n",
              "    border-color: transparent;\n",
              "    border-bottom-color: var(--fill-color);\n",
              "    animation:\n",
              "      spin 1s steps(1) infinite;\n",
              "  }\n",
              "\n",
              "  @keyframes spin {\n",
              "    0% {\n",
              "      border-color: transparent;\n",
              "      border-bottom-color: var(--fill-color);\n",
              "      border-left-color: var(--fill-color);\n",
              "    }\n",
              "    20% {\n",
              "      border-color: transparent;\n",
              "      border-left-color: var(--fill-color);\n",
              "      border-top-color: var(--fill-color);\n",
              "    }\n",
              "    30% {\n",
              "      border-color: transparent;\n",
              "      border-left-color: var(--fill-color);\n",
              "      border-top-color: var(--fill-color);\n",
              "      border-right-color: var(--fill-color);\n",
              "    }\n",
              "    40% {\n",
              "      border-color: transparent;\n",
              "      border-right-color: var(--fill-color);\n",
              "      border-top-color: var(--fill-color);\n",
              "    }\n",
              "    60% {\n",
              "      border-color: transparent;\n",
              "      border-right-color: var(--fill-color);\n",
              "    }\n",
              "    80% {\n",
              "      border-color: transparent;\n",
              "      border-right-color: var(--fill-color);\n",
              "      border-bottom-color: var(--fill-color);\n",
              "    }\n",
              "    90% {\n",
              "      border-color: transparent;\n",
              "      border-bottom-color: var(--fill-color);\n",
              "    }\n",
              "  }\n",
              "</style>\n",
              "\n",
              "      <script>\n",
              "        async function quickchart(key) {\n",
              "          const quickchartButtonEl =\n",
              "            document.querySelector('#' + key + ' button');\n",
              "          quickchartButtonEl.disabled = true;  // To prevent multiple clicks.\n",
              "          quickchartButtonEl.classList.add('colab-df-spinner');\n",
              "          try {\n",
              "            const charts = await google.colab.kernel.invokeFunction(\n",
              "                'suggestCharts', [key], {});\n",
              "          } catch (error) {\n",
              "            console.error('Error during call to suggestCharts:', error);\n",
              "          }\n",
              "          quickchartButtonEl.classList.remove('colab-df-spinner');\n",
              "          quickchartButtonEl.classList.add('colab-df-quickchart-complete');\n",
              "        }\n",
              "        (() => {\n",
              "          let quickchartButtonEl =\n",
              "            document.querySelector('#df-7f8c72d1-320b-477f-9a49-4b3e837962c8 button');\n",
              "          quickchartButtonEl.style.display =\n",
              "            google.colab.kernel.accessAllowed ? 'block' : 'none';\n",
              "        })();\n",
              "      </script>\n",
              "    </div>\n",
              "\n",
              "    </div>\n",
              "  </div>\n"
            ],
            "application/vnd.google.colaboratory.intrinsic+json": {
              "type": "dataframe",
              "variable_name": "data"
            }
          },
          "metadata": {},
          "execution_count": 173
        }
      ]
    },
    {
      "cell_type": "code",
      "source": [
        "print(data.columns)\n",
        "print('There are ' + str(len(data.columns)) + ' columns in dataset')\n",
        "print('There are ' + str(len(data)) + ' houses in dataset')"
      ],
      "metadata": {
        "colab": {
          "base_uri": "https://localhost:8080/"
        },
        "id": "GyPdJ1DeCbZi",
        "outputId": "1fd0a272-7031-46aa-b67c-5be2cec381bd"
      },
      "execution_count": null,
      "outputs": [
        {
          "output_type": "stream",
          "name": "stdout",
          "text": [
            "Index(['Order', 'PID', 'MS SubClass', 'MS Zoning', 'Lot Frontage', 'Lot Area',\n",
            "       'Street', 'Alley', 'Lot Shape', 'Land Contour', 'Utilities',\n",
            "       'Lot Config', 'Land Slope', 'Neighborhood', 'Condition 1',\n",
            "       'Condition 2', 'Bldg Type', 'House Style', 'Overall Qual',\n",
            "       'Overall Cond', 'Year Built', 'Year Remod/Add', 'Roof Style',\n",
            "       'Roof Matl', 'Exterior 1st', 'Exterior 2nd', 'Mas Vnr Type',\n",
            "       'Mas Vnr Area', 'Exter Qual', 'Exter Cond', 'Foundation', 'Bsmt Qual',\n",
            "       'Bsmt Cond', 'Bsmt Exposure', 'BsmtFin Type 1', 'BsmtFin SF 1',\n",
            "       'BsmtFin Type 2', 'BsmtFin SF 2', 'Bsmt Unf SF', 'Total Bsmt SF',\n",
            "       'Heating', 'Heating QC', 'Central Air', 'Electrical', '1st Flr SF',\n",
            "       '2nd Flr SF', 'Low Qual Fin SF', 'Gr Liv Area', 'Bsmt Full Bath',\n",
            "       'Bsmt Half Bath', 'Full Bath', 'Half Bath', 'Bedroom AbvGr',\n",
            "       'Kitchen AbvGr', 'Kitchen Qual', 'TotRms AbvGrd', 'Functional',\n",
            "       'Fireplaces', 'Fireplace Qu', 'Garage Type', 'Garage Yr Blt',\n",
            "       'Garage Finish', 'Garage Cars', 'Garage Area', 'Garage Qual',\n",
            "       'Garage Cond', 'Paved Drive', 'Wood Deck SF', 'Open Porch SF',\n",
            "       'Enclosed Porch', '3Ssn Porch', 'Screen Porch', 'Pool Area', 'Pool QC',\n",
            "       'Fence', 'Misc Feature', 'Misc Val', 'Mo Sold', 'Yr Sold', 'Sale Type',\n",
            "       'Sale Condition', 'SalePrice'],\n",
            "      dtype='object')\n",
            "There are 82 columns in dataset\n",
            "There are 2930 houses in dataset\n"
          ]
        }
      ]
    },
    {
      "cell_type": "code",
      "source": [
        "# Sale price is our target variable\n",
        "# Check if there is any missing values\n",
        "rows_with_nulls = data.isnull().any(axis=1).sum()\n",
        "print(f\"\\nRows with at least one missing value: {rows_with_nulls}\")\n",
        "\n",
        "# Total number of rows\n",
        "print(f\"Total rows: {len(data)}\")\n",
        "\n",
        "# Percentage of rows affected\n",
        "print(f\"Percentage of rows with missing values: {rows_with_nulls / len(data) * 100:.2f}%\")\n"
      ],
      "metadata": {
        "colab": {
          "base_uri": "https://localhost:8080/"
        },
        "id": "LVr0-4ZmC3SV",
        "outputId": "96b1164f-5e89-4d07-9ad0-126d7ba83a6e"
      },
      "execution_count": null,
      "outputs": [
        {
          "output_type": "stream",
          "name": "stdout",
          "text": [
            "\n",
            "Rows with at least one missing value: 2930\n",
            "Total rows: 2930\n",
            "Percentage of rows with missing values: 100.00%\n"
          ]
        }
      ]
    },
    {
      "cell_type": "code",
      "source": [
        "# So every row has a missing value so we have to fill those things\n",
        "# Before that let's remove some outliers based on our target variable so we can have more accurate predictions\n",
        "import pandas as pd\n",
        "\n",
        "def drop_outliers_iqr(df, numeric_cols):\n",
        "    \"\"\"\n",
        "    Detects outliers using IQR method for numeric columns,\n",
        "    returns indexes of outliers, and drops them from the DataFrame.\n",
        "\n",
        "    Parameters:\n",
        "        df (pd.DataFrame): input DataFrame\n",
        "        numeric_cols (list): list of numeric column names to check for outliers\n",
        "\n",
        "    Returns:\n",
        "        cleaned_df (pd.DataFrame): DataFrame without outlier rows\n",
        "        outlier_indexes (set): set of indexes that were dropped\n",
        "    \"\"\"\n",
        "    outlier_indexes = set()\n",
        "\n",
        "    for col in numeric_cols:\n",
        "        Q1 = df[col].quantile(0.25)\n",
        "        Q3 = df[col].quantile(0.75)\n",
        "        IQR = Q3 - Q1\n",
        "        lower = Q1 - 1.5 * IQR\n",
        "        upper = Q3 + 1.5 * IQR\n",
        "\n",
        "        # Find outlier indexes for this column\n",
        "        outliers_col = df[(df[col] < lower) | (df[col] > upper)].index\n",
        "        outlier_indexes.update(outliers_col)\n",
        "\n",
        "    # Drop all outliers\n",
        "    cleaned_df = df.drop(index=outlier_indexes).reset_index(drop=True)\n",
        "\n",
        "    return cleaned_df, outlier_indexes\n",
        "\n",
        "# Example usage:\n",
        "data, outlier_idx = drop_outliers_iqr(data, ['SalePrice'])\n",
        "print(len(outlier_idx))\n",
        "print(f\"Number of outlier rows dropped: {len(outlier_idx)}\")\n",
        "print(\"Indexes of dropped rows:\", outlier_idx)\n",
        "print(\"Shape after dropping outliers:\", data.shape)\n"
      ],
      "metadata": {
        "colab": {
          "base_uri": "https://localhost:8080/"
        },
        "id": "ux_Bl-T_D1gx",
        "outputId": "ed099b90-b97c-4640-946b-e5e6f1c29dc4"
      },
      "execution_count": null,
      "outputs": [
        {
          "output_type": "stream",
          "name": "stdout",
          "text": [
            "137\n",
            "Number of outlier rows dropped: 137\n",
            "Indexes of dropped rows: {513, 1537, 521, 15, 17, 1559, 1050, 1051, 1052, 1053, 1055, 1056, 1057, 1058, 1059, 36, 1060, 38, 1063, 1064, 1067, 44, 1068, 46, 1070, 2096, 2097, 1074, 1587, 2099, 60, 65, 1102, 1105, 1106, 91, 1635, 1636, 1637, 1126, 1640, 1641, 1642, 2666, 1158, 1684, 1177, 1689, 1690, 1691, 1693, 1695, 1696, 1697, 1699, 1700, 1701, 2214, 1706, 1707, 1708, 1709, 2737, 2245, 1760, 1761, 1763, 1764, 2275, 1767, 1772, 1780, 1805, 2329, 2330, 2331, 2332, 2333, 2334, 2335, 2336, 2341, 321, 2883, 1860, 2379, 2380, 2382, 2384, 2901, 2902, 343, 2391, 2392, 347, 2395, 349, 2397, 2398, 2399, 2400, 366, 367, 2442, 2445, 2446, 1425, 1426, 2449, 2450, 2456, 2461, 421, 422, 423, 427, 429, 430, 431, 432, 433, 434, 436, 442, 956, 447, 448, 959, 456, 457, 968, 2522, 495, 497, 1010, 1012, 504}\n",
            "Shape after dropping outliers: (2793, 82)\n"
          ]
        }
      ]
    },
    {
      "cell_type": "code",
      "source": [
        "# Now with this new dataset, we can fill missing values\n",
        "numeric_cols = data.select_dtypes(include=[\"int64\", \"float64\"]).columns.tolist()\n",
        "categorical_cols = data.select_dtypes(include=[\"object\"]).columns.tolist()\n",
        "\n",
        "# filling numerical values with the median\n",
        "num_imputer = SimpleImputer(strategy=\"median\")\n",
        "data[numeric_cols] = num_imputer.fit_transform(data[numeric_cols])\n",
        "\n",
        "# filling categorical values as missing to discover if missing value has a predictive power\n",
        "cat_imputer = SimpleImputer(strategy=\"constant\", fill_value=\"Missing\")\n",
        "data[categorical_cols] = cat_imputer.fit_transform(data[categorical_cols])\n",
        "\n",
        "print(\"Missing values per column after imputation:\")\n",
        "print(data.isnull().sum().sum())  # should be 0"
      ],
      "metadata": {
        "colab": {
          "base_uri": "https://localhost:8080/"
        },
        "id": "w6riGCx7F-qW",
        "outputId": "2bd334a9-c9da-4731-eda6-f6e7a1fd86b9"
      },
      "execution_count": null,
      "outputs": [
        {
          "output_type": "stream",
          "name": "stdout",
          "text": [
            "Missing values per column after imputation:\n",
            "0\n"
          ]
        }
      ]
    },
    {
      "cell_type": "code",
      "source": [
        "# setting target and feature variables\n",
        "y = data[\"SalePrice\"]\n",
        "X = data.drop(\"SalePrice\", axis=1)"
      ],
      "metadata": {
        "id": "BF3SOwP7I3nr"
      },
      "execution_count": null,
      "outputs": []
    },
    {
      "cell_type": "code",
      "source": [
        "categorical_cols = X.select_dtypes(include=[\"object\"]).columns.tolist()\n",
        "\n",
        "# One-hot encode all categorical features\n",
        "ohe = OneHotEncoder(sparse_output=False, handle_unknown=\"ignore\")\n",
        "X_ohe = pd.DataFrame(\n",
        "    ohe.fit_transform(X[categorical_cols]),\n",
        "    columns=ohe.get_feature_names_out(categorical_cols),\n",
        "    index=X.index\n",
        ")\n",
        "\n",
        "# Drop original categorical columns and add one-hot encoded columns\n",
        "X_numeric = X.drop(categorical_cols, axis=1)\n",
        "X_final = pd.concat([X_numeric, X_ohe], axis=1)\n",
        "\n",
        "X = X_final\n",
        "print(\"Shape after one-hot encoding all categorical features:\", X.shape)\n"
      ],
      "metadata": {
        "colab": {
          "base_uri": "https://localhost:8080/"
        },
        "id": "mySUgZWOH-Fa",
        "outputId": "edd8490f-892b-4baf-b0c8-582815cec3b9"
      },
      "execution_count": null,
      "outputs": [
        {
          "output_type": "stream",
          "name": "stdout",
          "text": [
            "Shape after one-hot encoding all categorical features: (2793, 321)\n"
          ]
        }
      ]
    },
    {
      "cell_type": "code",
      "source": [
        "numeric_to_scale = ['Lot Frontage', 'Lot Area', 'Overall Qual',\n",
        "       'Mas Vnr Area', 'BsmtFin SF 1','BsmtFin SF 2', 'Bsmt Unf SF', 'Total Bsmt SF', '1st Flr SF',\n",
        "       '2nd Flr SF', 'Low Qual Fin SF', 'Gr Liv Area', 'Bsmt Full Bath',\n",
        "       'Bsmt Half Bath', 'Full Bath', 'Half Bath', 'Bedroom AbvGr',\n",
        "       'Kitchen AbvGr', 'TotRms AbvGrd','Fireplaces', 'Garage Cars', 'Garage Area', 'Wood Deck SF', 'Open Porch SF',\n",
        "       'Enclosed Porch', '3Ssn Porch', 'Screen Porch', 'Pool Area', 'Misc Val']\n",
        "\n",
        "scaler = StandardScaler()\n",
        "X[numeric_to_scale] = scaler.fit_transform(X[numeric_to_scale])"
      ],
      "metadata": {
        "id": "J3JGyI9YMAvr"
      },
      "execution_count": null,
      "outputs": []
    },
    {
      "cell_type": "code",
      "source": [
        "X.columns"
      ],
      "metadata": {
        "colab": {
          "base_uri": "https://localhost:8080/"
        },
        "id": "2roy7WmdSNFb",
        "outputId": "4bcfa3d4-72f6-47e8-bb94-2241c0b4b11a"
      },
      "execution_count": null,
      "outputs": [
        {
          "output_type": "execute_result",
          "data": {
            "text/plain": [
              "Index(['Order', 'PID', 'MS SubClass', 'Lot Frontage', 'Lot Area',\n",
              "       'Overall Qual', 'Overall Cond', 'Year Built', 'Year Remod/Add',\n",
              "       'Mas Vnr Area',\n",
              "       ...\n",
              "       'Sale Type_New', 'Sale Type_Oth', 'Sale Type_VWD', 'Sale Type_WD ',\n",
              "       'Sale Condition_Abnorml', 'Sale Condition_AdjLand',\n",
              "       'Sale Condition_Alloca', 'Sale Condition_Family',\n",
              "       'Sale Condition_Normal', 'Sale Condition_Partial'],\n",
              "      dtype='object', length=321)"
            ]
          },
          "metadata": {},
          "execution_count": 181
        }
      ]
    },
    {
      "cell_type": "code",
      "source": [
        "# let's remove some columns which does not hold any predictive power\n",
        "columns_to_drop = ['Order', 'PID']  # add more if needed\n",
        "X = X.drop(columns=columns_to_drop)\n",
        "print(\"Shape after dropping columns:\", X.shape)"
      ],
      "metadata": {
        "colab": {
          "base_uri": "https://localhost:8080/"
        },
        "id": "c56Dp_27R3cC",
        "outputId": "82c4f0f1-8d7b-4176-a454-a5cd3bcd1099"
      },
      "execution_count": null,
      "outputs": [
        {
          "output_type": "stream",
          "name": "stdout",
          "text": [
            "Shape after dropping columns: (2793, 319)\n"
          ]
        }
      ]
    },
    {
      "cell_type": "code",
      "source": [
        "# check that if any column has zero variance\n",
        "variance = X.var()\n",
        "zero_variance_cols = variance[variance == 0].index.tolist()\n",
        "\n",
        "print(\"Columns with zero variance:\", zero_variance_cols)"
      ],
      "metadata": {
        "colab": {
          "base_uri": "https://localhost:8080/"
        },
        "id": "OOu6h9MrSXHP",
        "outputId": "c41d5bd2-d085-491e-fe6d-df5f86504f95"
      },
      "execution_count": null,
      "outputs": [
        {
          "output_type": "stream",
          "name": "stdout",
          "text": [
            "Columns with zero variance: []\n"
          ]
        }
      ]
    },
    {
      "cell_type": "code",
      "source": [
        "X_train, X_test, y_train, y_test = train_test_split(\n",
        "    X, y, test_size=0.2, random_state=42\n",
        ")\n",
        "\n",
        "print(\"Training set shape:\", X_train.shape)\n",
        "print(\"Test set shape:\", X_test.shape)"
      ],
      "metadata": {
        "colab": {
          "base_uri": "https://localhost:8080/"
        },
        "id": "5-rY4wqdSm_m",
        "outputId": "4430489e-5bea-4719-bf3e-5e5987208bf5"
      },
      "execution_count": null,
      "outputs": [
        {
          "output_type": "stream",
          "name": "stdout",
          "text": [
            "Training set shape: (2234, 319)\n",
            "Test set shape: (559, 319)\n"
          ]
        }
      ]
    },
    {
      "cell_type": "markdown",
      "source": [
        "# Training Linear Regression"
      ],
      "metadata": {
        "id": "JpLVyGR1Ukn2"
      }
    },
    {
      "cell_type": "code",
      "source": [
        "from sklearn.linear_model import LinearRegression\n",
        "from sklearn.metrics import mean_absolute_error, mean_squared_error, r2_score\n",
        "import numpy as np\n",
        "\n",
        "# Initialize model\n",
        "lr_model = LinearRegression()\n",
        "\n",
        "# Train on training set\n",
        "lr_model.fit(X_train, y_train)\n",
        "\n",
        "# Predict on training and test sets\n",
        "y_train_pred = lr_model.predict(X_train)\n",
        "y_test_pred = lr_model.predict(X_test)\n",
        "\n",
        "def evaluate(y_true, y_pred, dataset_name=\"Dataset\"):\n",
        "    mae = mean_absolute_error(y_true, y_pred)\n",
        "    rmse = np.sqrt(mean_squared_error(y_true, y_pred))\n",
        "    r2 = r2_score(y_true, y_pred)\n",
        "    print(f\"{dataset_name} Evaluation:\")\n",
        "    print(f\"  MAE: {mae:.2f}\")\n",
        "    print(f\"  RMSE: {rmse:.2f}\")\n",
        "    print(f\"  R²: {r2:.4f}\")\n",
        "    print(\"----------------------------\")\n",
        "\n",
        "# Training performance\n",
        "evaluate(y_train, y_train_pred, \"Training\")\n",
        "\n",
        "# Test performance\n",
        "evaluate(y_test, y_test_pred, \"Test\")\n"
      ],
      "metadata": {
        "colab": {
          "base_uri": "https://localhost:8080/"
        },
        "id": "BMzy-nhqUpVw",
        "outputId": "7f03bcc5-dd0c-4a40-9702-3bdd3392b895"
      },
      "execution_count": null,
      "outputs": [
        {
          "output_type": "stream",
          "name": "stdout",
          "text": [
            "Training Evaluation:\n",
            "  MAE: 10946.99\n",
            "  RMSE: 15707.15\n",
            "  R²: 0.9278\n",
            "----------------------------\n",
            "Test Evaluation:\n",
            "  MAE: 13829.68\n",
            "  RMSE: 26345.10\n",
            "  R²: 0.8134\n",
            "----------------------------\n"
          ]
        }
      ]
    }
  ]
}