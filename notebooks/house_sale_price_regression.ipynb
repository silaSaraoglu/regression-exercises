{
  "nbformat": 4,
  "nbformat_minor": 0,
  "metadata": {
    "colab": {
      "provenance": [],
      "collapsed_sections": [
        "u-FxgE3HCKoc",
        "JpLVyGR1Ukn2",
        "zPIO29GiX3gQ",
        "jo9NjaU4cXXg",
        "TFFYlPLNeuuO",
        "H-wAbRx9gc1b",
        "kMex6tETjAic"
      ]
    },
    "kernelspec": {
      "name": "python3",
      "display_name": "Python 3"
    },
    "language_info": {
      "name": "python"
    }
  },
  "cells": [
    {
      "cell_type": "code",
      "source": [
        "# imports\n",
        "import pandas as pd\n",
        "from sklearn.impute import SimpleImputer\n",
        "from sklearn.preprocessing import OneHotEncoder, StandardScaler, PolynomialFeatures\n",
        "from sklearn.model_selection import train_test_split, cross_val_score, GridSearchCV\n",
        "\n",
        "# model imports\n",
        "from sklearn.linear_model import LinearRegression, RidgeCV, LassoCV\n",
        "from sklearn.metrics import mean_absolute_error, mean_squared_error, r2_score\n",
        "import numpy as np\n",
        "from numpy import hstack\n",
        "import matplotlib.pyplot as plt\n",
        "from sklearn.tree import DecisionTreeRegressor\n",
        "from sklearn.ensemble import RandomForestRegressor, GradientBoostingRegressor, StackingRegressor\n",
        "import xgboost as xgb\n"
      ],
      "metadata": {
        "id": "qCZxpXiHBgDC"
      },
      "execution_count": 196,
      "outputs": []
    },
    {
      "cell_type": "code",
      "source": [
        "# load dataset\n",
        "data = pd.read_csv(\"AmesHousing.csv\")"
      ],
      "metadata": {
        "id": "sLocK2YDBm7T"
      },
      "execution_count": 135,
      "outputs": []
    },
    {
      "cell_type": "markdown",
      "source": [
        "# Preprocessing dataset"
      ],
      "metadata": {
        "id": "u-FxgE3HCKoc"
      }
    },
    {
      "cell_type": "code",
      "source": [
        "data.head()"
      ],
      "metadata": {
        "colab": {
          "base_uri": "https://localhost:8080/",
          "height": 273
        },
        "id": "5q5eX9NjCOUD",
        "outputId": "64d1a15a-101c-405a-8d1e-0322ce97af7b"
      },
      "execution_count": 136,
      "outputs": [
        {
          "output_type": "execute_result",
          "data": {
            "text/plain": [
              "   Order        PID  MS SubClass MS Zoning  Lot Frontage  Lot Area Street  \\\n",
              "0      1  526301100           20        RL         141.0     31770   Pave   \n",
              "1      2  526350040           20        RH          80.0     11622   Pave   \n",
              "2      3  526351010           20        RL          81.0     14267   Pave   \n",
              "3      4  526353030           20        RL          93.0     11160   Pave   \n",
              "4      5  527105010           60        RL          74.0     13830   Pave   \n",
              "\n",
              "  Alley Lot Shape Land Contour  ... Pool Area Pool QC  Fence Misc Feature  \\\n",
              "0   NaN       IR1          Lvl  ...         0     NaN    NaN          NaN   \n",
              "1   NaN       Reg          Lvl  ...         0     NaN  MnPrv          NaN   \n",
              "2   NaN       IR1          Lvl  ...         0     NaN    NaN         Gar2   \n",
              "3   NaN       Reg          Lvl  ...         0     NaN    NaN          NaN   \n",
              "4   NaN       IR1          Lvl  ...         0     NaN  MnPrv          NaN   \n",
              "\n",
              "  Misc Val Mo Sold Yr Sold Sale Type  Sale Condition  SalePrice  \n",
              "0        0       5    2010       WD           Normal     215000  \n",
              "1        0       6    2010       WD           Normal     105000  \n",
              "2    12500       6    2010       WD           Normal     172000  \n",
              "3        0       4    2010       WD           Normal     244000  \n",
              "4        0       3    2010       WD           Normal     189900  \n",
              "\n",
              "[5 rows x 82 columns]"
            ],
            "text/html": [
              "\n",
              "  <div id=\"df-b439f16e-8d2d-4bdb-8eb1-d149ffd08093\" class=\"colab-df-container\">\n",
              "    <div>\n",
              "<style scoped>\n",
              "    .dataframe tbody tr th:only-of-type {\n",
              "        vertical-align: middle;\n",
              "    }\n",
              "\n",
              "    .dataframe tbody tr th {\n",
              "        vertical-align: top;\n",
              "    }\n",
              "\n",
              "    .dataframe thead th {\n",
              "        text-align: right;\n",
              "    }\n",
              "</style>\n",
              "<table border=\"1\" class=\"dataframe\">\n",
              "  <thead>\n",
              "    <tr style=\"text-align: right;\">\n",
              "      <th></th>\n",
              "      <th>Order</th>\n",
              "      <th>PID</th>\n",
              "      <th>MS SubClass</th>\n",
              "      <th>MS Zoning</th>\n",
              "      <th>Lot Frontage</th>\n",
              "      <th>Lot Area</th>\n",
              "      <th>Street</th>\n",
              "      <th>Alley</th>\n",
              "      <th>Lot Shape</th>\n",
              "      <th>Land Contour</th>\n",
              "      <th>...</th>\n",
              "      <th>Pool Area</th>\n",
              "      <th>Pool QC</th>\n",
              "      <th>Fence</th>\n",
              "      <th>Misc Feature</th>\n",
              "      <th>Misc Val</th>\n",
              "      <th>Mo Sold</th>\n",
              "      <th>Yr Sold</th>\n",
              "      <th>Sale Type</th>\n",
              "      <th>Sale Condition</th>\n",
              "      <th>SalePrice</th>\n",
              "    </tr>\n",
              "  </thead>\n",
              "  <tbody>\n",
              "    <tr>\n",
              "      <th>0</th>\n",
              "      <td>1</td>\n",
              "      <td>526301100</td>\n",
              "      <td>20</td>\n",
              "      <td>RL</td>\n",
              "      <td>141.0</td>\n",
              "      <td>31770</td>\n",
              "      <td>Pave</td>\n",
              "      <td>NaN</td>\n",
              "      <td>IR1</td>\n",
              "      <td>Lvl</td>\n",
              "      <td>...</td>\n",
              "      <td>0</td>\n",
              "      <td>NaN</td>\n",
              "      <td>NaN</td>\n",
              "      <td>NaN</td>\n",
              "      <td>0</td>\n",
              "      <td>5</td>\n",
              "      <td>2010</td>\n",
              "      <td>WD</td>\n",
              "      <td>Normal</td>\n",
              "      <td>215000</td>\n",
              "    </tr>\n",
              "    <tr>\n",
              "      <th>1</th>\n",
              "      <td>2</td>\n",
              "      <td>526350040</td>\n",
              "      <td>20</td>\n",
              "      <td>RH</td>\n",
              "      <td>80.0</td>\n",
              "      <td>11622</td>\n",
              "      <td>Pave</td>\n",
              "      <td>NaN</td>\n",
              "      <td>Reg</td>\n",
              "      <td>Lvl</td>\n",
              "      <td>...</td>\n",
              "      <td>0</td>\n",
              "      <td>NaN</td>\n",
              "      <td>MnPrv</td>\n",
              "      <td>NaN</td>\n",
              "      <td>0</td>\n",
              "      <td>6</td>\n",
              "      <td>2010</td>\n",
              "      <td>WD</td>\n",
              "      <td>Normal</td>\n",
              "      <td>105000</td>\n",
              "    </tr>\n",
              "    <tr>\n",
              "      <th>2</th>\n",
              "      <td>3</td>\n",
              "      <td>526351010</td>\n",
              "      <td>20</td>\n",
              "      <td>RL</td>\n",
              "      <td>81.0</td>\n",
              "      <td>14267</td>\n",
              "      <td>Pave</td>\n",
              "      <td>NaN</td>\n",
              "      <td>IR1</td>\n",
              "      <td>Lvl</td>\n",
              "      <td>...</td>\n",
              "      <td>0</td>\n",
              "      <td>NaN</td>\n",
              "      <td>NaN</td>\n",
              "      <td>Gar2</td>\n",
              "      <td>12500</td>\n",
              "      <td>6</td>\n",
              "      <td>2010</td>\n",
              "      <td>WD</td>\n",
              "      <td>Normal</td>\n",
              "      <td>172000</td>\n",
              "    </tr>\n",
              "    <tr>\n",
              "      <th>3</th>\n",
              "      <td>4</td>\n",
              "      <td>526353030</td>\n",
              "      <td>20</td>\n",
              "      <td>RL</td>\n",
              "      <td>93.0</td>\n",
              "      <td>11160</td>\n",
              "      <td>Pave</td>\n",
              "      <td>NaN</td>\n",
              "      <td>Reg</td>\n",
              "      <td>Lvl</td>\n",
              "      <td>...</td>\n",
              "      <td>0</td>\n",
              "      <td>NaN</td>\n",
              "      <td>NaN</td>\n",
              "      <td>NaN</td>\n",
              "      <td>0</td>\n",
              "      <td>4</td>\n",
              "      <td>2010</td>\n",
              "      <td>WD</td>\n",
              "      <td>Normal</td>\n",
              "      <td>244000</td>\n",
              "    </tr>\n",
              "    <tr>\n",
              "      <th>4</th>\n",
              "      <td>5</td>\n",
              "      <td>527105010</td>\n",
              "      <td>60</td>\n",
              "      <td>RL</td>\n",
              "      <td>74.0</td>\n",
              "      <td>13830</td>\n",
              "      <td>Pave</td>\n",
              "      <td>NaN</td>\n",
              "      <td>IR1</td>\n",
              "      <td>Lvl</td>\n",
              "      <td>...</td>\n",
              "      <td>0</td>\n",
              "      <td>NaN</td>\n",
              "      <td>MnPrv</td>\n",
              "      <td>NaN</td>\n",
              "      <td>0</td>\n",
              "      <td>3</td>\n",
              "      <td>2010</td>\n",
              "      <td>WD</td>\n",
              "      <td>Normal</td>\n",
              "      <td>189900</td>\n",
              "    </tr>\n",
              "  </tbody>\n",
              "</table>\n",
              "<p>5 rows × 82 columns</p>\n",
              "</div>\n",
              "    <div class=\"colab-df-buttons\">\n",
              "\n",
              "  <div class=\"colab-df-container\">\n",
              "    <button class=\"colab-df-convert\" onclick=\"convertToInteractive('df-b439f16e-8d2d-4bdb-8eb1-d149ffd08093')\"\n",
              "            title=\"Convert this dataframe to an interactive table.\"\n",
              "            style=\"display:none;\">\n",
              "\n",
              "  <svg xmlns=\"http://www.w3.org/2000/svg\" height=\"24px\" viewBox=\"0 -960 960 960\">\n",
              "    <path d=\"M120-120v-720h720v720H120Zm60-500h600v-160H180v160Zm220 220h160v-160H400v160Zm0 220h160v-160H400v160ZM180-400h160v-160H180v160Zm440 0h160v-160H620v160ZM180-180h160v-160H180v160Zm440 0h160v-160H620v160Z\"/>\n",
              "  </svg>\n",
              "    </button>\n",
              "\n",
              "  <style>\n",
              "    .colab-df-container {\n",
              "      display:flex;\n",
              "      gap: 12px;\n",
              "    }\n",
              "\n",
              "    .colab-df-convert {\n",
              "      background-color: #E8F0FE;\n",
              "      border: none;\n",
              "      border-radius: 50%;\n",
              "      cursor: pointer;\n",
              "      display: none;\n",
              "      fill: #1967D2;\n",
              "      height: 32px;\n",
              "      padding: 0 0 0 0;\n",
              "      width: 32px;\n",
              "    }\n",
              "\n",
              "    .colab-df-convert:hover {\n",
              "      background-color: #E2EBFA;\n",
              "      box-shadow: 0px 1px 2px rgba(60, 64, 67, 0.3), 0px 1px 3px 1px rgba(60, 64, 67, 0.15);\n",
              "      fill: #174EA6;\n",
              "    }\n",
              "\n",
              "    .colab-df-buttons div {\n",
              "      margin-bottom: 4px;\n",
              "    }\n",
              "\n",
              "    [theme=dark] .colab-df-convert {\n",
              "      background-color: #3B4455;\n",
              "      fill: #D2E3FC;\n",
              "    }\n",
              "\n",
              "    [theme=dark] .colab-df-convert:hover {\n",
              "      background-color: #434B5C;\n",
              "      box-shadow: 0px 1px 3px 1px rgba(0, 0, 0, 0.15);\n",
              "      filter: drop-shadow(0px 1px 2px rgba(0, 0, 0, 0.3));\n",
              "      fill: #FFFFFF;\n",
              "    }\n",
              "  </style>\n",
              "\n",
              "    <script>\n",
              "      const buttonEl =\n",
              "        document.querySelector('#df-b439f16e-8d2d-4bdb-8eb1-d149ffd08093 button.colab-df-convert');\n",
              "      buttonEl.style.display =\n",
              "        google.colab.kernel.accessAllowed ? 'block' : 'none';\n",
              "\n",
              "      async function convertToInteractive(key) {\n",
              "        const element = document.querySelector('#df-b439f16e-8d2d-4bdb-8eb1-d149ffd08093');\n",
              "        const dataTable =\n",
              "          await google.colab.kernel.invokeFunction('convertToInteractive',\n",
              "                                                    [key], {});\n",
              "        if (!dataTable) return;\n",
              "\n",
              "        const docLinkHtml = 'Like what you see? Visit the ' +\n",
              "          '<a target=\"_blank\" href=https://colab.research.google.com/notebooks/data_table.ipynb>data table notebook</a>'\n",
              "          + ' to learn more about interactive tables.';\n",
              "        element.innerHTML = '';\n",
              "        dataTable['output_type'] = 'display_data';\n",
              "        await google.colab.output.renderOutput(dataTable, element);\n",
              "        const docLink = document.createElement('div');\n",
              "        docLink.innerHTML = docLinkHtml;\n",
              "        element.appendChild(docLink);\n",
              "      }\n",
              "    </script>\n",
              "  </div>\n",
              "\n",
              "\n",
              "    <div id=\"df-f25c9188-3cc0-4c94-a91c-e9a4a6f87ddd\">\n",
              "      <button class=\"colab-df-quickchart\" onclick=\"quickchart('df-f25c9188-3cc0-4c94-a91c-e9a4a6f87ddd')\"\n",
              "                title=\"Suggest charts\"\n",
              "                style=\"display:none;\">\n",
              "\n",
              "<svg xmlns=\"http://www.w3.org/2000/svg\" height=\"24px\"viewBox=\"0 0 24 24\"\n",
              "     width=\"24px\">\n",
              "    <g>\n",
              "        <path d=\"M19 3H5c-1.1 0-2 .9-2 2v14c0 1.1.9 2 2 2h14c1.1 0 2-.9 2-2V5c0-1.1-.9-2-2-2zM9 17H7v-7h2v7zm4 0h-2V7h2v10zm4 0h-2v-4h2v4z\"/>\n",
              "    </g>\n",
              "</svg>\n",
              "      </button>\n",
              "\n",
              "<style>\n",
              "  .colab-df-quickchart {\n",
              "      --bg-color: #E8F0FE;\n",
              "      --fill-color: #1967D2;\n",
              "      --hover-bg-color: #E2EBFA;\n",
              "      --hover-fill-color: #174EA6;\n",
              "      --disabled-fill-color: #AAA;\n",
              "      --disabled-bg-color: #DDD;\n",
              "  }\n",
              "\n",
              "  [theme=dark] .colab-df-quickchart {\n",
              "      --bg-color: #3B4455;\n",
              "      --fill-color: #D2E3FC;\n",
              "      --hover-bg-color: #434B5C;\n",
              "      --hover-fill-color: #FFFFFF;\n",
              "      --disabled-bg-color: #3B4455;\n",
              "      --disabled-fill-color: #666;\n",
              "  }\n",
              "\n",
              "  .colab-df-quickchart {\n",
              "    background-color: var(--bg-color);\n",
              "    border: none;\n",
              "    border-radius: 50%;\n",
              "    cursor: pointer;\n",
              "    display: none;\n",
              "    fill: var(--fill-color);\n",
              "    height: 32px;\n",
              "    padding: 0;\n",
              "    width: 32px;\n",
              "  }\n",
              "\n",
              "  .colab-df-quickchart:hover {\n",
              "    background-color: var(--hover-bg-color);\n",
              "    box-shadow: 0 1px 2px rgba(60, 64, 67, 0.3), 0 1px 3px 1px rgba(60, 64, 67, 0.15);\n",
              "    fill: var(--button-hover-fill-color);\n",
              "  }\n",
              "\n",
              "  .colab-df-quickchart-complete:disabled,\n",
              "  .colab-df-quickchart-complete:disabled:hover {\n",
              "    background-color: var(--disabled-bg-color);\n",
              "    fill: var(--disabled-fill-color);\n",
              "    box-shadow: none;\n",
              "  }\n",
              "\n",
              "  .colab-df-spinner {\n",
              "    border: 2px solid var(--fill-color);\n",
              "    border-color: transparent;\n",
              "    border-bottom-color: var(--fill-color);\n",
              "    animation:\n",
              "      spin 1s steps(1) infinite;\n",
              "  }\n",
              "\n",
              "  @keyframes spin {\n",
              "    0% {\n",
              "      border-color: transparent;\n",
              "      border-bottom-color: var(--fill-color);\n",
              "      border-left-color: var(--fill-color);\n",
              "    }\n",
              "    20% {\n",
              "      border-color: transparent;\n",
              "      border-left-color: var(--fill-color);\n",
              "      border-top-color: var(--fill-color);\n",
              "    }\n",
              "    30% {\n",
              "      border-color: transparent;\n",
              "      border-left-color: var(--fill-color);\n",
              "      border-top-color: var(--fill-color);\n",
              "      border-right-color: var(--fill-color);\n",
              "    }\n",
              "    40% {\n",
              "      border-color: transparent;\n",
              "      border-right-color: var(--fill-color);\n",
              "      border-top-color: var(--fill-color);\n",
              "    }\n",
              "    60% {\n",
              "      border-color: transparent;\n",
              "      border-right-color: var(--fill-color);\n",
              "    }\n",
              "    80% {\n",
              "      border-color: transparent;\n",
              "      border-right-color: var(--fill-color);\n",
              "      border-bottom-color: var(--fill-color);\n",
              "    }\n",
              "    90% {\n",
              "      border-color: transparent;\n",
              "      border-bottom-color: var(--fill-color);\n",
              "    }\n",
              "  }\n",
              "</style>\n",
              "\n",
              "      <script>\n",
              "        async function quickchart(key) {\n",
              "          const quickchartButtonEl =\n",
              "            document.querySelector('#' + key + ' button');\n",
              "          quickchartButtonEl.disabled = true;  // To prevent multiple clicks.\n",
              "          quickchartButtonEl.classList.add('colab-df-spinner');\n",
              "          try {\n",
              "            const charts = await google.colab.kernel.invokeFunction(\n",
              "                'suggestCharts', [key], {});\n",
              "          } catch (error) {\n",
              "            console.error('Error during call to suggestCharts:', error);\n",
              "          }\n",
              "          quickchartButtonEl.classList.remove('colab-df-spinner');\n",
              "          quickchartButtonEl.classList.add('colab-df-quickchart-complete');\n",
              "        }\n",
              "        (() => {\n",
              "          let quickchartButtonEl =\n",
              "            document.querySelector('#df-f25c9188-3cc0-4c94-a91c-e9a4a6f87ddd button');\n",
              "          quickchartButtonEl.style.display =\n",
              "            google.colab.kernel.accessAllowed ? 'block' : 'none';\n",
              "        })();\n",
              "      </script>\n",
              "    </div>\n",
              "\n",
              "    </div>\n",
              "  </div>\n"
            ],
            "application/vnd.google.colaboratory.intrinsic+json": {
              "type": "dataframe",
              "variable_name": "data"
            }
          },
          "metadata": {},
          "execution_count": 136
        }
      ]
    },
    {
      "cell_type": "code",
      "source": [
        "print(data.columns)\n",
        "print('There are ' + str(len(data.columns)) + ' columns in dataset')\n",
        "print('There are ' + str(len(data)) + ' houses in dataset')"
      ],
      "metadata": {
        "colab": {
          "base_uri": "https://localhost:8080/"
        },
        "id": "GyPdJ1DeCbZi",
        "outputId": "21b66fd7-d30a-4030-e852-52d4a1442f71"
      },
      "execution_count": 137,
      "outputs": [
        {
          "output_type": "stream",
          "name": "stdout",
          "text": [
            "Index(['Order', 'PID', 'MS SubClass', 'MS Zoning', 'Lot Frontage', 'Lot Area',\n",
            "       'Street', 'Alley', 'Lot Shape', 'Land Contour', 'Utilities',\n",
            "       'Lot Config', 'Land Slope', 'Neighborhood', 'Condition 1',\n",
            "       'Condition 2', 'Bldg Type', 'House Style', 'Overall Qual',\n",
            "       'Overall Cond', 'Year Built', 'Year Remod/Add', 'Roof Style',\n",
            "       'Roof Matl', 'Exterior 1st', 'Exterior 2nd', 'Mas Vnr Type',\n",
            "       'Mas Vnr Area', 'Exter Qual', 'Exter Cond', 'Foundation', 'Bsmt Qual',\n",
            "       'Bsmt Cond', 'Bsmt Exposure', 'BsmtFin Type 1', 'BsmtFin SF 1',\n",
            "       'BsmtFin Type 2', 'BsmtFin SF 2', 'Bsmt Unf SF', 'Total Bsmt SF',\n",
            "       'Heating', 'Heating QC', 'Central Air', 'Electrical', '1st Flr SF',\n",
            "       '2nd Flr SF', 'Low Qual Fin SF', 'Gr Liv Area', 'Bsmt Full Bath',\n",
            "       'Bsmt Half Bath', 'Full Bath', 'Half Bath', 'Bedroom AbvGr',\n",
            "       'Kitchen AbvGr', 'Kitchen Qual', 'TotRms AbvGrd', 'Functional',\n",
            "       'Fireplaces', 'Fireplace Qu', 'Garage Type', 'Garage Yr Blt',\n",
            "       'Garage Finish', 'Garage Cars', 'Garage Area', 'Garage Qual',\n",
            "       'Garage Cond', 'Paved Drive', 'Wood Deck SF', 'Open Porch SF',\n",
            "       'Enclosed Porch', '3Ssn Porch', 'Screen Porch', 'Pool Area', 'Pool QC',\n",
            "       'Fence', 'Misc Feature', 'Misc Val', 'Mo Sold', 'Yr Sold', 'Sale Type',\n",
            "       'Sale Condition', 'SalePrice'],\n",
            "      dtype='object')\n",
            "There are 82 columns in dataset\n",
            "There are 2930 houses in dataset\n"
          ]
        }
      ]
    },
    {
      "cell_type": "code",
      "source": [
        "# Sale price is our target variable\n",
        "# Check if there is any missing values\n",
        "rows_with_nulls = data.isnull().any(axis=1).sum()\n",
        "print(f\"\\nRows with at least one missing value: {rows_with_nulls}\")\n",
        "\n",
        "# Total number of rows\n",
        "print(f\"Total rows: {len(data)}\")\n",
        "\n",
        "# Percentage of rows affected\n",
        "print(f\"Percentage of rows with missing values: {rows_with_nulls / len(data) * 100:.2f}%\")\n"
      ],
      "metadata": {
        "colab": {
          "base_uri": "https://localhost:8080/"
        },
        "id": "LVr0-4ZmC3SV",
        "outputId": "473aba1d-0358-4e55-ae72-58fbd92995f0"
      },
      "execution_count": 138,
      "outputs": [
        {
          "output_type": "stream",
          "name": "stdout",
          "text": [
            "\n",
            "Rows with at least one missing value: 2930\n",
            "Total rows: 2930\n",
            "Percentage of rows with missing values: 100.00%\n"
          ]
        }
      ]
    },
    {
      "cell_type": "code",
      "source": [
        "# So every row has a missing value so we have to fill those things\n",
        "# Before that let's remove some outliers based on our target variable so we can have more accurate predictions\n",
        "import pandas as pd\n",
        "\n",
        "def drop_outliers_iqr(df, numeric_cols):\n",
        "    \"\"\"\n",
        "    Detects outliers using IQR method for numeric columns,\n",
        "    returns indexes of outliers, and drops them from the DataFrame.\n",
        "\n",
        "    Parameters:\n",
        "        df (pd.DataFrame): input DataFrame\n",
        "        numeric_cols (list): list of numeric column names to check for outliers\n",
        "\n",
        "    Returns:\n",
        "        cleaned_df (pd.DataFrame): DataFrame without outlier rows\n",
        "        outlier_indexes (set): set of indexes that were dropped\n",
        "    \"\"\"\n",
        "    outlier_indexes = set()\n",
        "\n",
        "    for col in numeric_cols:\n",
        "        Q1 = df[col].quantile(0.25)\n",
        "        Q3 = df[col].quantile(0.75)\n",
        "        IQR = Q3 - Q1\n",
        "        lower = Q1 - 1.5 * IQR\n",
        "        upper = Q3 + 1.5 * IQR\n",
        "\n",
        "        # Find outlier indexes for this column\n",
        "        outliers_col = df[(df[col] < lower) | (df[col] > upper)].index\n",
        "        outlier_indexes.update(outliers_col)\n",
        "\n",
        "    # Drop all outliers\n",
        "    cleaned_df = df.drop(index=outlier_indexes).reset_index(drop=True)\n",
        "\n",
        "    return cleaned_df, outlier_indexes\n",
        "\n",
        "# Example usage:\n",
        "data, outlier_idx = drop_outliers_iqr(data, ['SalePrice'])\n",
        "print(len(outlier_idx))\n",
        "print(f\"Number of outlier rows dropped: {len(outlier_idx)}\")\n",
        "print(\"Indexes of dropped rows:\", outlier_idx)\n",
        "print(\"Shape after dropping outliers:\", data.shape)\n"
      ],
      "metadata": {
        "colab": {
          "base_uri": "https://localhost:8080/"
        },
        "id": "ux_Bl-T_D1gx",
        "outputId": "24ee771d-bf4e-4d63-b704-536cff1974d4"
      },
      "execution_count": 139,
      "outputs": [
        {
          "output_type": "stream",
          "name": "stdout",
          "text": [
            "137\n",
            "Number of outlier rows dropped: 137\n",
            "Indexes of dropped rows: {513, 1537, 521, 15, 17, 1559, 1050, 1051, 1052, 1053, 1055, 1056, 1057, 1058, 1059, 36, 1060, 38, 1063, 1064, 1067, 44, 1068, 46, 1070, 2096, 2097, 1074, 1587, 2099, 60, 65, 1102, 1105, 1106, 91, 1635, 1636, 1637, 1126, 1640, 1641, 1642, 2666, 1158, 1684, 1177, 1689, 1690, 1691, 1693, 1695, 1696, 1697, 1699, 1700, 1701, 2214, 1706, 1707, 1708, 1709, 2737, 2245, 1760, 1761, 1763, 1764, 2275, 1767, 1772, 1780, 1805, 2329, 2330, 2331, 2332, 2333, 2334, 2335, 2336, 2341, 321, 2883, 1860, 2379, 2380, 2382, 2384, 2901, 2902, 343, 2391, 2392, 347, 2395, 349, 2397, 2398, 2399, 2400, 366, 367, 2442, 2445, 2446, 1425, 1426, 2449, 2450, 2456, 2461, 421, 422, 423, 427, 429, 430, 431, 432, 433, 434, 436, 442, 956, 447, 448, 959, 456, 457, 968, 2522, 495, 497, 1010, 1012, 504}\n",
            "Shape after dropping outliers: (2793, 82)\n"
          ]
        }
      ]
    },
    {
      "cell_type": "code",
      "source": [
        "# Now with this new dataset, we can fill missing values\n",
        "numeric_cols = data.select_dtypes(include=[\"int64\", \"float64\"]).columns.tolist()\n",
        "categorical_cols = data.select_dtypes(include=[\"object\"]).columns.tolist()\n",
        "\n",
        "# filling numerical values with the median\n",
        "num_imputer = SimpleImputer(strategy=\"median\")\n",
        "data[numeric_cols] = num_imputer.fit_transform(data[numeric_cols])\n",
        "\n",
        "# filling categorical values as missing to discover if missing value has a predictive power\n",
        "cat_imputer = SimpleImputer(strategy=\"constant\", fill_value=\"Missing\")\n",
        "data[categorical_cols] = cat_imputer.fit_transform(data[categorical_cols])\n",
        "\n",
        "print(\"Missing values per column after imputation:\")\n",
        "print(data.isnull().sum().sum())  # should be 0"
      ],
      "metadata": {
        "colab": {
          "base_uri": "https://localhost:8080/"
        },
        "id": "w6riGCx7F-qW",
        "outputId": "fd896689-56e6-44ac-d8d0-05ac14fcd976"
      },
      "execution_count": 140,
      "outputs": [
        {
          "output_type": "stream",
          "name": "stdout",
          "text": [
            "Missing values per column after imputation:\n",
            "0\n"
          ]
        }
      ]
    },
    {
      "cell_type": "code",
      "source": [
        "# setting target and feature variables\n",
        "y = data[\"SalePrice\"]\n",
        "X = data.drop(\"SalePrice\", axis=1)"
      ],
      "metadata": {
        "id": "BF3SOwP7I3nr"
      },
      "execution_count": 141,
      "outputs": []
    },
    {
      "cell_type": "code",
      "source": [
        "categorical_cols = X.select_dtypes(include=[\"object\"]).columns.tolist()\n",
        "\n",
        "# One-hot encode all categorical features\n",
        "ohe = OneHotEncoder(sparse_output=False, handle_unknown=\"ignore\")\n",
        "X_ohe = pd.DataFrame(\n",
        "    ohe.fit_transform(X[categorical_cols]),\n",
        "    columns=ohe.get_feature_names_out(categorical_cols),\n",
        "    index=X.index\n",
        ")\n",
        "\n",
        "# Drop original categorical columns and add one-hot encoded columns\n",
        "X_numeric = X.drop(categorical_cols, axis=1)\n",
        "X_final = pd.concat([X_numeric, X_ohe], axis=1)\n",
        "\n",
        "X = X_final\n",
        "print(\"Shape after one-hot encoding all categorical features:\", X.shape)\n"
      ],
      "metadata": {
        "colab": {
          "base_uri": "https://localhost:8080/"
        },
        "id": "mySUgZWOH-Fa",
        "outputId": "9da4dd6c-1288-4b8d-abda-d78b7885201e"
      },
      "execution_count": 142,
      "outputs": [
        {
          "output_type": "stream",
          "name": "stdout",
          "text": [
            "Shape after one-hot encoding all categorical features: (2793, 321)\n"
          ]
        }
      ]
    },
    {
      "cell_type": "code",
      "source": [
        "numeric_to_scale = ['Lot Frontage', 'Lot Area', 'Overall Qual',\n",
        "       'Mas Vnr Area', 'BsmtFin SF 1','BsmtFin SF 2', 'Bsmt Unf SF', 'Total Bsmt SF', '1st Flr SF',\n",
        "       '2nd Flr SF', 'Low Qual Fin SF', 'Gr Liv Area', 'Bsmt Full Bath',\n",
        "       'Bsmt Half Bath', 'Full Bath', 'Half Bath', 'Bedroom AbvGr',\n",
        "       'Kitchen AbvGr', 'TotRms AbvGrd','Fireplaces', 'Garage Cars', 'Garage Area', 'Wood Deck SF', 'Open Porch SF',\n",
        "       'Enclosed Porch', '3Ssn Porch', 'Screen Porch', 'Pool Area', 'Misc Val']\n",
        "\n",
        "scaler = StandardScaler()\n",
        "X[numeric_to_scale] = scaler.fit_transform(X[numeric_to_scale])"
      ],
      "metadata": {
        "id": "J3JGyI9YMAvr"
      },
      "execution_count": 143,
      "outputs": []
    },
    {
      "cell_type": "code",
      "source": [
        "X.columns"
      ],
      "metadata": {
        "colab": {
          "base_uri": "https://localhost:8080/"
        },
        "id": "2roy7WmdSNFb",
        "outputId": "6e5699b3-2709-4521-8b1e-565715a9e37f"
      },
      "execution_count": 144,
      "outputs": [
        {
          "output_type": "execute_result",
          "data": {
            "text/plain": [
              "Index(['Order', 'PID', 'MS SubClass', 'Lot Frontage', 'Lot Area',\n",
              "       'Overall Qual', 'Overall Cond', 'Year Built', 'Year Remod/Add',\n",
              "       'Mas Vnr Area',\n",
              "       ...\n",
              "       'Sale Type_New', 'Sale Type_Oth', 'Sale Type_VWD', 'Sale Type_WD ',\n",
              "       'Sale Condition_Abnorml', 'Sale Condition_AdjLand',\n",
              "       'Sale Condition_Alloca', 'Sale Condition_Family',\n",
              "       'Sale Condition_Normal', 'Sale Condition_Partial'],\n",
              "      dtype='object', length=321)"
            ]
          },
          "metadata": {},
          "execution_count": 144
        }
      ]
    },
    {
      "cell_type": "code",
      "source": [
        "# let's remove some columns which does not hold any predictive power\n",
        "columns_to_drop = ['Order', 'PID']  # add more if needed\n",
        "X = X.drop(columns=columns_to_drop)\n",
        "print(\"Shape after dropping columns:\", X.shape)"
      ],
      "metadata": {
        "colab": {
          "base_uri": "https://localhost:8080/"
        },
        "id": "c56Dp_27R3cC",
        "outputId": "6ea75865-a2b3-452a-8985-a9a48b0f1cf5"
      },
      "execution_count": 145,
      "outputs": [
        {
          "output_type": "stream",
          "name": "stdout",
          "text": [
            "Shape after dropping columns: (2793, 319)\n"
          ]
        }
      ]
    },
    {
      "cell_type": "code",
      "source": [
        "# check that if any column has zero variance\n",
        "variance = X.var()\n",
        "zero_variance_cols = variance[variance == 0].index.tolist()\n",
        "\n",
        "print(\"Columns with zero variance:\", zero_variance_cols)"
      ],
      "metadata": {
        "colab": {
          "base_uri": "https://localhost:8080/"
        },
        "id": "OOu6h9MrSXHP",
        "outputId": "5ae1a5a3-c560-4e22-fe83-7197ff6bdf23"
      },
      "execution_count": 146,
      "outputs": [
        {
          "output_type": "stream",
          "name": "stdout",
          "text": [
            "Columns with zero variance: []\n"
          ]
        }
      ]
    },
    {
      "cell_type": "code",
      "source": [
        "X_train, X_test, y_train, y_test = train_test_split(\n",
        "    X, y, test_size=0.2, random_state=42\n",
        ")\n",
        "\n",
        "print(\"Training set shape:\", X_train.shape)\n",
        "print(\"Test set shape:\", X_test.shape)"
      ],
      "metadata": {
        "colab": {
          "base_uri": "https://localhost:8080/"
        },
        "id": "5-rY4wqdSm_m",
        "outputId": "f6cf67ae-c78c-47cf-80c9-629e8ee6e38f"
      },
      "execution_count": 147,
      "outputs": [
        {
          "output_type": "stream",
          "name": "stdout",
          "text": [
            "Training set shape: (2234, 319)\n",
            "Test set shape: (559, 319)\n"
          ]
        }
      ]
    },
    {
      "cell_type": "markdown",
      "source": [
        "# Training Linear Regression"
      ],
      "metadata": {
        "id": "JpLVyGR1Ukn2"
      }
    },
    {
      "cell_type": "code",
      "source": [
        "# training linear regression - only linear relationship\n",
        "lr_model = LinearRegression()\n",
        "\n",
        "lr_model.fit(X_train, y_train)\n",
        "\n",
        "y_train_pred = lr_model.predict(X_train)\n",
        "y_test_pred = lr_model.predict(X_test)\n",
        "\n",
        "def evaluate(y_true, y_pred, dataset_name=\"Dataset\"):\n",
        "    mae = mean_absolute_error(y_true, y_pred)\n",
        "    rmse = np.sqrt(mean_squared_error(y_true, y_pred))\n",
        "    r2 = r2_score(y_true, y_pred)\n",
        "    print(f\"{dataset_name} Evaluation:\")\n",
        "    print(f\"  MAE: {mae:.2f}\")\n",
        "    print(f\"  RMSE: {rmse:.2f}\")\n",
        "    print(f\"  R²: {r2:.4f}\")\n",
        "    print(\"----------------------------\")\n",
        "\n",
        "evaluate(y_train, y_train_pred, \"Training\")\n",
        "evaluate(y_test, y_test_pred, \"Test\")\n"
      ],
      "metadata": {
        "colab": {
          "base_uri": "https://localhost:8080/"
        },
        "id": "BMzy-nhqUpVw",
        "outputId": "6e0fb48a-4554-49d2-b9cc-25c9661ebd4a"
      },
      "execution_count": 148,
      "outputs": [
        {
          "output_type": "stream",
          "name": "stdout",
          "text": [
            "Training Evaluation:\n",
            "  MAE: 10946.99\n",
            "  RMSE: 15707.15\n",
            "  R²: 0.9278\n",
            "----------------------------\n",
            "Test Evaluation:\n",
            "  MAE: 13829.68\n",
            "  RMSE: 26345.10\n",
            "  R²: 0.8134\n",
            "----------------------------\n"
          ]
        }
      ]
    },
    {
      "cell_type": "code",
      "source": [
        "# adding polynomial features to linear regression\n",
        "# overfitting case\n",
        "poly = PolynomialFeatures(degree=2, include_bias=False)\n",
        "X_train_poly = poly.fit_transform(X_train)\n",
        "X_test_poly = poly.transform(X_test)\n",
        "\n",
        "lr_model.fit(X_train_poly, y_train)\n",
        "\n",
        "y_train_pred = lr_model.predict(X_train_poly)\n",
        "y_test_pred = lr_model.predict(X_test_poly)\n",
        "\n",
        "evaluate(y_train, y_train_pred, \"Train (Polynomial)\")\n",
        "evaluate(y_test, y_test_pred, \"Test (Polynomial)\")\n"
      ],
      "metadata": {
        "colab": {
          "base_uri": "https://localhost:8080/"
        },
        "id": "GkmoKrjZ8bqv",
        "outputId": "2383c535-0205-43d9-9398-c4db1690c8f4"
      },
      "execution_count": 149,
      "outputs": [
        {
          "output_type": "stream",
          "name": "stdout",
          "text": [
            "Train (Polynomial) Evaluation:\n",
            "  MAE: 1.12\n",
            "  RMSE: 37.40\n",
            "  R²: 1.0000\n",
            "----------------------------\n",
            "Test (Polynomial) Evaluation:\n",
            "  MAE: 29673.00\n",
            "  RMSE: 48186.17\n",
            "  R²: 0.3757\n",
            "----------------------------\n"
          ]
        }
      ]
    },
    {
      "cell_type": "code",
      "source": [
        "# let's lower the value of attributes\n",
        "# to select we will choose most correlated features\n",
        "# combine training data and target to compute correlations\n",
        "corr_with_target = pd.concat([X_train, y_train], axis=1).corr()['SalePrice'].abs().sort_values(ascending=False)\n",
        "top_features = corr_with_target.index[1:10]  # skip 'SalePrice' itself\n",
        "print(\"Top correlated features:\\n\", top_features)"
      ],
      "metadata": {
        "colab": {
          "base_uri": "https://localhost:8080/"
        },
        "id": "L03E2iMd92Fe",
        "outputId": "1c3e670b-6683-44b6-97f4-2fdfb50896ff"
      },
      "execution_count": 150,
      "outputs": [
        {
          "output_type": "stream",
          "name": "stdout",
          "text": [
            "Top correlated features:\n",
            " Index(['Overall Qual', 'Gr Liv Area', 'Garage Cars', 'Garage Area',\n",
            "       'Exter Qual_TA', 'Year Built', 'Exter Qual_Gd', 'Full Bath',\n",
            "       'Year Remod/Add'],\n",
            "      dtype='object')\n"
          ]
        }
      ]
    },
    {
      "cell_type": "code",
      "source": [
        "num_cols = [\"Overall Qual\", \"Gr Liv Area\", \"Garage Cars\", \"Garage Area\"]\n",
        "\n",
        "poly = PolynomialFeatures(degree=2, include_bias=False)\n",
        "X_train_poly = X_train[num_cols]\n",
        "X_test_poly = X_test[num_cols]\n",
        "\n",
        "X_train_poly = poly.fit_transform(X_train_poly)\n",
        "X_test_poly = poly.transform(X_test_poly)\n",
        "\n",
        "# Combine back with the rest of the features\n",
        "X_train_combined = np.hstack((X_train.drop(columns=num_cols), X_train_poly))\n",
        "X_test_combined = np.hstack((X_test.drop(columns=num_cols), X_test_poly))\n",
        "\n",
        "lr_model.fit(X_train_combined, y_train)\n",
        "\n",
        "y_train_pred = lr_model.predict(X_train_combined)\n",
        "y_test_pred = lr_model.predict(X_test_combined)\n",
        "\n",
        "evaluate(y_train, y_train_pred, \"Train (Polynomial)\")\n",
        "evaluate(y_test, y_test_pred, \"Test (Polynomial)\")"
      ],
      "metadata": {
        "colab": {
          "base_uri": "https://localhost:8080/"
        },
        "id": "8CybzQ57-xH-",
        "outputId": "65ee8918-79a9-48c4-dd47-e51e346b7ef6"
      },
      "execution_count": 151,
      "outputs": [
        {
          "output_type": "stream",
          "name": "stdout",
          "text": [
            "Train (Polynomial) Evaluation:\n",
            "  MAE: 10694.69\n",
            "  RMSE: 15094.61\n",
            "  R²: 0.9333\n",
            "----------------------------\n",
            "Test (Polynomial) Evaluation:\n",
            "  MAE: 13348.87\n",
            "  RMSE: 22644.78\n",
            "  R²: 0.8621\n",
            "----------------------------\n"
          ]
        }
      ]
    },
    {
      "cell_type": "code",
      "source": [
        "# let's try with more features\n",
        "num_cols = [\"Overall Qual\", \"Gr Liv Area\", \"Garage Cars\", \"Garage Area\", \"Exter Qual_TA\", \"Year Built\" , \"Exter Qual_Gd\", \"Full Bath\", \"Year Remod/Add\"]\n",
        "\n",
        "poly = PolynomialFeatures(degree=2, include_bias=False)\n",
        "X_train_poly = X_train[num_cols]\n",
        "X_test_poly = X_test[num_cols]\n",
        "\n",
        "X_train_poly = poly.fit_transform(X_train_poly)\n",
        "X_test_poly = poly.transform(X_test_poly)\n",
        "\n",
        "# Combine back with the rest of the features\n",
        "X_train_combined = np.hstack((X_train.drop(columns=num_cols), X_train_poly))\n",
        "X_test_combined = np.hstack((X_test.drop(columns=num_cols), X_test_poly))\n",
        "\n",
        "lr_model.fit(X_train_combined, y_train)\n",
        "\n",
        "y_train_pred = lr_model.predict(X_train_combined)\n",
        "y_test_pred = lr_model.predict(X_test_combined)\n",
        "\n",
        "evaluate(y_train, y_train_pred, \"Train (Polynomial)\")\n",
        "evaluate(y_test, y_test_pred, \"Test (Polynomial)\")"
      ],
      "metadata": {
        "colab": {
          "base_uri": "https://localhost:8080/"
        },
        "id": "Py_o6JNNAU5b",
        "outputId": "ad02154f-ae49-4000-a069-77adafd7be6f"
      },
      "execution_count": 152,
      "outputs": [
        {
          "output_type": "stream",
          "name": "stdout",
          "text": [
            "Train (Polynomial) Evaluation:\n",
            "  MAE: 10418.67\n",
            "  RMSE: 14486.05\n",
            "  R²: 0.9386\n",
            "----------------------------\n",
            "Test (Polynomial) Evaluation:\n",
            "  MAE: 12652.58\n",
            "  RMSE: 19443.02\n",
            "  R²: 0.8984\n",
            "----------------------------\n"
          ]
        }
      ]
    },
    {
      "cell_type": "code",
      "source": [
        "# feature selection (compared to first model the r^2 increased)\n",
        "\n",
        "# Try Ridge\n",
        "ridge = RidgeCV(alphas=[0.1, 1, 10, 100], cv=5)\n",
        "ridge.fit(X_train, y_train)\n",
        "print(\"Best alpha (Ridge):\", ridge.alpha_)\n",
        "evaluate(y_test, ridge.predict(X_test), \"Test (Ridge)\")\n",
        "\n",
        "# Try Lasso\n",
        "lasso = LassoCV(alphas=[0.001, 0.01, 0.1, 1], cv=5, max_iter=10000)\n",
        "lasso.fit(X_train, y_train)\n",
        "print(\"Best alpha (Lasso):\", lasso.alpha_)\n",
        "evaluate(y_test, lasso.predict(X_test), \"Test (Lasso)\")\n"
      ],
      "metadata": {
        "colab": {
          "base_uri": "https://localhost:8080/"
        },
        "collapsed": true,
        "id": "8p5I_n-cA59J",
        "outputId": "fa7537a8-323c-40b9-8d8d-3e79bcde5558"
      },
      "execution_count": 153,
      "outputs": [
        {
          "output_type": "stream",
          "name": "stdout",
          "text": [
            "Best alpha (Ridge): 10.0\n",
            "Test (Ridge) Evaluation:\n",
            "  MAE: 13960.86\n",
            "  RMSE: 23597.04\n",
            "  R²: 0.8503\n",
            "----------------------------\n"
          ]
        },
        {
          "output_type": "stream",
          "name": "stderr",
          "text": [
            "/usr/local/lib/python3.12/dist-packages/sklearn/linear_model/_coordinate_descent.py:681: ConvergenceWarning: Objective did not converge. You might want to increase the number of iterations. Duality gap: 1517137072.33667, tolerance: 619954572.9355409\n",
            "  model = cd_fast.enet_coordinate_descent_gram(\n",
            "/usr/local/lib/python3.12/dist-packages/sklearn/linear_model/_coordinate_descent.py:681: ConvergenceWarning: Objective did not converge. You might want to increase the number of iterations. Duality gap: 200110434271.3454, tolerance: 619954572.9355409\n",
            "  model = cd_fast.enet_coordinate_descent_gram(\n",
            "/usr/local/lib/python3.12/dist-packages/sklearn/linear_model/_coordinate_descent.py:681: ConvergenceWarning: Objective did not converge. You might want to increase the number of iterations. Duality gap: 219744034699.44263, tolerance: 619954572.9355409\n",
            "  model = cd_fast.enet_coordinate_descent_gram(\n",
            "/usr/local/lib/python3.12/dist-packages/sklearn/linear_model/_coordinate_descent.py:681: ConvergenceWarning: Objective did not converge. You might want to increase the number of iterations. Duality gap: 221895293032.77136, tolerance: 619954572.9355409\n",
            "  model = cd_fast.enet_coordinate_descent_gram(\n",
            "/usr/local/lib/python3.12/dist-packages/sklearn/linear_model/_coordinate_descent.py:681: ConvergenceWarning: Objective did not converge. You might want to increase the number of iterations. Duality gap: 29562028543.118164, tolerance: 616769925.8907573\n",
            "  model = cd_fast.enet_coordinate_descent_gram(\n",
            "/usr/local/lib/python3.12/dist-packages/sklearn/linear_model/_coordinate_descent.py:681: ConvergenceWarning: Objective did not converge. You might want to increase the number of iterations. Duality gap: 172892162212.6596, tolerance: 616769925.8907573\n",
            "  model = cd_fast.enet_coordinate_descent_gram(\n",
            "/usr/local/lib/python3.12/dist-packages/sklearn/linear_model/_coordinate_descent.py:681: ConvergenceWarning: Objective did not converge. You might want to increase the number of iterations. Duality gap: 187228496031.2626, tolerance: 616769925.8907573\n",
            "  model = cd_fast.enet_coordinate_descent_gram(\n",
            "/usr/local/lib/python3.12/dist-packages/sklearn/linear_model/_coordinate_descent.py:681: ConvergenceWarning: Objective did not converge. You might want to increase the number of iterations. Duality gap: 188788550213.1177, tolerance: 616769925.8907573\n",
            "  model = cd_fast.enet_coordinate_descent_gram(\n",
            "/usr/local/lib/python3.12/dist-packages/sklearn/linear_model/_coordinate_descent.py:681: ConvergenceWarning: Objective did not converge. You might want to increase the number of iterations. Duality gap: 9521430443.596863, tolerance: 605848581.5217838\n",
            "  model = cd_fast.enet_coordinate_descent_gram(\n",
            "/usr/local/lib/python3.12/dist-packages/sklearn/linear_model/_coordinate_descent.py:681: ConvergenceWarning: Objective did not converge. You might want to increase the number of iterations. Duality gap: 192569984020.73315, tolerance: 605848581.5217838\n",
            "  model = cd_fast.enet_coordinate_descent_gram(\n",
            "/usr/local/lib/python3.12/dist-packages/sklearn/linear_model/_coordinate_descent.py:681: ConvergenceWarning: Objective did not converge. You might want to increase the number of iterations. Duality gap: 209908345850.51654, tolerance: 605848581.5217838\n",
            "  model = cd_fast.enet_coordinate_descent_gram(\n",
            "/usr/local/lib/python3.12/dist-packages/sklearn/linear_model/_coordinate_descent.py:681: ConvergenceWarning: Objective did not converge. You might want to increase the number of iterations. Duality gap: 211824072544.64893, tolerance: 605848581.5217838\n",
            "  model = cd_fast.enet_coordinate_descent_gram(\n"
          ]
        },
        {
          "output_type": "stream",
          "name": "stdout",
          "text": [
            "Best alpha (Lasso): 1.0\n",
            "Test (Lasso) Evaluation:\n",
            "  MAE: 13480.25\n",
            "  RMSE: 25321.83\n",
            "  R²: 0.8276\n",
            "----------------------------\n"
          ]
        },
        {
          "output_type": "stream",
          "name": "stderr",
          "text": [
            "/usr/local/lib/python3.12/dist-packages/sklearn/linear_model/_coordinate_descent.py:695: ConvergenceWarning: Objective did not converge. You might want to increase the number of iterations, check the scale of the features or consider increasing regularisation. Duality gap: 3.717e+09, tolerance: 7.632e+08\n",
            "  model = cd_fast.enet_coordinate_descent(\n"
          ]
        }
      ]
    },
    {
      "cell_type": "code",
      "source": [
        "X_train_scaled = scaler.fit_transform(X_train)\n",
        "X_test_scaled = scaler.transform(X_test)\n",
        "\n",
        "# Refit models with scaled data\n",
        "ridge = RidgeCV(alphas=[0.1, 1, 10, 100], cv=5)\n",
        "ridge.fit(X_train_scaled, y_train)\n",
        "print(\"Best alpha (Ridge):\", ridge.alpha_)\n",
        "evaluate(y_test, ridge.predict(X_test_scaled), \"Test (Ridge)\")\n",
        "\n",
        "lasso = LassoCV(alphas=[0.001, 0.01, 0.1, 1], cv=5, max_iter=50000)\n",
        "lasso.fit(X_train_scaled, y_train)\n",
        "print(\"Best alpha (Lasso):\", lasso.alpha_)\n",
        "evaluate(y_test, lasso.predict(X_test_scaled), \"Test (Lasso)\")"
      ],
      "metadata": {
        "colab": {
          "base_uri": "https://localhost:8080/"
        },
        "collapsed": true,
        "id": "9Dz4d8DTC0Qt",
        "outputId": "7fb7e1a0-de7b-4cfa-ae68-482835559315"
      },
      "execution_count": 154,
      "outputs": [
        {
          "output_type": "stream",
          "name": "stdout",
          "text": [
            "Best alpha (Ridge): 100.0\n",
            "Test (Ridge) Evaluation:\n",
            "  MAE: 13269.42\n",
            "  RMSE: 24318.65\n",
            "  R²: 0.8410\n",
            "----------------------------\n"
          ]
        },
        {
          "output_type": "stream",
          "name": "stderr",
          "text": [
            "/usr/local/lib/python3.12/dist-packages/sklearn/linear_model/_coordinate_descent.py:681: ConvergenceWarning: Objective did not converge. You might want to increase the number of iterations. Duality gap: 1533169991.9370117, tolerance: 619954572.9355409\n",
            "  model = cd_fast.enet_coordinate_descent_gram(\n",
            "/usr/local/lib/python3.12/dist-packages/sklearn/linear_model/_coordinate_descent.py:681: ConvergenceWarning: Objective did not converge. You might want to increase the number of iterations. Duality gap: 180859501750.35364, tolerance: 619954572.9355409\n",
            "  model = cd_fast.enet_coordinate_descent_gram(\n",
            "/usr/local/lib/python3.12/dist-packages/sklearn/linear_model/_coordinate_descent.py:681: ConvergenceWarning: Objective did not converge. You might want to increase the number of iterations. Duality gap: 213394145050.53802, tolerance: 619954572.9355409\n",
            "  model = cd_fast.enet_coordinate_descent_gram(\n",
            "/usr/local/lib/python3.12/dist-packages/sklearn/linear_model/_coordinate_descent.py:681: ConvergenceWarning: Objective did not converge. You might want to increase the number of iterations. Duality gap: 220098014001.53177, tolerance: 619954572.9355409\n",
            "  model = cd_fast.enet_coordinate_descent_gram(\n",
            "/usr/local/lib/python3.12/dist-packages/sklearn/linear_model/_coordinate_descent.py:681: ConvergenceWarning: Objective did not converge. You might want to increase the number of iterations. Duality gap: 11930619604.068604, tolerance: 616769925.8907573\n",
            "  model = cd_fast.enet_coordinate_descent_gram(\n",
            "/usr/local/lib/python3.12/dist-packages/sklearn/linear_model/_coordinate_descent.py:681: ConvergenceWarning: Objective did not converge. You might want to increase the number of iterations. Duality gap: 153089391107.57697, tolerance: 616769925.8907573\n",
            "  model = cd_fast.enet_coordinate_descent_gram(\n",
            "/usr/local/lib/python3.12/dist-packages/sklearn/linear_model/_coordinate_descent.py:681: ConvergenceWarning: Objective did not converge. You might want to increase the number of iterations. Duality gap: 180509488637.22873, tolerance: 616769925.8907573\n",
            "  model = cd_fast.enet_coordinate_descent_gram(\n",
            "/usr/local/lib/python3.12/dist-packages/sklearn/linear_model/_coordinate_descent.py:681: ConvergenceWarning: Objective did not converge. You might want to increase the number of iterations. Duality gap: 186758470133.46063, tolerance: 616769925.8907573\n",
            "  model = cd_fast.enet_coordinate_descent_gram(\n",
            "/usr/local/lib/python3.12/dist-packages/sklearn/linear_model/_coordinate_descent.py:681: ConvergenceWarning: Objective did not converge. You might want to increase the number of iterations. Duality gap: 4906044902.940063, tolerance: 605848581.5217838\n",
            "  model = cd_fast.enet_coordinate_descent_gram(\n",
            "/usr/local/lib/python3.12/dist-packages/sklearn/linear_model/_coordinate_descent.py:681: ConvergenceWarning: Objective did not converge. You might want to increase the number of iterations. Duality gap: 172555033107.93396, tolerance: 605848581.5217838\n",
            "  model = cd_fast.enet_coordinate_descent_gram(\n",
            "/usr/local/lib/python3.12/dist-packages/sklearn/linear_model/_coordinate_descent.py:681: ConvergenceWarning: Objective did not converge. You might want to increase the number of iterations. Duality gap: 203293808480.09393, tolerance: 605848581.5217838\n",
            "  model = cd_fast.enet_coordinate_descent_gram(\n",
            "/usr/local/lib/python3.12/dist-packages/sklearn/linear_model/_coordinate_descent.py:681: ConvergenceWarning: Objective did not converge. You might want to increase the number of iterations. Duality gap: 209906397989.58176, tolerance: 605848581.5217838\n",
            "  model = cd_fast.enet_coordinate_descent_gram(\n"
          ]
        },
        {
          "output_type": "stream",
          "name": "stdout",
          "text": [
            "Best alpha (Lasso): 1.0\n",
            "Test (Lasso) Evaluation:\n",
            "  MAE: 13562.91\n",
            "  RMSE: 25490.93\n",
            "  R²: 0.8253\n",
            "----------------------------\n"
          ]
        },
        {
          "output_type": "stream",
          "name": "stderr",
          "text": [
            "/usr/local/lib/python3.12/dist-packages/sklearn/linear_model/_coordinate_descent.py:695: ConvergenceWarning: Objective did not converge. You might want to increase the number of iterations, check the scale of the features or consider increasing regularisation. Duality gap: 3.482e+09, tolerance: 7.632e+08\n",
            "  model = cd_fast.enet_coordinate_descent(\n"
          ]
        }
      ]
    },
    {
      "cell_type": "code",
      "source": [
        "# let's apply both polynomial degrees and regression\n",
        "\n",
        "ridge = RidgeCV(alphas=[0.1, 1, 10, 100], cv=5)\n",
        "ridge.fit(X_train_combined, y_train)\n",
        "print(\"Best alpha (Ridge):\", ridge.alpha_)\n",
        "evaluate(y_test, ridge.predict(X_test_combined), \"Test (Ridge)\")\n",
        "# now the test result is best than ever\n",
        "\n",
        "lasso = LassoCV(alphas=[0.001, 0.01, 0.1, 1], cv=5, max_iter=50000)\n",
        "lasso.fit(X_train_combined, y_train)\n",
        "print(\"Best alpha (Lasso):\", lasso.alpha_)\n",
        "evaluate(y_test, lasso.predict(X_test_combined), \"Test (Lasso)\")"
      ],
      "metadata": {
        "colab": {
          "base_uri": "https://localhost:8080/"
        },
        "collapsed": true,
        "id": "rTflvOZTDc10",
        "outputId": "49aa07a7-5e59-4d36-8cd5-e2f060853a4d"
      },
      "execution_count": 155,
      "outputs": [
        {
          "output_type": "stream",
          "name": "stdout",
          "text": [
            "Best alpha (Ridge): 10.0\n",
            "Test (Ridge) Evaluation:\n",
            "  MAE: 12120.95\n",
            "  RMSE: 17772.72\n",
            "  R²: 0.9151\n",
            "----------------------------\n"
          ]
        },
        {
          "output_type": "stream",
          "name": "stderr",
          "text": [
            "/usr/local/lib/python3.12/dist-packages/sklearn/linear_model/_coordinate_descent.py:681: ConvergenceWarning: Objective did not converge. You might want to increase the number of iterations. Duality gap: 190546889429.0756, tolerance: 617548032.3347642\n",
            "  model = cd_fast.enet_coordinate_descent_gram(\n",
            "/usr/local/lib/python3.12/dist-packages/sklearn/linear_model/_coordinate_descent.py:681: ConvergenceWarning: Objective did not converge. You might want to increase the number of iterations. Duality gap: 186177265686.07742, tolerance: 617548032.3347642\n",
            "  model = cd_fast.enet_coordinate_descent_gram(\n",
            "/usr/local/lib/python3.12/dist-packages/sklearn/linear_model/_coordinate_descent.py:681: ConvergenceWarning: Objective did not converge. You might want to increase the number of iterations. Duality gap: 185580414618.2724, tolerance: 617548032.3347642\n",
            "  model = cd_fast.enet_coordinate_descent_gram(\n",
            "/usr/local/lib/python3.12/dist-packages/sklearn/linear_model/_coordinate_descent.py:681: ConvergenceWarning: Objective did not converge. You might want to increase the number of iterations. Duality gap: 185436954880.18204, tolerance: 617548032.3347642\n",
            "  model = cd_fast.enet_coordinate_descent_gram(\n",
            "/usr/local/lib/python3.12/dist-packages/sklearn/linear_model/_coordinate_descent.py:681: ConvergenceWarning: Objective did not converge. You might want to increase the number of iterations. Duality gap: 176658808995.15207, tolerance: 592546660.6440419\n",
            "  model = cd_fast.enet_coordinate_descent_gram(\n",
            "/usr/local/lib/python3.12/dist-packages/sklearn/linear_model/_coordinate_descent.py:681: ConvergenceWarning: Objective did not converge. You might want to increase the number of iterations. Duality gap: 171098267299.58176, tolerance: 592546660.6440419\n",
            "  model = cd_fast.enet_coordinate_descent_gram(\n",
            "/usr/local/lib/python3.12/dist-packages/sklearn/linear_model/_coordinate_descent.py:681: ConvergenceWarning: Objective did not converge. You might want to increase the number of iterations. Duality gap: 170302080934.75766, tolerance: 592546660.6440419\n",
            "  model = cd_fast.enet_coordinate_descent_gram(\n",
            "/usr/local/lib/python3.12/dist-packages/sklearn/linear_model/_coordinate_descent.py:681: ConvergenceWarning: Objective did not converge. You might want to increase the number of iterations. Duality gap: 170149268267.4971, tolerance: 592546660.6440419\n",
            "  model = cd_fast.enet_coordinate_descent_gram(\n",
            "/usr/local/lib/python3.12/dist-packages/sklearn/linear_model/_coordinate_descent.py:681: ConvergenceWarning: Objective did not converge. You might want to increase the number of iterations. Duality gap: 190946609970.7324, tolerance: 619954572.9355409\n",
            "  model = cd_fast.enet_coordinate_descent_gram(\n",
            "/usr/local/lib/python3.12/dist-packages/sklearn/linear_model/_coordinate_descent.py:681: ConvergenceWarning: Objective did not converge. You might want to increase the number of iterations. Duality gap: 186491787904.18195, tolerance: 619954572.9355409\n",
            "  model = cd_fast.enet_coordinate_descent_gram(\n",
            "/usr/local/lib/python3.12/dist-packages/sklearn/linear_model/_coordinate_descent.py:681: ConvergenceWarning: Objective did not converge. You might want to increase the number of iterations. Duality gap: 185834804356.38544, tolerance: 619954572.9355409\n",
            "  model = cd_fast.enet_coordinate_descent_gram(\n",
            "/usr/local/lib/python3.12/dist-packages/sklearn/linear_model/_coordinate_descent.py:681: ConvergenceWarning: Objective did not converge. You might want to increase the number of iterations. Duality gap: 185683050455.84415, tolerance: 619954572.9355409\n",
            "  model = cd_fast.enet_coordinate_descent_gram(\n",
            "/usr/local/lib/python3.12/dist-packages/sklearn/linear_model/_coordinate_descent.py:681: ConvergenceWarning: Objective did not converge. You might want to increase the number of iterations. Duality gap: 173531410002.3508, tolerance: 616769925.8907573\n",
            "  model = cd_fast.enet_coordinate_descent_gram(\n",
            "/usr/local/lib/python3.12/dist-packages/sklearn/linear_model/_coordinate_descent.py:681: ConvergenceWarning: Objective did not converge. You might want to increase the number of iterations. Duality gap: 168671456347.46063, tolerance: 616769925.8907573\n",
            "  model = cd_fast.enet_coordinate_descent_gram(\n",
            "/usr/local/lib/python3.12/dist-packages/sklearn/linear_model/_coordinate_descent.py:681: ConvergenceWarning: Objective did not converge. You might want to increase the number of iterations. Duality gap: 167862253838.34637, tolerance: 616769925.8907573\n",
            "  model = cd_fast.enet_coordinate_descent_gram(\n",
            "/usr/local/lib/python3.12/dist-packages/sklearn/linear_model/_coordinate_descent.py:681: ConvergenceWarning: Objective did not converge. You might want to increase the number of iterations. Duality gap: 167661086696.77408, tolerance: 616769925.8907573\n",
            "  model = cd_fast.enet_coordinate_descent_gram(\n",
            "/usr/local/lib/python3.12/dist-packages/sklearn/linear_model/_coordinate_descent.py:681: ConvergenceWarning: Objective did not converge. You might want to increase the number of iterations. Duality gap: 177715540177.14267, tolerance: 605848581.5217838\n",
            "  model = cd_fast.enet_coordinate_descent_gram(\n",
            "/usr/local/lib/python3.12/dist-packages/sklearn/linear_model/_coordinate_descent.py:681: ConvergenceWarning: Objective did not converge. You might want to increase the number of iterations. Duality gap: 173486005306.66653, tolerance: 605848581.5217838\n",
            "  model = cd_fast.enet_coordinate_descent_gram(\n",
            "/usr/local/lib/python3.12/dist-packages/sklearn/linear_model/_coordinate_descent.py:681: ConvergenceWarning: Objective did not converge. You might want to increase the number of iterations. Duality gap: 172626587215.49063, tolerance: 605848581.5217838\n",
            "  model = cd_fast.enet_coordinate_descent_gram(\n",
            "/usr/local/lib/python3.12/dist-packages/sklearn/linear_model/_coordinate_descent.py:681: ConvergenceWarning: Objective did not converge. You might want to increase the number of iterations. Duality gap: 172259729644.2863, tolerance: 605848581.5217838\n",
            "  model = cd_fast.enet_coordinate_descent_gram(\n"
          ]
        },
        {
          "output_type": "stream",
          "name": "stdout",
          "text": [
            "Best alpha (Lasso): 1.0\n",
            "Test (Lasso) Evaluation:\n",
            "  MAE: 12531.26\n",
            "  RMSE: 19063.90\n",
            "  R²: 0.9023\n",
            "----------------------------\n"
          ]
        },
        {
          "output_type": "stream",
          "name": "stderr",
          "text": [
            "/usr/local/lib/python3.12/dist-packages/sklearn/linear_model/_coordinate_descent.py:695: ConvergenceWarning: Objective did not converge. You might want to increase the number of iterations, check the scale of the features or consider increasing regularisation. Duality gap: 2.422e+11, tolerance: 7.632e+08\n",
            "  model = cd_fast.enet_coordinate_descent(\n"
          ]
        }
      ]
    },
    {
      "cell_type": "code",
      "source": [
        "# let's use log transform target\n",
        "# now the accuracy is a bit down so let's stick with previous model\n",
        "y_train_log = np.log1p(y_train)\n",
        "y_test_log = np.log1p(y_test)\n",
        "\n",
        "ridge = RidgeCV(alphas=[0.1, 1, 10, 100], cv=5)\n",
        "ridge.fit(X_train_combined, y_train_log)\n",
        "\n",
        "y_pred_log = ridge.predict(X_test_combined)\n",
        "y_pred = np.expm1(y_pred_log)\n",
        "\n",
        "evaluate(y_test, y_pred, \"Test (Log-Transformed)\")\n"
      ],
      "metadata": {
        "colab": {
          "base_uri": "https://localhost:8080/"
        },
        "id": "ISTQtMrIEnqM",
        "outputId": "bd78f8d8-2e0e-4ab3-bf1a-129db8f06f5a"
      },
      "execution_count": 156,
      "outputs": [
        {
          "output_type": "stream",
          "name": "stdout",
          "text": [
            "Test (Log-Transformed) Evaluation:\n",
            "  MAE: 12129.81\n",
            "  RMSE: 18632.28\n",
            "  R²: 0.9067\n",
            "----------------------------\n"
          ]
        }
      ]
    },
    {
      "cell_type": "code",
      "source": [
        "# let's do cross validation on final model\n",
        "\n",
        "# Define RidgeCV (alpha list and CV inside RidgeCV)\n",
        "ridge = RidgeCV(alphas=[0.1, 1, 10, 100], cv=5)\n",
        "\n",
        "# Fit on training data\n",
        "ridge.fit(X_train_combined, y_train)\n",
        "print(\"Best alpha (Ridge):\", ridge.alpha_)\n",
        "\n",
        "# Evaluate on test set\n",
        "evaluate(y_test, ridge.predict(X_test_combined), \"Test (Ridge)\")\n",
        "\n",
        "# Cross-validation on training set to check stability\n",
        "cv_scores = cross_val_score(ridge, X_train_combined, y_train, cv=10, scoring='r2')\n",
        "print(\"Cross-validated R² mean (train):\", cv_scores.mean())\n",
        "print(\"Cross-validated R² std (train):\", cv_scores.std())\n"
      ],
      "metadata": {
        "colab": {
          "base_uri": "https://localhost:8080/"
        },
        "id": "4zF8ISF5FrUL",
        "outputId": "e4903d91-4a1b-4d41-8ae1-f7c191ba91cf"
      },
      "execution_count": 157,
      "outputs": [
        {
          "output_type": "stream",
          "name": "stdout",
          "text": [
            "Best alpha (Ridge): 10.0\n",
            "Test (Ridge) Evaluation:\n",
            "  MAE: 12120.95\n",
            "  RMSE: 17772.72\n",
            "  R²: 0.9151\n",
            "----------------------------\n",
            "Cross-validated R² mean (train): 0.8740779663950864\n",
            "Cross-validated R² std (train): 0.11909017295199391\n"
          ]
        }
      ]
    },
    {
      "cell_type": "markdown",
      "source": [
        "Using Ridge regression with selected polynomial features and moderate regularization (α=10), the model achieves R²=0.915 on the test set, with MAE ~12k and RMSE ~18k. Cross-validation confirms the model is stable and generalizes well."
      ],
      "metadata": {
        "id": "51xzt9W6MuuE"
      }
    },
    {
      "cell_type": "code",
      "source": [
        "# Predictions\n",
        "y_pred = ridge.predict(X_test_combined)\n",
        "\n",
        "# 1️⃣ Predicted vs Actual\n",
        "plt.figure(figsize=(8,6))\n",
        "plt.scatter(y_test, y_pred, alpha=0.6, color='blue')\n",
        "plt.plot([y_test.min(), y_test.max()], [y_test.min(), y_test.max()], 'r--', linewidth=2)  # perfect prediction line\n",
        "plt.xlabel(\"Actual Values\")\n",
        "plt.ylabel(\"Predicted Values\")\n",
        "plt.title(\"Predicted vs Actual Values\")\n",
        "plt.show()\n",
        "\n",
        "# 2️⃣ Residuals\n",
        "residuals = y_test - y_pred\n",
        "plt.figure(figsize=(8,6))\n",
        "plt.scatter(y_pred, residuals, alpha=0.6, color='green')\n",
        "plt.axhline(0, color='red', linestyle='--', linewidth=2)\n",
        "plt.xlabel(\"Predicted Values\")\n",
        "plt.ylabel(\"Residuals (Actual - Predicted)\")\n",
        "plt.title(\"Residual Plot\")\n",
        "plt.show()\n",
        "\n",
        "# Optional: Histogram of residuals\n",
        "plt.figure(figsize=(8,5))\n",
        "plt.hist(residuals, bins=30, color='orange', edgecolor='black', alpha=0.7)\n",
        "plt.xlabel(\"Residual\")\n",
        "plt.ylabel(\"Frequency\")\n",
        "plt.title(\"Residual Distribution\")\n",
        "plt.show()\n"
      ],
      "metadata": {
        "colab": {
          "base_uri": "https://localhost:8080/",
          "height": 1000
        },
        "id": "sd8ip1_cM-la",
        "outputId": "1a9cd568-49ec-4bbf-8160-afce27369ed6"
      },
      "execution_count": 158,
      "outputs": [
        {
          "output_type": "display_data",
          "data": {
            "text/plain": [
              "<Figure size 800x600 with 1 Axes>"
            ],
            "image/png": "[encoded data removed]"
          },
          "metadata": {}
        },
        {
          "output_type": "display_data",
          "data": {
            "text/plain": [
              "<Figure size 800x600 with 1 Axes>"
            ],
            "image/png": "[encoded data removed]"
          },
          "metadata": {}
        },
        {
          "output_type": "display_data",
          "data": {
            "text/plain": [
              "<Figure size 800x500 with 1 Axes>"
            ],
            "image/png": "[encoded data removed]"
          },
          "metadata": {}
        }
      ]
    },
    {
      "cell_type": "markdown",
      "source": [
        "# Training Decision Tree Regressor"
      ],
      "metadata": {
        "id": "zPIO29GiX3gQ"
      }
    },
    {
      "cell_type": "code",
      "source": [
        "dt_model = DecisionTreeRegressor(random_state=42, max_depth=5)  # limit depth to reduce overfitting\n",
        "dt_model.fit(X_train, y_train)\n",
        "\n",
        "y_train_pred = dt_model.predict(X_train)\n",
        "y_test_pred = dt_model.predict(X_test)\n",
        "\n",
        "def evaluate(y_true, y_pred, dataset_name=\"Dataset\"):\n",
        "    mae = mean_absolute_error(y_true, y_pred)\n",
        "    rmse = np.sqrt(mean_squared_error(y_true, y_pred))\n",
        "    r2 = r2_score(y_true, y_pred)\n",
        "    print(f\"{dataset_name} Evaluation:\")\n",
        "    print(f\"  MAE: {mae:.2f}\")\n",
        "    print(f\"  RMSE: {rmse:.2f}\")\n",
        "    print(f\"  R²: {r2:.4f}\")\n",
        "    print(\"----------------------------\")\n",
        "\n",
        "evaluate(y_train, y_train_pred, \"Training\")\n",
        "evaluate(y_test, y_test_pred, \"Test\")\n",
        "\n",
        "importance = pd.Series(dt_model.feature_importances_, index=X_train.columns).sort_values(ascending=False)\n",
        "importance.head(10).plot(kind='barh', figsize=(8,6), color='skyblue')\n",
        "plt.title(\"Top 10 Feature Importances (Decision Tree)\")\n",
        "plt.xlabel(\"Importance\")\n",
        "plt.show()"
      ],
      "metadata": {
        "colab": {
          "base_uri": "https://localhost:8080/",
          "height": 738
        },
        "id": "FSii0OFTX_yy",
        "outputId": "30331b87-c232-4164-8fc5-95d08ef4b8cb"
      },
      "execution_count": 172,
      "outputs": [
        {
          "output_type": "stream",
          "name": "stdout",
          "text": [
            "Training Evaluation:\n",
            "  MAE: 18243.36\n",
            "  RMSE: 24540.40\n",
            "  R²: 0.8237\n",
            "----------------------------\n",
            "Test Evaluation:\n",
            "  MAE: 22324.90\n",
            "  RMSE: 30763.18\n",
            "  R²: 0.7455\n",
            "----------------------------\n"
          ]
        },
        {
          "output_type": "display_data",
          "data": {
            "text/plain": [
              "<Figure size 800x600 with 1 Axes>"
            ],
            "image/png": "[encoded data removed]"
          },
          "metadata": {}
        }
      ]
    },
    {
      "cell_type": "code",
      "source": [
        "# let's train decision tree regressor with X_train_combined which includes some polynomial degrees of most correlated features\n",
        "dt_model_2 = DecisionTreeRegressor(random_state=42, max_depth=5)  # limit depth to reduce overfitting\n",
        "dt_model_2.fit(X_train_combined, y_train)\n",
        "\n",
        "y_train_pred = dt_model_2.predict(X_train_combined)\n",
        "y_test_pred = dt_model_2.predict(X_test_combined)\n",
        "\n",
        "evaluate(y_train, y_train_pred, \"Training\")\n",
        "evaluate(y_test, y_test_pred, \"Test\")\n"
      ],
      "metadata": {
        "colab": {
          "base_uri": "https://localhost:8080/",
          "height": 738
        },
        "id": "HlHkMhlkZYxN",
        "outputId": "5260c545-3c64-4c54-a3d6-4e5a8f3762f9"
      },
      "execution_count": 175,
      "outputs": [
        {
          "output_type": "stream",
          "name": "stdout",
          "text": [
            "Training Evaluation:\n",
            "  MAE: 17838.33\n",
            "  RMSE: 23788.11\n",
            "  R²: 0.8344\n",
            "----------------------------\n",
            "Test Evaluation:\n",
            "  MAE: 21089.31\n",
            "  RMSE: 29988.83\n",
            "  R²: 0.7582\n",
            "----------------------------\n"
          ]
        },
        {
          "output_type": "display_data",
          "data": {
            "text/plain": [
              "<Figure size 800x600 with 1 Axes>"
            ],
            "image/png": "[encoded data removed]"
          },
          "metadata": {}
        }
      ]
    },
    {
      "cell_type": "code",
      "source": [
        "# there are many parameters and we need to do hyperparameter tuning to find out best values\n",
        "params = {\n",
        "    'max_depth': [5, 8, 12],\n",
        "    'min_samples_split': [2, 5, 10],\n",
        "    'min_samples_leaf': [1, 2, 5],\n",
        "    'ccp_alpha': [0.0, 0.001, 0.01]\n",
        "}\n",
        "\n",
        "grid = GridSearchCV(DecisionTreeRegressor(random_state=42), params, cv=5, scoring='r2')\n",
        "grid.fit(X_train_combined, y_train)\n",
        "\n",
        "print(\"Best params:\", grid.best_params_)\n",
        "print(\"Best CV R²:\", grid.best_score_)\n",
        "\n",
        "best_dt = grid.best_estimator_\n",
        "evaluate(y_test, best_dt.predict(X_test_combined), \"Test (Tuned Decision Tree)\")\n"
      ],
      "metadata": {
        "colab": {
          "base_uri": "https://localhost:8080/"
        },
        "id": "GOl7PsIjaUUZ",
        "outputId": "2b3c0799-80a1-404b-f18a-67a463e3960d"
      },
      "execution_count": 177,
      "outputs": [
        {
          "output_type": "stream",
          "name": "stdout",
          "text": [
            "Best params: {'ccp_alpha': 0.0, 'max_depth': 8, 'min_samples_leaf': 2, 'min_samples_split': 10}\n",
            "Best CV R²: 0.7740519071822156\n",
            "Test (Tuned Decision Tree) Evaluation:\n",
            "  MAE: 19157.89\n",
            "  RMSE: 28128.40\n",
            "  R²: 0.7873\n",
            "----------------------------\n"
          ]
        }
      ]
    },
    {
      "cell_type": "code",
      "source": [
        "# cross validation\n",
        "cv_scores = cross_val_score(best_dt, X_train_combined, y_train, cv=10, scoring='r2')\n",
        "print(\"CV R² mean:\", cv_scores.mean())\n",
        "print(\"CV R² std:\", cv_scores.std())"
      ],
      "metadata": {
        "colab": {
          "base_uri": "https://localhost:8080/"
        },
        "id": "TTzF5Ewabz5j",
        "outputId": "76010ef5-63d6-4974-b79b-9955fbd5bb6b"
      },
      "execution_count": 179,
      "outputs": [
        {
          "output_type": "stream",
          "name": "stdout",
          "text": [
            "CV R² mean: 0.7754121705166891\n",
            "CV R² std: 0.03707318621265608\n"
          ]
        }
      ]
    },
    {
      "cell_type": "markdown",
      "source": [
        "# Training Random Forest"
      ],
      "metadata": {
        "id": "jo9NjaU4cXXg"
      }
    },
    {
      "cell_type": "code",
      "source": [
        "rf_model = RandomForestRegressor(\n",
        "    n_estimators=200,       # number of trees\n",
        "    max_depth=10,           # limit depth to reduce overfitting\n",
        "    min_samples_leaf=2,     # avoid tiny leaves\n",
        "    max_features='sqrt',    # subset of features for each split\n",
        "    random_state=42,\n",
        "    n_jobs=-1               # use all cores\n",
        ")\n",
        "\n",
        "\n",
        "rf_model.fit(X_train_combined, y_train)\n",
        "\n",
        "y_train_pred = rf_model.predict(X_train_combined)\n",
        "y_test_pred = rf_model.predict(X_test_combined)\n",
        "\n",
        "\n",
        "evaluate(y_train, y_train_pred, \"Training\")\n",
        "evaluate(y_test, y_test_pred, \"Test\")\n",
        "\n",
        "cv_scores = cross_val_score(rf_model, X_train_combined, y_train, cv=5, scoring='r2')\n",
        "print(\"Cross-validated R² mean (train):\", cv_scores.mean())\n",
        "print(\"Cross-validated R² std (train):\", cv_scores.std())\n"
      ],
      "metadata": {
        "colab": {
          "base_uri": "https://localhost:8080/"
        },
        "id": "sFbYQ3_UcaRg",
        "outputId": "3a698638-d145-42ad-c769-a863ec8f682e"
      },
      "execution_count": 190,
      "outputs": [
        {
          "output_type": "stream",
          "name": "stdout",
          "text": [
            "Training Evaluation:\n",
            "  MAE: 9865.31\n",
            "  RMSE: 13498.42\n",
            "  R²: 0.9467\n",
            "----------------------------\n",
            "Test Evaluation:\n",
            "  MAE: 15059.15\n",
            "  RMSE: 21667.22\n",
            "  R²: 0.8738\n",
            "----------------------------\n",
            "Cross-validated R² mean (train): 0.8638877053628988\n",
            "Cross-validated R² std (train): 0.01747988088984439\n"
          ]
        }
      ]
    },
    {
      "cell_type": "markdown",
      "source": [
        "# Training Gradient Boost"
      ],
      "metadata": {
        "id": "TFFYlPLNeuuO"
      }
    },
    {
      "cell_type": "code",
      "source": [
        "gbr = GradientBoostingRegressor(\n",
        "    n_estimators=500,\n",
        "    learning_rate=0.05,\n",
        "    max_depth=4,\n",
        "    min_samples_leaf=2,\n",
        "    random_state=42\n",
        ")\n",
        "\n",
        "gbr.fit(X_train_combined, y_train)\n",
        "evaluate(y_train, gbr.predict(X_train_combined), \"Training (GBR)\")\n",
        "evaluate(y_test, gbr.predict(X_test_combined), \"Test (GBR)\")\n",
        "\n",
        "cv_scores = cross_val_score(gbr, X_train_combined, y_train, cv=5, scoring='r2')\n",
        "print(\"Cross-validated R² mean (train):\", cv_scores.mean())\n",
        "print(\"Cross-validated R² std (train):\", cv_scores.std())\n"
      ],
      "metadata": {
        "colab": {
          "base_uri": "https://localhost:8080/"
        },
        "id": "Y3bOLtHdezAL",
        "outputId": "e85967e0-dac9-44d3-eeb7-8de4945c6dce"
      },
      "execution_count": 194,
      "outputs": [
        {
          "output_type": "stream",
          "name": "stdout",
          "text": [
            "Training (GBR) Evaluation:\n",
            "  MAE: 5134.18\n",
            "  RMSE: 6609.50\n",
            "  R²: 0.9872\n",
            "----------------------------\n",
            "Test (GBR) Evaluation:\n",
            "  MAE: 12036.17\n",
            "  RMSE: 17385.26\n",
            "  R²: 0.9187\n",
            "----------------------------\n",
            "Cross-validated R² mean (train): 0.9021647250980992\n",
            "Cross-validated R² std (train): 0.021138645911964876\n"
          ]
        }
      ]
    },
    {
      "cell_type": "markdown",
      "source": [
        "# Training XGBoost"
      ],
      "metadata": {
        "id": "H-wAbRx9gc1b"
      }
    },
    {
      "cell_type": "code",
      "source": [
        "xgb_model = xgb.XGBRegressor(\n",
        "    n_estimators=500,\n",
        "    learning_rate=0.05,\n",
        "    max_depth=4,\n",
        "    random_state=42\n",
        ")\n",
        "\n",
        "xgb_model.fit(X_train_combined, y_train)\n",
        "evaluate(y_test, xgb_model.predict(X_test_combined), \"Test (XGBoost)\")\n",
        "\n",
        "cv_scores = cross_val_score(xgb_model, X_train_combined, y_train, cv=5, scoring='r2')\n",
        "print(\"Cross-validated R² mean (train):\", cv_scores.mean())\n",
        "print(\"Cross-validated R² std (train):\", cv_scores.std())"
      ],
      "metadata": {
        "colab": {
          "base_uri": "https://localhost:8080/"
        },
        "id": "CP_pKK29gdhG",
        "outputId": "9bd5949e-cac8-4c6a-f929-fdb2a4d21d05"
      },
      "execution_count": 199,
      "outputs": [
        {
          "output_type": "stream",
          "name": "stdout",
          "text": [
            "Test (XGBoost) Evaluation:\n",
            "  MAE: 12018.90\n",
            "  RMSE: 17640.70\n",
            "  R²: 0.9163\n",
            "----------------------------\n",
            "Cross-validated R² mean (train): 0.9053455655997802\n",
            "Cross-validated R² std (train): 0.017273002399534745\n"
          ]
        }
      ]
    },
    {
      "cell_type": "markdown",
      "source": [
        "# Trying Ensemble Methods"
      ],
      "metadata": {
        "id": "kMex6tETjAic"
      }
    },
    {
      "cell_type": "code",
      "source": [
        "base_estimators = [\n",
        "    ('ridge', RidgeCV(alphas=[0.1, 1, 10])),\n",
        "    ('dt', DecisionTreeRegressor(max_depth=5, random_state=42)),\n",
        "    ('rf', RandomForestRegressor(n_estimators=100, max_depth=8, random_state=42))\n",
        "]\n",
        "\n",
        "stack_model = StackingRegressor(\n",
        "    estimators=base_estimators,\n",
        "    final_estimator=RidgeCV(),\n",
        "    cv=5,\n",
        "    n_jobs=-1\n",
        ")\n",
        "\n",
        "stack_model.fit(X_train_combined, y_train)\n",
        "\n",
        "y_train_pred = stack_model.predict(X_train_combined)\n",
        "y_test_pred = stack_model.predict(X_test_combined)\n",
        "\n",
        "evaluate(y_train, y_train_pred, \"Training (Stacked)\")\n",
        "evaluate(y_test, y_test_pred, \"Test (Stacked)\")\n",
        "\n",
        "cv_scores = cross_val_score(stack_model, X_train_combined, y_train, cv=5, scoring='r2')\n",
        "print(\"Cross-validated R² mean (train):\", cv_scores.mean())\n",
        "print(\"Cross-validated R² std (train):\", cv_scores.std())\n"
      ],
      "metadata": {
        "colab": {
          "base_uri": "https://localhost:8080/"
        },
        "id": "K6pn9olhjDsV",
        "outputId": "c1a40956-51c2-4c4b-d7cf-abafbd45c90e"
      },
      "execution_count": 201,
      "outputs": [
        {
          "output_type": "stream",
          "name": "stdout",
          "text": [
            "Training (Stacked) Evaluation:\n",
            "  MAE: 8709.51\n",
            "  RMSE: 11931.79\n",
            "  R²: 0.9583\n",
            "----------------------------\n",
            "Test (Stacked) Evaluation:\n",
            "  MAE: 11883.67\n",
            "  RMSE: 17538.36\n",
            "  R²: 0.9173\n",
            "----------------------------\n",
            "Cross-validated R² mean (train): 0.8826595373918641\n",
            "Cross-validated R² std (train): 0.05557576481901778\n"
          ]
        }
      ]
    },
    {
      "cell_type": "markdown",
      "source": [
        "# Training Neural Networks"
      ],
      "metadata": {
        "id": "AxeBA5z_n_U0"
      }
    },
    {
      "cell_type": "code",
      "source": [
        "import tensorflow as tf\n",
        "from tensorflow.keras.models import Sequential\n",
        "from tensorflow.keras.layers import Dense, Dropout\n",
        "from tensorflow.keras.callbacks import EarlyStopping"
      ],
      "metadata": {
        "id": "q9JyIOfdoCVI"
      },
      "execution_count": 202,
      "outputs": []
    },
    {
      "cell_type": "code",
      "source": [
        "model = Sequential([\n",
        "    Dense(128, activation='relu', input_shape=(X_train_scaled.shape[1],)),\n",
        "    Dropout(0.2),\n",
        "    Dense(64, activation='relu'),\n",
        "    Dropout(0.2),\n",
        "    Dense(1)  # Output layer for regression\n",
        "])"
      ],
      "metadata": {
        "colab": {
          "base_uri": "https://localhost:8080/"
        },
        "id": "Ze3DDzrHoKgi",
        "outputId": "3911ccbc-eae5-49a0-d648-1de396760475"
      },
      "execution_count": 203,
      "outputs": [
        {
          "output_type": "stream",
          "name": "stderr",
          "text": [
            "/usr/local/lib/python3.12/dist-packages/keras/src/layers/core/dense.py:93: UserWarning: Do not pass an `input_shape`/`input_dim` argument to a layer. When using Sequential models, prefer using an `Input(shape)` object as the first layer in the model instead.\n",
            "  super().__init__(activity_regularizer=activity_regularizer, **kwargs)\n"
          ]
        }
      ]
    },
    {
      "cell_type": "code",
      "source": [
        "model.compile(\n",
        "    optimizer='adam',\n",
        "    loss='mse',\n",
        "    metrics=['mae', 'mse']\n",
        ")"
      ],
      "metadata": {
        "id": "ps1OGV_CoOIP"
      },
      "execution_count": 204,
      "outputs": []
    },
    {
      "cell_type": "code",
      "source": [
        "early_stop = EarlyStopping(monitor='val_loss', patience=20, restore_best_weights=True)\n",
        "\n",
        "history = model.fit(\n",
        "    X_train, y_train,\n",
        "    validation_split=0.2,\n",
        "    epochs=500,\n",
        "    batch_size=32,\n",
        "    callbacks=[early_stop],\n",
        "    verbose=1\n",
        ")\n"
      ],
      "metadata": {
        "colab": {
          "base_uri": "https://localhost:8080/"
        },
        "collapsed": true,
        "id": "WDkWaRjnoP3Y",
        "outputId": "f4f74027-aecb-4269-e6b2-9ffa5c3499bd"
      },
      "execution_count": 205,
      "outputs": [
        {
          "output_type": "stream",
          "name": "stdout",
          "text": [
            "Epoch 1/500\n",
            "\u001b[1m56/56\u001b[0m \u001b[32m━━━━━━━━━━━━━━━━━━━━\u001b[0m\u001b[37m\u001b[0m \u001b[1m6s\u001b[0m 21ms/step - loss: 30078892032.0000 - mae: 163458.3125 - mse: 30078892032.0000 - val_loss: 27465273344.0000 - val_mae: 154771.6719 - val_mse: 27465273344.0000\n",
            "Epoch 2/500\n",
            "\u001b[1m56/56\u001b[0m \u001b[32m━━━━━━━━━━━━━━━━━━━━\u001b[0m\u001b[37m\u001b[0m \u001b[1m0s\u001b[0m 7ms/step - loss: 23384639488.0000 - mae: 140441.4375 - mse: 23384639488.0000 - val_loss: 8960539648.0000 - val_mae: 75748.9297 - val_mse: 8960539648.0000\n",
            "Epoch 3/500\n",
            "\u001b[1m56/56\u001b[0m \u001b[32m━━━━━━━━━━━━━━━━━━━━\u001b[0m\u001b[37m\u001b[0m \u001b[1m1s\u001b[0m 10ms/step - loss: 5334323200.0000 - mae: 57106.0469 - mse: 5334323200.0000 - val_loss: 3405677568.0000 - val_mae: 47694.3750 - val_mse: 3405677568.0000\n",
            "Epoch 4/500\n",
            "\u001b[1m56/56\u001b[0m \u001b[32m━━━━━━━━━━━━━━━━━━━━\u001b[0m\u001b[37m\u001b[0m \u001b[1m1s\u001b[0m 4ms/step - loss: 3705703680.0000 - mae: 48056.4570 - mse: 3705703680.0000 - val_loss: 3395697664.0000 - val_mae: 47305.8672 - val_mse: 3395697664.0000\n",
            "Epoch 5/500\n",
            "\u001b[1m56/56\u001b[0m \u001b[32m━━━━━━━━━━━━━━━━━━━━\u001b[0m\u001b[37m\u001b[0m \u001b[1m0s\u001b[0m 4ms/step - loss: 3707573760.0000 - mae: 48146.4336 - mse: 3707573760.0000 - val_loss: 3438652928.0000 - val_mae: 46536.7969 - val_mse: 3438652928.0000\n",
            "Epoch 6/500\n",
            "\u001b[1m56/56\u001b[0m \u001b[32m━━━━━━━━━━━━━━━━━━━━\u001b[0m\u001b[37m\u001b[0m \u001b[1m0s\u001b[0m 4ms/step - loss: 3767290880.0000 - mae: 48124.3477 - mse: 3767290880.0000 - val_loss: 3389991936.0000 - val_mae: 46786.5273 - val_mse: 3389991936.0000\n",
            "Epoch 7/500\n",
            "\u001b[1m56/56\u001b[0m \u001b[32m━━━━━━━━━━━━━━━━━━━━\u001b[0m\u001b[37m\u001b[0m \u001b[1m0s\u001b[0m 4ms/step - loss: 3471534080.0000 - mae: 45842.8008 - mse: 3471534080.0000 - val_loss: 3364592896.0000 - val_mae: 47008.5898 - val_mse: 3364592896.0000\n",
            "Epoch 8/500\n",
            "\u001b[1m56/56\u001b[0m \u001b[32m━━━━━━━━━━━━━━━━━━━━\u001b[0m\u001b[37m\u001b[0m \u001b[1m0s\u001b[0m 4ms/step - loss: 3412940800.0000 - mae: 45971.9141 - mse: 3412940800.0000 - val_loss: 3356818432.0000 - val_mae: 46841.8945 - val_mse: 3356818432.0000\n",
            "Epoch 9/500\n",
            "\u001b[1m56/56\u001b[0m \u001b[32m━━━━━━━━━━━━━━━━━━━━\u001b[0m\u001b[37m\u001b[0m \u001b[1m0s\u001b[0m 4ms/step - loss: 3697212416.0000 - mae: 47331.2461 - mse: 3697212416.0000 - val_loss: 3364451328.0000 - val_mae: 46468.6992 - val_mse: 3364451328.0000\n",
            "Epoch 10/500\n",
            "\u001b[1m56/56\u001b[0m \u001b[32m━━━━━━━━━━━━━━━━━━━━\u001b[0m\u001b[37m\u001b[0m \u001b[1m0s\u001b[0m 4ms/step - loss: 3489464576.0000 - mae: 46072.7383 - mse: 3489464576.0000 - val_loss: 3348154880.0000 - val_mae: 46462.5547 - val_mse: 3348154880.0000\n",
            "Epoch 11/500\n",
            "\u001b[1m56/56\u001b[0m \u001b[32m━━━━━━━━━━━━━━━━━━━━\u001b[0m\u001b[37m\u001b[0m \u001b[1m0s\u001b[0m 4ms/step - loss: 3637483008.0000 - mae: 46898.7891 - mse: 3637483008.0000 - val_loss: 3355302144.0000 - val_mae: 46194.8594 - val_mse: 3355302144.0000\n",
            "Epoch 12/500\n",
            "\u001b[1m56/56\u001b[0m \u001b[32m━━━━━━━━━━━━━━━━━━━━\u001b[0m\u001b[37m\u001b[0m \u001b[1m0s\u001b[0m 4ms/step - loss: 3549002240.0000 - mae: 46484.5117 - mse: 3549002240.0000 - val_loss: 3308174592.0000 - val_mae: 47001.8867 - val_mse: 3308174592.0000\n",
            "Epoch 13/500\n",
            "\u001b[1m56/56\u001b[0m \u001b[32m━━━━━━━━━━━━━━━━━━━━\u001b[0m\u001b[37m\u001b[0m \u001b[1m0s\u001b[0m 4ms/step - loss: 3670238464.0000 - mae: 47493.8242 - mse: 3670238464.0000 - val_loss: 3303641856.0000 - val_mae: 46437.1406 - val_mse: 3303641856.0000\n",
            "Epoch 14/500\n",
            "\u001b[1m56/56\u001b[0m \u001b[32m━━━━━━━━━━━━━━━━━━━━\u001b[0m\u001b[37m\u001b[0m \u001b[1m0s\u001b[0m 4ms/step - loss: 3526307072.0000 - mae: 46892.4844 - mse: 3526307072.0000 - val_loss: 3293343488.0000 - val_mae: 46336.8125 - val_mse: 3293343488.0000\n",
            "Epoch 15/500\n",
            "\u001b[1m56/56\u001b[0m \u001b[32m━━━━━━━━━━━━━━━━━━━━\u001b[0m\u001b[37m\u001b[0m \u001b[1m0s\u001b[0m 4ms/step - loss: 3585941248.0000 - mae: 46889.4844 - mse: 3585941248.0000 - val_loss: 3304706816.0000 - val_mae: 45925.6250 - val_mse: 3304706816.0000\n",
            "Epoch 16/500\n",
            "\u001b[1m56/56\u001b[0m \u001b[32m━━━━━━━━━━━━━━━━━━━━\u001b[0m\u001b[37m\u001b[0m \u001b[1m0s\u001b[0m 4ms/step - loss: 3457605120.0000 - mae: 45711.7344 - mse: 3457605120.0000 - val_loss: 3268357632.0000 - val_mae: 46208.1641 - val_mse: 3268357632.0000\n",
            "Epoch 17/500\n",
            "\u001b[1m56/56\u001b[0m \u001b[32m━━━━━━━━━━━━━━━━━━━━\u001b[0m\u001b[37m\u001b[0m \u001b[1m0s\u001b[0m 4ms/step - loss: 3549293056.0000 - mae: 47215.2266 - mse: 3549293056.0000 - val_loss: 3257051648.0000 - val_mae: 46101.0117 - val_mse: 3257051648.0000\n",
            "Epoch 18/500\n",
            "\u001b[1m56/56\u001b[0m \u001b[32m━━━━━━━━━━━━━━━━━━━━\u001b[0m\u001b[37m\u001b[0m \u001b[1m0s\u001b[0m 4ms/step - loss: 3590137600.0000 - mae: 46932.1289 - mse: 3590137600.0000 - val_loss: 3249328896.0000 - val_mae: 45924.7188 - val_mse: 3249328896.0000\n",
            "Epoch 19/500\n",
            "\u001b[1m56/56\u001b[0m \u001b[32m━━━━━━━━━━━━━━━━━━━━\u001b[0m\u001b[37m\u001b[0m \u001b[1m0s\u001b[0m 4ms/step - loss: 3422245376.0000 - mae: 45246.1680 - mse: 3422245376.0000 - val_loss: 3233804032.0000 - val_mae: 45911.9062 - val_mse: 3233804032.0000\n",
            "Epoch 20/500\n",
            "\u001b[1m56/56\u001b[0m \u001b[32m━━━━━━━━━━━━━━━━━━━━\u001b[0m\u001b[37m\u001b[0m \u001b[1m0s\u001b[0m 4ms/step - loss: 3542666240.0000 - mae: 46543.5742 - mse: 3542666240.0000 - val_loss: 3236322560.0000 - val_mae: 45578.4258 - val_mse: 3236322560.0000\n",
            "Epoch 21/500\n",
            "\u001b[1m56/56\u001b[0m \u001b[32m━━━━━━━━━━━━━━━━━━━━\u001b[0m\u001b[37m\u001b[0m \u001b[1m0s\u001b[0m 4ms/step - loss: 3524012800.0000 - mae: 46592.3828 - mse: 3524012800.0000 - val_loss: 3245038336.0000 - val_mae: 45272.7969 - val_mse: 3245038336.0000\n",
            "Epoch 22/500\n",
            "\u001b[1m56/56\u001b[0m \u001b[32m━━━━━━━━━━━━━━━━━━━━\u001b[0m\u001b[37m\u001b[0m \u001b[1m0s\u001b[0m 4ms/step - loss: 3505529856.0000 - mae: 46592.5625 - mse: 3505529856.0000 - val_loss: 3203476480.0000 - val_mae: 45486.4688 - val_mse: 3203476480.0000\n",
            "Epoch 23/500\n",
            "\u001b[1m56/56\u001b[0m \u001b[32m━━━━━━━━━━━━━━━━━━━━\u001b[0m\u001b[37m\u001b[0m \u001b[1m0s\u001b[0m 4ms/step - loss: 3398768640.0000 - mae: 45827.6016 - mse: 3398768640.0000 - val_loss: 3177870848.0000 - val_mae: 46146.0391 - val_mse: 3177870848.0000\n",
            "Epoch 24/500\n",
            "\u001b[1m56/56\u001b[0m \u001b[32m━━━━━━━━━━━━━━━━━━━━\u001b[0m\u001b[37m\u001b[0m \u001b[1m0s\u001b[0m 4ms/step - loss: 3291895296.0000 - mae: 45087.5938 - mse: 3291895296.0000 - val_loss: 3202371328.0000 - val_mae: 44992.7031 - val_mse: 3202371328.0000\n",
            "Epoch 25/500\n",
            "\u001b[1m56/56\u001b[0m \u001b[32m━━━━━━━━━━━━━━━━━━━━\u001b[0m\u001b[37m\u001b[0m \u001b[1m0s\u001b[0m 4ms/step - loss: 3564402944.0000 - mae: 46162.3125 - mse: 3564402944.0000 - val_loss: 3189753344.0000 - val_mae: 44871.3750 - val_mse: 3189753344.0000\n",
            "Epoch 26/500\n",
            "\u001b[1m56/56\u001b[0m \u001b[32m━━━━━━━━━━━━━━━━━━━━\u001b[0m\u001b[37m\u001b[0m \u001b[1m0s\u001b[0m 4ms/step - loss: 3579493632.0000 - mae: 47232.1562 - mse: 3579493632.0000 - val_loss: 3149650176.0000 - val_mae: 45040.9141 - val_mse: 3149650176.0000\n",
            "Epoch 27/500\n",
            "\u001b[1m56/56\u001b[0m \u001b[32m━━━━━━━━━━━━━━━━━━━━\u001b[0m\u001b[37m\u001b[0m \u001b[1m0s\u001b[0m 4ms/step - loss: 3139572736.0000 - mae: 43074.1953 - mse: 3139572736.0000 - val_loss: 3153767936.0000 - val_mae: 44711.6016 - val_mse: 3153767936.0000\n",
            "Epoch 28/500\n",
            "\u001b[1m56/56\u001b[0m \u001b[32m━━━━━━━━━━━━━━━━━━━━\u001b[0m\u001b[37m\u001b[0m \u001b[1m0s\u001b[0m 4ms/step - loss: 3418674944.0000 - mae: 45514.3945 - mse: 3418674944.0000 - val_loss: 3192621824.0000 - val_mae: 44297.5195 - val_mse: 3192621824.0000\n",
            "Epoch 29/500\n",
            "\u001b[1m56/56\u001b[0m \u001b[32m━━━━━━━━━━━━━━━━━━━━\u001b[0m\u001b[37m\u001b[0m \u001b[1m0s\u001b[0m 4ms/step - loss: 3424585728.0000 - mae: 45832.8516 - mse: 3424585728.0000 - val_loss: 3094036736.0000 - val_mae: 44893.3867 - val_mse: 3094036736.0000\n",
            "Epoch 30/500\n",
            "\u001b[1m56/56\u001b[0m \u001b[32m━━━━━━━━━━━━━━━━━━━━\u001b[0m\u001b[37m\u001b[0m \u001b[1m0s\u001b[0m 4ms/step - loss: 3444982016.0000 - mae: 46006.0781 - mse: 3444982016.0000 - val_loss: 3084662016.0000 - val_mae: 44606.9297 - val_mse: 3084662016.0000\n",
            "Epoch 31/500\n",
            "\u001b[1m56/56\u001b[0m \u001b[32m━━━━━━━━━━━━━━━━━━━━\u001b[0m\u001b[37m\u001b[0m \u001b[1m0s\u001b[0m 4ms/step - loss: 3284329984.0000 - mae: 45063.8906 - mse: 3284329984.0000 - val_loss: 3068023808.0000 - val_mae: 44470.0430 - val_mse: 3068023808.0000\n",
            "Epoch 32/500\n",
            "\u001b[1m56/56\u001b[0m \u001b[32m━━━━━━━━━━━━━━━━━━━━\u001b[0m\u001b[37m\u001b[0m \u001b[1m0s\u001b[0m 4ms/step - loss: 3393886976.0000 - mae: 46695.6836 - mse: 3393886976.0000 - val_loss: 3041349632.0000 - val_mae: 44571.8398 - val_mse: 3041349632.0000\n",
            "Epoch 33/500\n",
            "\u001b[1m56/56\u001b[0m \u001b[32m━━━━━━━━━━━━━━━━━━━━\u001b[0m\u001b[37m\u001b[0m \u001b[1m0s\u001b[0m 4ms/step - loss: 3383672064.0000 - mae: 45661.1562 - mse: 3383672064.0000 - val_loss: 3071660288.0000 - val_mae: 43774.9766 - val_mse: 3071660288.0000\n",
            "Epoch 34/500\n",
            "\u001b[1m56/56\u001b[0m \u001b[32m━━━━━━━━━━━━━━━━━━━━\u001b[0m\u001b[37m\u001b[0m \u001b[1m0s\u001b[0m 4ms/step - loss: 3381799936.0000 - mae: 45426.3945 - mse: 3381799936.0000 - val_loss: 3042110720.0000 - val_mae: 43689.0508 - val_mse: 3042110720.0000\n",
            "Epoch 35/500\n",
            "\u001b[1m56/56\u001b[0m \u001b[32m━━━━━━━━━━━━━━━━━━━━\u001b[0m\u001b[37m\u001b[0m \u001b[1m0s\u001b[0m 4ms/step - loss: 3298891520.0000 - mae: 44411.3281 - mse: 3298891520.0000 - val_loss: 3007578112.0000 - val_mae: 43658.8359 - val_mse: 3007578112.0000\n",
            "Epoch 36/500\n",
            "\u001b[1m56/56\u001b[0m \u001b[32m━━━━━━━━━━━━━━━━━━━━\u001b[0m\u001b[37m\u001b[0m \u001b[1m0s\u001b[0m 5ms/step - loss: 3266790400.0000 - mae: 44619.6602 - mse: 3266790400.0000 - val_loss: 3008637440.0000 - val_mae: 43302.7461 - val_mse: 3008637440.0000\n",
            "Epoch 37/500\n",
            "\u001b[1m56/56\u001b[0m \u001b[32m━━━━━━━━━━━━━━━━━━━━\u001b[0m\u001b[37m\u001b[0m \u001b[1m0s\u001b[0m 6ms/step - loss: 3216034560.0000 - mae: 44008.3750 - mse: 3216034560.0000 - val_loss: 2944036608.0000 - val_mae: 43617.1875 - val_mse: 2944036608.0000\n",
            "Epoch 38/500\n",
            "\u001b[1m56/56\u001b[0m \u001b[32m━━━━━━━━━━━━━━━━━━━━\u001b[0m\u001b[37m\u001b[0m \u001b[1m1s\u001b[0m 6ms/step - loss: 3106585344.0000 - mae: 44317.9180 - mse: 3106585344.0000 - val_loss: 2920473344.0000 - val_mae: 44358.7422 - val_mse: 2920473344.0000\n",
            "Epoch 39/500\n",
            "\u001b[1m56/56\u001b[0m \u001b[32m━━━━━━━━━━━━━━━━━━━━\u001b[0m\u001b[37m\u001b[0m \u001b[1m0s\u001b[0m 5ms/step - loss: 3144233472.0000 - mae: 44460.1094 - mse: 3144233472.0000 - val_loss: 2938675200.0000 - val_mae: 42735.7422 - val_mse: 2938675200.0000\n",
            "Epoch 40/500\n",
            "\u001b[1m56/56\u001b[0m \u001b[32m━━━━━━━━━━━━━━━━━━━━\u001b[0m\u001b[37m\u001b[0m \u001b[1m1s\u001b[0m 6ms/step - loss: 3199900672.0000 - mae: 44123.1797 - mse: 3199900672.0000 - val_loss: 2871225088.0000 - val_mae: 43021.8945 - val_mse: 2871225088.0000\n",
            "Epoch 41/500\n",
            "\u001b[1m56/56\u001b[0m \u001b[32m━━━━━━━━━━━━━━━━━━━━\u001b[0m\u001b[37m\u001b[0m \u001b[1m0s\u001b[0m 6ms/step - loss: 3246881792.0000 - mae: 45008.7969 - mse: 3246881792.0000 - val_loss: 2838682368.0000 - val_mae: 43453.3438 - val_mse: 2838682368.0000\n",
            "Epoch 42/500\n",
            "\u001b[1m56/56\u001b[0m \u001b[32m━━━━━━━━━━━━━━━━━━━━\u001b[0m\u001b[37m\u001b[0m \u001b[1m0s\u001b[0m 4ms/step - loss: 3215145984.0000 - mae: 43963.2227 - mse: 3215145984.0000 - val_loss: 2836125184.0000 - val_mae: 42225.4844 - val_mse: 2836125184.0000\n",
            "Epoch 43/500\n",
            "\u001b[1m56/56\u001b[0m \u001b[32m━━━━━━━━━━━━━━━━━━━━\u001b[0m\u001b[37m\u001b[0m \u001b[1m0s\u001b[0m 4ms/step - loss: 3074912000.0000 - mae: 43563.8555 - mse: 3074912000.0000 - val_loss: 2867753728.0000 - val_mae: 41619.3516 - val_mse: 2867753728.0000\n",
            "Epoch 44/500\n",
            "\u001b[1m56/56\u001b[0m \u001b[32m━━━━━━━━━━━━━━━━━━━━\u001b[0m\u001b[37m\u001b[0m \u001b[1m0s\u001b[0m 4ms/step - loss: 3074038016.0000 - mae: 42429.9414 - mse: 3074038016.0000 - val_loss: 2791757312.0000 - val_mae: 41540.1016 - val_mse: 2791757312.0000\n",
            "Epoch 45/500\n",
            "\u001b[1m56/56\u001b[0m \u001b[32m━━━━━━━━━━━━━━━━━━━━\u001b[0m\u001b[37m\u001b[0m \u001b[1m0s\u001b[0m 4ms/step - loss: 3099227392.0000 - mae: 42789.8516 - mse: 3099227392.0000 - val_loss: 2713045248.0000 - val_mae: 42007.9414 - val_mse: 2713045248.0000\n",
            "Epoch 46/500\n",
            "\u001b[1m56/56\u001b[0m \u001b[32m━━━━━━━━━━━━━━━━━━━━\u001b[0m\u001b[37m\u001b[0m \u001b[1m0s\u001b[0m 4ms/step - loss: 3014051328.0000 - mae: 43172.6484 - mse: 3014051328.0000 - val_loss: 2677535488.0000 - val_mae: 41714.1133 - val_mse: 2677535488.0000\n",
            "Epoch 47/500\n",
            "\u001b[1m56/56\u001b[0m \u001b[32m━━━━━━━━━━━━━━━━━━━━\u001b[0m\u001b[37m\u001b[0m \u001b[1m0s\u001b[0m 4ms/step - loss: 2769940992.0000 - mae: 41427.6250 - mse: 2769940992.0000 - val_loss: 2642977792.0000 - val_mae: 41147.0664 - val_mse: 2642977792.0000\n",
            "Epoch 48/500\n",
            "\u001b[1m56/56\u001b[0m \u001b[32m━━━━━━━━━━━━━━━━━━━━\u001b[0m\u001b[37m\u001b[0m \u001b[1m0s\u001b[0m 4ms/step - loss: 2853039104.0000 - mae: 42219.8633 - mse: 2853039104.0000 - val_loss: 2632798208.0000 - val_mae: 40312.3516 - val_mse: 2632798208.0000\n",
            "Epoch 49/500\n",
            "\u001b[1m56/56\u001b[0m \u001b[32m━━━━━━━━━━━━━━━━━━━━\u001b[0m\u001b[37m\u001b[0m \u001b[1m0s\u001b[0m 4ms/step - loss: 2794236672.0000 - mae: 40515.8398 - mse: 2794236672.0000 - val_loss: 2578042880.0000 - val_mae: 40058.5352 - val_mse: 2578042880.0000\n",
            "Epoch 50/500\n",
            "\u001b[1m56/56\u001b[0m \u001b[32m━━━━━━━━━━━━━━━━━━━━\u001b[0m\u001b[37m\u001b[0m \u001b[1m0s\u001b[0m 4ms/step - loss: 2981339136.0000 - mae: 42790.5117 - mse: 2981339136.0000 - val_loss: 2513826560.0000 - val_mae: 40011.1289 - val_mse: 2513826560.0000\n",
            "Epoch 51/500\n",
            "\u001b[1m56/56\u001b[0m \u001b[32m━━━━━━━━━━━━━━━━━━━━\u001b[0m\u001b[37m\u001b[0m \u001b[1m0s\u001b[0m 4ms/step - loss: 2832166912.0000 - mae: 41929.1211 - mse: 2832166912.0000 - val_loss: 2469539584.0000 - val_mae: 39436.1562 - val_mse: 2469539584.0000\n",
            "Epoch 52/500\n",
            "\u001b[1m56/56\u001b[0m \u001b[32m━━━━━━━━━━━━━━━━━━━━\u001b[0m\u001b[37m\u001b[0m \u001b[1m0s\u001b[0m 4ms/step - loss: 2663584512.0000 - mae: 40309.1484 - mse: 2663584512.0000 - val_loss: 2409288704.0000 - val_mae: 39205.9336 - val_mse: 2409288704.0000\n",
            "Epoch 53/500\n",
            "\u001b[1m56/56\u001b[0m \u001b[32m━━━━━━━━━━━━━━━━━━━━\u001b[0m\u001b[37m\u001b[0m \u001b[1m0s\u001b[0m 4ms/step - loss: 2681327360.0000 - mae: 40007.1797 - mse: 2681327360.0000 - val_loss: 2369516288.0000 - val_mae: 38246.8516 - val_mse: 2369516288.0000\n",
            "Epoch 54/500\n",
            "\u001b[1m56/56\u001b[0m \u001b[32m━━━━━━━━━━━━━━━━━━━━\u001b[0m\u001b[37m\u001b[0m \u001b[1m0s\u001b[0m 4ms/step - loss: 2781717248.0000 - mae: 41032.2500 - mse: 2781717248.0000 - val_loss: 2299112704.0000 - val_mae: 37884.2422 - val_mse: 2299112704.0000\n",
            "Epoch 55/500\n",
            "\u001b[1m56/56\u001b[0m \u001b[32m━━━━━━━━━━━━━━━━━━━━\u001b[0m\u001b[37m\u001b[0m \u001b[1m0s\u001b[0m 4ms/step - loss: 2556571392.0000 - mae: 39276.8125 - mse: 2556571392.0000 - val_loss: 2259642624.0000 - val_mae: 36940.4688 - val_mse: 2259642624.0000\n",
            "Epoch 56/500\n",
            "\u001b[1m56/56\u001b[0m \u001b[32m━━━━━━━━━━━━━━━━━━━━\u001b[0m\u001b[37m\u001b[0m \u001b[1m0s\u001b[0m 4ms/step - loss: 2375171840.0000 - mae: 37522.9375 - mse: 2375171840.0000 - val_loss: 2179766272.0000 - val_mae: 36543.9258 - val_mse: 2179766272.0000\n",
            "Epoch 57/500\n",
            "\u001b[1m56/56\u001b[0m \u001b[32m━━━━━━━━━━━━━━━━━━━━\u001b[0m\u001b[37m\u001b[0m \u001b[1m0s\u001b[0m 4ms/step - loss: 2479923712.0000 - mae: 38130.4727 - mse: 2479923712.0000 - val_loss: 2112151808.0000 - val_mae: 35809.0664 - val_mse: 2112151808.0000\n",
            "Epoch 58/500\n",
            "\u001b[1m56/56\u001b[0m \u001b[32m━━━━━━━━━━━━━━━━━━━━\u001b[0m\u001b[37m\u001b[0m \u001b[1m0s\u001b[0m 4ms/step - loss: 2322562816.0000 - mae: 36714.5430 - mse: 2322562816.0000 - val_loss: 2060297984.0000 - val_mae: 34772.4883 - val_mse: 2060297984.0000\n",
            "Epoch 59/500\n",
            "\u001b[1m56/56\u001b[0m \u001b[32m━━━━━━━━━━━━━━━━━━━━\u001b[0m\u001b[37m\u001b[0m \u001b[1m0s\u001b[0m 4ms/step - loss: 2356097280.0000 - mae: 37336.8594 - mse: 2356097280.0000 - val_loss: 1960732928.0000 - val_mae: 34217.9258 - val_mse: 1960732928.0000\n",
            "Epoch 60/500\n",
            "\u001b[1m56/56\u001b[0m \u001b[32m━━━━━━━━━━━━━━━━━━━━\u001b[0m\u001b[37m\u001b[0m \u001b[1m0s\u001b[0m 4ms/step - loss: 2400770048.0000 - mae: 37528.4102 - mse: 2400770048.0000 - val_loss: 1878596224.0000 - val_mae: 33462.7695 - val_mse: 1878596224.0000\n",
            "Epoch 61/500\n",
            "\u001b[1m56/56\u001b[0m \u001b[32m━━━━━━━━━━━━━━━━━━━━\u001b[0m\u001b[37m\u001b[0m \u001b[1m0s\u001b[0m 4ms/step - loss: 2095821440.0000 - mae: 35482.6875 - mse: 2095821440.0000 - val_loss: 1803487616.0000 - val_mae: 32425.6641 - val_mse: 1803487616.0000\n",
            "Epoch 62/500\n",
            "\u001b[1m56/56\u001b[0m \u001b[32m━━━━━━━━━━━━━━━━━━━━\u001b[0m\u001b[37m\u001b[0m \u001b[1m0s\u001b[0m 4ms/step - loss: 2204567040.0000 - mae: 35428.9375 - mse: 2204567040.0000 - val_loss: 1758335104.0000 - val_mae: 31166.1445 - val_mse: 1758335104.0000\n",
            "Epoch 63/500\n",
            "\u001b[1m56/56\u001b[0m \u001b[32m━━━━━━━━━━━━━━━━━━━━\u001b[0m\u001b[37m\u001b[0m \u001b[1m0s\u001b[0m 4ms/step - loss: 2049872768.0000 - mae: 34186.1797 - mse: 2049872768.0000 - val_loss: 1623366016.0000 - val_mae: 30779.6152 - val_mse: 1623366016.0000\n",
            "Epoch 64/500\n",
            "\u001b[1m56/56\u001b[0m \u001b[32m━━━━━━━━━━━━━━━━━━━━\u001b[0m\u001b[37m\u001b[0m \u001b[1m0s\u001b[0m 4ms/step - loss: 1921583488.0000 - mae: 33741.2070 - mse: 1921583488.0000 - val_loss: 1547556608.0000 - val_mae: 29624.3184 - val_mse: 1547556608.0000\n",
            "Epoch 65/500\n",
            "\u001b[1m56/56\u001b[0m \u001b[32m━━━━━━━━━━━━━━━━━━━━\u001b[0m\u001b[37m\u001b[0m \u001b[1m0s\u001b[0m 4ms/step - loss: 1908282368.0000 - mae: 33153.7930 - mse: 1908282368.0000 - val_loss: 1445303680.0000 - val_mae: 28928.0820 - val_mse: 1445303680.0000\n",
            "Epoch 66/500\n",
            "\u001b[1m56/56\u001b[0m \u001b[32m━━━━━━━━━━━━━━━━━━━━\u001b[0m\u001b[37m\u001b[0m \u001b[1m0s\u001b[0m 4ms/step - loss: 1779855616.0000 - mae: 31836.7266 - mse: 1779855616.0000 - val_loss: 1396176000.0000 - val_mae: 27310.3242 - val_mse: 1396176000.0000\n",
            "Epoch 67/500\n",
            "\u001b[1m56/56\u001b[0m \u001b[32m━━━━━━━━━━━━━━━━━━━━\u001b[0m\u001b[37m\u001b[0m \u001b[1m0s\u001b[0m 4ms/step - loss: 1668819968.0000 - mae: 30620.7051 - mse: 1668819968.0000 - val_loss: 1329146880.0000 - val_mae: 26314.3320 - val_mse: 1329146880.0000\n",
            "Epoch 68/500\n",
            "\u001b[1m56/56\u001b[0m \u001b[32m━━━━━━━━━━━━━━━━━━━━\u001b[0m\u001b[37m\u001b[0m \u001b[1m0s\u001b[0m 4ms/step - loss: 1517997952.0000 - mae: 29324.5391 - mse: 1517997952.0000 - val_loss: 1193810304.0000 - val_mae: 26821.8809 - val_mse: 1193810304.0000\n",
            "Epoch 69/500\n",
            "\u001b[1m56/56\u001b[0m \u001b[32m━━━━━━━━━━━━━━━━━━━━\u001b[0m\u001b[37m\u001b[0m \u001b[1m0s\u001b[0m 4ms/step - loss: 1674419072.0000 - mae: 30388.8984 - mse: 1674419072.0000 - val_loss: 1188256896.0000 - val_mae: 24348.8945 - val_mse: 1188256896.0000\n",
            "Epoch 70/500\n",
            "\u001b[1m56/56\u001b[0m \u001b[32m━━━━━━━━━━━━━━━━━━━━\u001b[0m\u001b[37m\u001b[0m \u001b[1m0s\u001b[0m 4ms/step - loss: 1549456256.0000 - mae: 28937.5996 - mse: 1549456256.0000 - val_loss: 1054718912.0000 - val_mae: 23885.7090 - val_mse: 1054718912.0000\n",
            "Epoch 71/500\n",
            "\u001b[1m56/56\u001b[0m \u001b[32m━━━━━━━━━━━━━━━━━━━━\u001b[0m\u001b[37m\u001b[0m \u001b[1m0s\u001b[0m 4ms/step - loss: 1460311680.0000 - mae: 28518.0918 - mse: 1460311680.0000 - val_loss: 1007960000.0000 - val_mae: 22669.3574 - val_mse: 1007960000.0000\n",
            "Epoch 72/500\n",
            "\u001b[1m56/56\u001b[0m \u001b[32m━━━━━━━━━━━━━━━━━━━━\u001b[0m\u001b[37m\u001b[0m \u001b[1m0s\u001b[0m 4ms/step - loss: 1314833280.0000 - mae: 27725.5840 - mse: 1314833280.0000 - val_loss: 931388480.0000 - val_mae: 21942.5273 - val_mse: 931388480.0000\n",
            "Epoch 73/500\n",
            "\u001b[1m56/56\u001b[0m \u001b[32m━━━━━━━━━━━━━━━━━━━━\u001b[0m\u001b[37m\u001b[0m \u001b[1m0s\u001b[0m 4ms/step - loss: 1379433600.0000 - mae: 27592.3027 - mse: 1379433600.0000 - val_loss: 863148864.0000 - val_mae: 21937.6680 - val_mse: 863148864.0000\n",
            "Epoch 74/500\n",
            "\u001b[1m56/56\u001b[0m \u001b[32m━━━━━━━━━━━━━━━━━━━━\u001b[0m\u001b[37m\u001b[0m \u001b[1m0s\u001b[0m 4ms/step - loss: 1271544192.0000 - mae: 26657.9004 - mse: 1271544192.0000 - val_loss: 830040576.0000 - val_mae: 20538.8145 - val_mse: 830040576.0000\n",
            "Epoch 75/500\n",
            "\u001b[1m56/56\u001b[0m \u001b[32m━━━━━━━━━━━━━━━━━━━━\u001b[0m\u001b[37m\u001b[0m \u001b[1m0s\u001b[0m 4ms/step - loss: 1268418176.0000 - mae: 25899.4961 - mse: 1268418176.0000 - val_loss: 780009984.0000 - val_mae: 20747.1523 - val_mse: 780009984.0000\n",
            "Epoch 76/500\n",
            "\u001b[1m56/56\u001b[0m \u001b[32m━━━━━━━━━━━━━━━━━━━━\u001b[0m\u001b[37m\u001b[0m \u001b[1m0s\u001b[0m 4ms/step - loss: 1265289984.0000 - mae: 26334.0625 - mse: 1265289984.0000 - val_loss: 762777216.0000 - val_mae: 19492.9258 - val_mse: 762777216.0000\n",
            "Epoch 77/500\n",
            "\u001b[1m56/56\u001b[0m \u001b[32m━━━━━━━━━━━━━━━━━━━━\u001b[0m\u001b[37m\u001b[0m \u001b[1m0s\u001b[0m 4ms/step - loss: 1124074496.0000 - mae: 24724.6504 - mse: 1124074496.0000 - val_loss: 726405696.0000 - val_mae: 19177.7715 - val_mse: 726405696.0000\n",
            "Epoch 78/500\n",
            "\u001b[1m56/56\u001b[0m \u001b[32m━━━━━━━━━━━━━━━━━━━━\u001b[0m\u001b[37m\u001b[0m \u001b[1m0s\u001b[0m 4ms/step - loss: 1145281792.0000 - mae: 24620.3457 - mse: 1145281792.0000 - val_loss: 700654080.0000 - val_mae: 18933.1172 - val_mse: 700654080.0000\n",
            "Epoch 79/500\n",
            "\u001b[1m56/56\u001b[0m \u001b[32m━━━━━━━━━━━━━━━━━━━━\u001b[0m\u001b[37m\u001b[0m \u001b[1m0s\u001b[0m 4ms/step - loss: 1066848448.0000 - mae: 24578.6934 - mse: 1066848448.0000 - val_loss: 682241664.0000 - val_mae: 18762.8203 - val_mse: 682241664.0000\n",
            "Epoch 80/500\n",
            "\u001b[1m56/56\u001b[0m \u001b[32m━━━━━━━━━━━━━━━━━━━━\u001b[0m\u001b[37m\u001b[0m \u001b[1m0s\u001b[0m 4ms/step - loss: 1051057024.0000 - mae: 23856.4102 - mse: 1051057024.0000 - val_loss: 666971776.0000 - val_mae: 18672.6621 - val_mse: 666971776.0000\n",
            "Epoch 81/500\n",
            "\u001b[1m56/56\u001b[0m \u001b[32m━━━━━━━━━━━━━━━━━━━━\u001b[0m\u001b[37m\u001b[0m \u001b[1m0s\u001b[0m 5ms/step - loss: 1111745792.0000 - mae: 24519.1484 - mse: 1111745792.0000 - val_loss: 661677568.0000 - val_mae: 18448.8379 - val_mse: 661677568.0000\n",
            "Epoch 82/500\n",
            "\u001b[1m56/56\u001b[0m \u001b[32m━━━━━━━━━━━━━━━━━━━━\u001b[0m\u001b[37m\u001b[0m \u001b[1m1s\u001b[0m 10ms/step - loss: 1257771776.0000 - mae: 25614.6660 - mse: 1257771776.0000 - val_loss: 775834112.0000 - val_mae: 19953.2832 - val_mse: 775834112.0000\n",
            "Epoch 83/500\n",
            "\u001b[1m56/56\u001b[0m \u001b[32m━━━━━━━━━━━━━━━━━━━━\u001b[0m\u001b[37m\u001b[0m \u001b[1m1s\u001b[0m 11ms/step - loss: 1026773376.0000 - mae: 23992.5625 - mse: 1026773376.0000 - val_loss: 670717504.0000 - val_mae: 18527.8008 - val_mse: 670717504.0000\n",
            "Epoch 84/500\n",
            "\u001b[1m56/56\u001b[0m \u001b[32m━━━━━━━━━━━━━━━━━━━━\u001b[0m\u001b[37m\u001b[0m \u001b[1m1s\u001b[0m 18ms/step - loss: 1121101824.0000 - mae: 24701.1387 - mse: 1121101824.0000 - val_loss: 642735168.0000 - val_mae: 18264.0176 - val_mse: 642735168.0000\n",
            "Epoch 85/500\n",
            "\u001b[1m56/56\u001b[0m \u001b[32m━━━━━━━━━━━━━━━━━━━━\u001b[0m\u001b[37m\u001b[0m \u001b[1m1s\u001b[0m 11ms/step - loss: 1084383232.0000 - mae: 24232.4590 - mse: 1084383232.0000 - val_loss: 646729088.0000 - val_mae: 18315.6836 - val_mse: 646729088.0000\n",
            "Epoch 86/500\n",
            "\u001b[1m56/56\u001b[0m \u001b[32m━━━━━━━━━━━━━━━━━━━━\u001b[0m\u001b[37m\u001b[0m \u001b[1m1s\u001b[0m 10ms/step - loss: 984527808.0000 - mae: 23489.3516 - mse: 984527808.0000 - val_loss: 634831424.0000 - val_mae: 18215.8301 - val_mse: 634831424.0000\n",
            "Epoch 87/500\n",
            "\u001b[1m56/56\u001b[0m \u001b[32m━━━━━━━━━━━━━━━━━━━━\u001b[0m\u001b[37m\u001b[0m \u001b[1m1s\u001b[0m 10ms/step - loss: 1071744128.0000 - mae: 23805.4199 - mse: 1071744128.0000 - val_loss: 619892096.0000 - val_mae: 18364.5781 - val_mse: 619892096.0000\n",
            "Epoch 88/500\n",
            "\u001b[1m56/56\u001b[0m \u001b[32m━━━━━━━━━━━━━━━━━━━━\u001b[0m\u001b[37m\u001b[0m \u001b[1m1s\u001b[0m 8ms/step - loss: 972302208.0000 - mae: 22687.0566 - mse: 972302208.0000 - val_loss: 676877440.0000 - val_mae: 18887.9434 - val_mse: 676877440.0000\n",
            "Epoch 89/500\n",
            "\u001b[1m56/56\u001b[0m \u001b[32m━━━━━━━━━━━━━━━━━━━━\u001b[0m\u001b[37m\u001b[0m \u001b[1m0s\u001b[0m 8ms/step - loss: 1100049536.0000 - mae: 24190.2422 - mse: 1100049536.0000 - val_loss: 633392640.0000 - val_mae: 18273.6797 - val_mse: 633392640.0000\n",
            "Epoch 90/500\n",
            "\u001b[1m56/56\u001b[0m \u001b[32m━━━━━━━━━━━━━━━━━━━━\u001b[0m\u001b[37m\u001b[0m \u001b[1m1s\u001b[0m 8ms/step - loss: 1024493632.0000 - mae: 23002.4141 - mse: 1024493632.0000 - val_loss: 645265472.0000 - val_mae: 18425.0508 - val_mse: 645265472.0000\n",
            "Epoch 91/500\n",
            "\u001b[1m56/56\u001b[0m \u001b[32m━━━━━━━━━━━━━━━━━━━━\u001b[0m\u001b[37m\u001b[0m \u001b[1m1s\u001b[0m 7ms/step - loss: 927842368.0000 - mae: 22814.8320 - mse: 927842368.0000 - val_loss: 618744192.0000 - val_mae: 18075.3555 - val_mse: 618744192.0000\n",
            "Epoch 92/500\n",
            "\u001b[1m56/56\u001b[0m \u001b[32m━━━━━━━━━━━━━━━━━━━━\u001b[0m\u001b[37m\u001b[0m \u001b[1m1s\u001b[0m 13ms/step - loss: 1060044224.0000 - mae: 23956.4727 - mse: 1060044224.0000 - val_loss: 610467712.0000 - val_mae: 17987.2188 - val_mse: 610467712.0000\n",
            "Epoch 93/500\n",
            "\u001b[1m56/56\u001b[0m \u001b[32m━━━━━━━━━━━━━━━━━━━━\u001b[0m\u001b[37m\u001b[0m \u001b[1m0s\u001b[0m 6ms/step - loss: 996255552.0000 - mae: 23685.4961 - mse: 996255552.0000 - val_loss: 612041152.0000 - val_mae: 17959.7988 - val_mse: 612041152.0000\n",
            "Epoch 94/500\n",
            "\u001b[1m56/56\u001b[0m \u001b[32m━━━━━━━━━━━━━━━━━━━━\u001b[0m\u001b[37m\u001b[0m \u001b[1m1s\u001b[0m 11ms/step - loss: 1312678656.0000 - mae: 24515.1738 - mse: 1312678656.0000 - val_loss: 601405056.0000 - val_mae: 18081.7051 - val_mse: 601405056.0000\n",
            "Epoch 95/500\n",
            "\u001b[1m56/56\u001b[0m \u001b[32m━━━━━━━━━━━━━━━━━━━━\u001b[0m\u001b[37m\u001b[0m \u001b[1m1s\u001b[0m 8ms/step - loss: 1046806080.0000 - mae: 23927.8965 - mse: 1046806080.0000 - val_loss: 658903040.0000 - val_mae: 18670.2168 - val_mse: 658903040.0000\n",
            "Epoch 96/500\n",
            "\u001b[1m56/56\u001b[0m \u001b[32m━━━━━━━━━━━━━━━━━━━━\u001b[0m\u001b[37m\u001b[0m \u001b[1m1s\u001b[0m 8ms/step - loss: 961645888.0000 - mae: 22476.3047 - mse: 961645888.0000 - val_loss: 689625152.0000 - val_mae: 19214.7793 - val_mse: 689625152.0000\n",
            "Epoch 97/500\n",
            "\u001b[1m56/56\u001b[0m \u001b[32m━━━━━━━━━━━━━━━━━━━━\u001b[0m\u001b[37m\u001b[0m \u001b[1m1s\u001b[0m 10ms/step - loss: 1068246656.0000 - mae: 24307.1992 - mse: 1068246656.0000 - val_loss: 593007616.0000 - val_mae: 17882.8281 - val_mse: 593007616.0000\n",
            "Epoch 98/500\n",
            "\u001b[1m56/56\u001b[0m \u001b[32m━━━━━━━━━━━━━━━━━━━━\u001b[0m\u001b[37m\u001b[0m \u001b[1m0s\u001b[0m 7ms/step - loss: 1003053504.0000 - mae: 23972.1016 - mse: 1003053504.0000 - val_loss: 644078080.0000 - val_mae: 18435.9453 - val_mse: 644078080.0000\n",
            "Epoch 99/500\n",
            "\u001b[1m56/56\u001b[0m \u001b[32m━━━━━━━━━━━━━━━━━━━━\u001b[0m\u001b[37m\u001b[0m \u001b[1m1s\u001b[0m 7ms/step - loss: 1004492096.0000 - mae: 23416.9707 - mse: 1004492096.0000 - val_loss: 598191104.0000 - val_mae: 17804.1074 - val_mse: 598191104.0000\n",
            "Epoch 100/500\n",
            "\u001b[1m56/56\u001b[0m \u001b[32m━━━━━━━━━━━━━━━━━━━━\u001b[0m\u001b[37m\u001b[0m \u001b[1m0s\u001b[0m 6ms/step - loss: 954067072.0000 - mae: 22927.1016 - mse: 954067072.0000 - val_loss: 674614912.0000 - val_mae: 18923.7031 - val_mse: 674614912.0000\n",
            "Epoch 101/500\n",
            "\u001b[1m56/56\u001b[0m \u001b[32m━━━━━━━━━━━━━━━━━━━━\u001b[0m\u001b[37m\u001b[0m \u001b[1m1s\u001b[0m 6ms/step - loss: 1038068736.0000 - mae: 24046.7051 - mse: 1038068736.0000 - val_loss: 637422912.0000 - val_mae: 18399.2188 - val_mse: 637422912.0000\n",
            "Epoch 102/500\n",
            "\u001b[1m56/56\u001b[0m \u001b[32m━━━━━━━━━━━━━━━━━━━━\u001b[0m\u001b[37m\u001b[0m \u001b[1m0s\u001b[0m 8ms/step - loss: 1063594688.0000 - mae: 24366.8242 - mse: 1063594688.0000 - val_loss: 604235008.0000 - val_mae: 18415.3887 - val_mse: 604235008.0000\n",
            "Epoch 103/500\n",
            "\u001b[1m56/56\u001b[0m \u001b[32m━━━━━━━━━━━━━━━━━━━━\u001b[0m\u001b[37m\u001b[0m \u001b[1m0s\u001b[0m 7ms/step - loss: 1120141184.0000 - mae: 23991.3008 - mse: 1120141184.0000 - val_loss: 596612416.0000 - val_mae: 17697.0273 - val_mse: 596612416.0000\n",
            "Epoch 104/500\n",
            "\u001b[1m56/56\u001b[0m \u001b[32m━━━━━━━━━━━━━━━━━━━━\u001b[0m\u001b[37m\u001b[0m \u001b[1m0s\u001b[0m 6ms/step - loss: 951572160.0000 - mae: 22960.5215 - mse: 951572160.0000 - val_loss: 684378816.0000 - val_mae: 19078.1602 - val_mse: 684378816.0000\n",
            "Epoch 105/500\n",
            "\u001b[1m56/56\u001b[0m \u001b[32m━━━━━━━━━━━━━━━━━━━━\u001b[0m\u001b[37m\u001b[0m \u001b[1m0s\u001b[0m 4ms/step - loss: 999681472.0000 - mae: 23133.8691 - mse: 999681472.0000 - val_loss: 623438208.0000 - val_mae: 18135.6855 - val_mse: 623438208.0000\n",
            "Epoch 106/500\n",
            "\u001b[1m56/56\u001b[0m \u001b[32m━━━━━━━━━━━━━━━━━━━━\u001b[0m\u001b[37m\u001b[0m \u001b[1m0s\u001b[0m 4ms/step - loss: 1142029696.0000 - mae: 24304.3848 - mse: 1142029696.0000 - val_loss: 774762688.0000 - val_mae: 20703.8008 - val_mse: 774762688.0000\n",
            "Epoch 107/500\n",
            "\u001b[1m56/56\u001b[0m \u001b[32m━━━━━━━━━━━━━━━━━━━━\u001b[0m\u001b[37m\u001b[0m \u001b[1m0s\u001b[0m 4ms/step - loss: 1084114304.0000 - mae: 23878.6172 - mse: 1084114304.0000 - val_loss: 574737920.0000 - val_mae: 17492.4805 - val_mse: 574737920.0000\n",
            "Epoch 108/500\n",
            "\u001b[1m56/56\u001b[0m \u001b[32m━━━━━━━━━━━━━━━━━━━━\u001b[0m\u001b[37m\u001b[0m \u001b[1m0s\u001b[0m 4ms/step - loss: 1057146048.0000 - mae: 23310.2461 - mse: 1057146048.0000 - val_loss: 599668096.0000 - val_mae: 17794.7363 - val_mse: 599668096.0000\n",
            "Epoch 109/500\n",
            "\u001b[1m56/56\u001b[0m \u001b[32m━━━━━━━━━━━━━━━━━━━━\u001b[0m\u001b[37m\u001b[0m \u001b[1m0s\u001b[0m 4ms/step - loss: 1210849536.0000 - mae: 23629.1680 - mse: 1210849536.0000 - val_loss: 572423616.0000 - val_mae: 17637.3477 - val_mse: 572423616.0000\n",
            "Epoch 110/500\n",
            "\u001b[1m56/56\u001b[0m \u001b[32m━━━━━━━━━━━━━━━━━━━━\u001b[0m\u001b[37m\u001b[0m \u001b[1m0s\u001b[0m 4ms/step - loss: 891988480.0000 - mae: 21864.3945 - mse: 891988480.0000 - val_loss: 575235008.0000 - val_mae: 17720.4668 - val_mse: 575235008.0000\n",
            "Epoch 111/500\n",
            "\u001b[1m56/56\u001b[0m \u001b[32m━━━━━━━━━━━━━━━━━━━━\u001b[0m\u001b[37m\u001b[0m \u001b[1m0s\u001b[0m 4ms/step - loss: 1043290048.0000 - mae: 23814.1172 - mse: 1043290048.0000 - val_loss: 575497792.0000 - val_mae: 17466.3398 - val_mse: 575497792.0000\n",
            "Epoch 112/500\n",
            "\u001b[1m56/56\u001b[0m \u001b[32m━━━━━━━━━━━━━━━━━━━━\u001b[0m\u001b[37m\u001b[0m \u001b[1m0s\u001b[0m 4ms/step - loss: 1020320384.0000 - mae: 23320.7246 - mse: 1020320384.0000 - val_loss: 634839296.0000 - val_mae: 18350.0098 - val_mse: 634839296.0000\n",
            "Epoch 113/500\n",
            "\u001b[1m56/56\u001b[0m \u001b[32m━━━━━━━━━━━━━━━━━━━━\u001b[0m\u001b[37m\u001b[0m \u001b[1m0s\u001b[0m 4ms/step - loss: 994631488.0000 - mae: 22936.7480 - mse: 994631488.0000 - val_loss: 572815552.0000 - val_mae: 17661.6016 - val_mse: 572815552.0000\n",
            "Epoch 114/500\n",
            "\u001b[1m56/56\u001b[0m \u001b[32m━━━━━━━━━━━━━━━━━━━━\u001b[0m\u001b[37m\u001b[0m \u001b[1m0s\u001b[0m 4ms/step - loss: 1002180416.0000 - mae: 23407.6973 - mse: 1002180416.0000 - val_loss: 564352640.0000 - val_mae: 17431.6816 - val_mse: 564352640.0000\n",
            "Epoch 115/500\n",
            "\u001b[1m56/56\u001b[0m \u001b[32m━━━━━━━━━━━━━━━━━━━━\u001b[0m\u001b[37m\u001b[0m \u001b[1m0s\u001b[0m 4ms/step - loss: 1088493312.0000 - mae: 23657.8789 - mse: 1088493312.0000 - val_loss: 564573888.0000 - val_mae: 17337.9473 - val_mse: 564573888.0000\n",
            "Epoch 116/500\n",
            "\u001b[1m56/56\u001b[0m \u001b[32m━━━━━━━━━━━━━━━━━━━━\u001b[0m\u001b[37m\u001b[0m \u001b[1m0s\u001b[0m 4ms/step - loss: 1038230720.0000 - mae: 23798.6387 - mse: 1038230720.0000 - val_loss: 561564544.0000 - val_mae: 17344.1836 - val_mse: 561564544.0000\n",
            "Epoch 117/500\n",
            "\u001b[1m56/56\u001b[0m \u001b[32m━━━━━━━━━━━━━━━━━━━━\u001b[0m\u001b[37m\u001b[0m \u001b[1m0s\u001b[0m 4ms/step - loss: 995401792.0000 - mae: 23357.7344 - mse: 995401792.0000 - val_loss: 559102144.0000 - val_mae: 17261.2754 - val_mse: 559102144.0000\n",
            "Epoch 118/500\n",
            "\u001b[1m56/56\u001b[0m \u001b[32m━━━━━━━━━━━━━━━━━━━━\u001b[0m\u001b[37m\u001b[0m \u001b[1m0s\u001b[0m 4ms/step - loss: 912951744.0000 - mae: 22569.1211 - mse: 912951744.0000 - val_loss: 578492736.0000 - val_mae: 17496.1445 - val_mse: 578492736.0000\n",
            "Epoch 119/500\n",
            "\u001b[1m56/56\u001b[0m \u001b[32m━━━━━━━━━━━━━━━━━━━━\u001b[0m\u001b[37m\u001b[0m \u001b[1m0s\u001b[0m 4ms/step - loss: 992125184.0000 - mae: 22927.7695 - mse: 992125184.0000 - val_loss: 557472192.0000 - val_mae: 17252.3340 - val_mse: 557472192.0000\n",
            "Epoch 120/500\n",
            "\u001b[1m56/56\u001b[0m \u001b[32m━━━━━━━━━━━━━━━━━━━━\u001b[0m\u001b[37m\u001b[0m \u001b[1m0s\u001b[0m 4ms/step - loss: 987692736.0000 - mae: 22065.4727 - mse: 987692736.0000 - val_loss: 564845248.0000 - val_mae: 17597.8750 - val_mse: 564845248.0000\n",
            "Epoch 121/500\n",
            "\u001b[1m56/56\u001b[0m \u001b[32m━━━━━━━━━━━━━━━━━━━━\u001b[0m\u001b[37m\u001b[0m \u001b[1m0s\u001b[0m 4ms/step - loss: 1010669824.0000 - mae: 22921.1719 - mse: 1010669824.0000 - val_loss: 560014336.0000 - val_mae: 17257.6426 - val_mse: 560014336.0000\n",
            "Epoch 122/500\n",
            "\u001b[1m56/56\u001b[0m \u001b[32m━━━━━━━━━━━━━━━━━━━━\u001b[0m\u001b[37m\u001b[0m \u001b[1m0s\u001b[0m 4ms/step - loss: 874533056.0000 - mae: 21989.0801 - mse: 874533056.0000 - val_loss: 551435008.0000 - val_mae: 17151.8340 - val_mse: 551435008.0000\n",
            "Epoch 123/500\n",
            "\u001b[1m56/56\u001b[0m \u001b[32m━━━━━━━━━━━━━━━━━━━━\u001b[0m\u001b[37m\u001b[0m \u001b[1m0s\u001b[0m 4ms/step - loss: 1015928576.0000 - mae: 23100.6230 - mse: 1015928576.0000 - val_loss: 588530752.0000 - val_mae: 17531.7520 - val_mse: 588530752.0000\n",
            "Epoch 124/500\n",
            "\u001b[1m56/56\u001b[0m \u001b[32m━━━━━━━━━━━━━━━━━━━━\u001b[0m\u001b[37m\u001b[0m \u001b[1m0s\u001b[0m 4ms/step - loss: 1261358336.0000 - mae: 23941.1738 - mse: 1261358336.0000 - val_loss: 594641280.0000 - val_mae: 17687.0059 - val_mse: 594641280.0000\n",
            "Epoch 125/500\n",
            "\u001b[1m56/56\u001b[0m \u001b[32m━━━━━━━━━━━━━━━━━━━━\u001b[0m\u001b[37m\u001b[0m \u001b[1m0s\u001b[0m 4ms/step - loss: 918483136.0000 - mae: 23168.8008 - mse: 918483136.0000 - val_loss: 557251904.0000 - val_mae: 17173.1387 - val_mse: 557251904.0000\n",
            "Epoch 126/500\n",
            "\u001b[1m56/56\u001b[0m \u001b[32m━━━━━━━━━━━━━━━━━━━━\u001b[0m\u001b[37m\u001b[0m \u001b[1m0s\u001b[0m 4ms/step - loss: 1049369600.0000 - mae: 22867.9336 - mse: 1049369600.0000 - val_loss: 568302336.0000 - val_mae: 17292.9922 - val_mse: 568302336.0000\n",
            "Epoch 127/500\n",
            "\u001b[1m56/56\u001b[0m \u001b[32m━━━━━━━━━━━━━━━━━━━━\u001b[0m\u001b[37m\u001b[0m \u001b[1m0s\u001b[0m 4ms/step - loss: 1138638464.0000 - mae: 23733.7930 - mse: 1138638464.0000 - val_loss: 545729408.0000 - val_mae: 17066.9805 - val_mse: 545729408.0000\n",
            "Epoch 128/500\n",
            "\u001b[1m56/56\u001b[0m \u001b[32m━━━━━━━━━━━━━━━━━━━━\u001b[0m\u001b[37m\u001b[0m \u001b[1m0s\u001b[0m 4ms/step - loss: 996437440.0000 - mae: 23506.1777 - mse: 996437440.0000 - val_loss: 546747328.0000 - val_mae: 17031.8828 - val_mse: 546747328.0000\n",
            "Epoch 129/500\n",
            "\u001b[1m56/56\u001b[0m \u001b[32m━━━━━━━━━━━━━━━━━━━━\u001b[0m\u001b[37m\u001b[0m \u001b[1m0s\u001b[0m 4ms/step - loss: 1022430656.0000 - mae: 23737.4883 - mse: 1022430656.0000 - val_loss: 633515264.0000 - val_mae: 18321.1621 - val_mse: 633515264.0000\n",
            "Epoch 130/500\n",
            "\u001b[1m56/56\u001b[0m \u001b[32m━━━━━━━━━━━━━━━━━━━━\u001b[0m\u001b[37m\u001b[0m \u001b[1m0s\u001b[0m 4ms/step - loss: 1033886336.0000 - mae: 23722.2402 - mse: 1033886336.0000 - val_loss: 557607872.0000 - val_mae: 17164.5020 - val_mse: 557607872.0000\n",
            "Epoch 131/500\n",
            "\u001b[1m56/56\u001b[0m \u001b[32m━━━━━━━━━━━━━━━━━━━━\u001b[0m\u001b[37m\u001b[0m \u001b[1m0s\u001b[0m 5ms/step - loss: 1091472768.0000 - mae: 23440.5742 - mse: 1091472768.0000 - val_loss: 576625408.0000 - val_mae: 17425.9980 - val_mse: 576625408.0000\n",
            "Epoch 132/500\n",
            "\u001b[1m56/56\u001b[0m \u001b[32m━━━━━━━━━━━━━━━━━━━━\u001b[0m\u001b[37m\u001b[0m \u001b[1m0s\u001b[0m 4ms/step - loss: 1077400960.0000 - mae: 23160.5605 - mse: 1077400960.0000 - val_loss: 553601664.0000 - val_mae: 17406.9746 - val_mse: 553601664.0000\n",
            "Epoch 133/500\n",
            "\u001b[1m56/56\u001b[0m \u001b[32m━━━━━━━━━━━━━━━━━━━━\u001b[0m\u001b[37m\u001b[0m \u001b[1m0s\u001b[0m 4ms/step - loss: 929437120.0000 - mae: 22412.9043 - mse: 929437120.0000 - val_loss: 579330560.0000 - val_mae: 17443.1934 - val_mse: 579330560.0000\n",
            "Epoch 134/500\n",
            "\u001b[1m56/56\u001b[0m \u001b[32m━━━━━━━━━━━━━━━━━━━━\u001b[0m\u001b[37m\u001b[0m \u001b[1m0s\u001b[0m 4ms/step - loss: 987912896.0000 - mae: 22995.8184 - mse: 987912896.0000 - val_loss: 544144576.0000 - val_mae: 17158.5820 - val_mse: 544144576.0000\n",
            "Epoch 135/500\n",
            "\u001b[1m56/56\u001b[0m \u001b[32m━━━━━━━━━━━━━━━━━━━━\u001b[0m\u001b[37m\u001b[0m \u001b[1m0s\u001b[0m 4ms/step - loss: 957837888.0000 - mae: 22903.2578 - mse: 957837888.0000 - val_loss: 567762176.0000 - val_mae: 17302.8809 - val_mse: 567762176.0000\n",
            "Epoch 136/500\n",
            "\u001b[1m56/56\u001b[0m \u001b[32m━━━━━━━━━━━━━━━━━━━━\u001b[0m\u001b[37m\u001b[0m \u001b[1m0s\u001b[0m 4ms/step - loss: 870769856.0000 - mae: 21490.5488 - mse: 870769856.0000 - val_loss: 584976064.0000 - val_mae: 17511.7832 - val_mse: 584976064.0000\n",
            "Epoch 137/500\n",
            "\u001b[1m56/56\u001b[0m \u001b[32m━━━━━━━━━━━━━━━━━━━━\u001b[0m\u001b[37m\u001b[0m \u001b[1m0s\u001b[0m 4ms/step - loss: 898720448.0000 - mae: 22649.1543 - mse: 898720448.0000 - val_loss: 534022048.0000 - val_mae: 16863.9141 - val_mse: 534022048.0000\n",
            "Epoch 138/500\n",
            "\u001b[1m56/56\u001b[0m \u001b[32m━━━━━━━━━━━━━━━━━━━━\u001b[0m\u001b[37m\u001b[0m \u001b[1m0s\u001b[0m 4ms/step - loss: 1018325888.0000 - mae: 23841.5586 - mse: 1018325888.0000 - val_loss: 533047712.0000 - val_mae: 16872.3164 - val_mse: 533047712.0000\n",
            "Epoch 139/500\n",
            "\u001b[1m56/56\u001b[0m \u001b[32m━━━━━━━━━━━━━━━━━━━━\u001b[0m\u001b[37m\u001b[0m \u001b[1m0s\u001b[0m 4ms/step - loss: 892897984.0000 - mae: 22129.6270 - mse: 892897984.0000 - val_loss: 572697280.0000 - val_mae: 17433.1367 - val_mse: 572697280.0000\n",
            "Epoch 140/500\n",
            "\u001b[1m56/56\u001b[0m \u001b[32m━━━━━━━━━━━━━━━━━━━━\u001b[0m\u001b[37m\u001b[0m \u001b[1m0s\u001b[0m 4ms/step - loss: 902456960.0000 - mae: 22367.3105 - mse: 902456960.0000 - val_loss: 560703232.0000 - val_mae: 17194.1445 - val_mse: 560703232.0000\n",
            "Epoch 141/500\n",
            "\u001b[1m56/56\u001b[0m \u001b[32m━━━━━━━━━━━━━━━━━━━━\u001b[0m\u001b[37m\u001b[0m \u001b[1m0s\u001b[0m 4ms/step - loss: 792158720.0000 - mae: 21644.4375 - mse: 792158720.0000 - val_loss: 529163072.0000 - val_mae: 16792.3262 - val_mse: 529163072.0000\n",
            "Epoch 142/500\n",
            "\u001b[1m56/56\u001b[0m \u001b[32m━━━━━━━━━━━━━━━━━━━━\u001b[0m\u001b[37m\u001b[0m \u001b[1m0s\u001b[0m 4ms/step - loss: 1190127744.0000 - mae: 23489.5234 - mse: 1190127744.0000 - val_loss: 572535680.0000 - val_mae: 17367.6348 - val_mse: 572535680.0000\n",
            "Epoch 143/500\n",
            "\u001b[1m56/56\u001b[0m \u001b[32m━━━━━━━━━━━━━━━━━━━━\u001b[0m\u001b[37m\u001b[0m \u001b[1m0s\u001b[0m 4ms/step - loss: 860606656.0000 - mae: 21889.1152 - mse: 860606656.0000 - val_loss: 531922336.0000 - val_mae: 16811.4727 - val_mse: 531922336.0000\n",
            "Epoch 144/500\n",
            "\u001b[1m56/56\u001b[0m \u001b[32m━━━━━━━━━━━━━━━━━━━━\u001b[0m\u001b[37m\u001b[0m \u001b[1m0s\u001b[0m 6ms/step - loss: 891690368.0000 - mae: 22442.9336 - mse: 891690368.0000 - val_loss: 572863552.0000 - val_mae: 17975.6348 - val_mse: 572863552.0000\n",
            "Epoch 145/500\n",
            "\u001b[1m56/56\u001b[0m \u001b[32m━━━━━━━━━━━━━━━━━━━━\u001b[0m\u001b[37m\u001b[0m \u001b[1m0s\u001b[0m 7ms/step - loss: 1058627328.0000 - mae: 22406.8672 - mse: 1058627328.0000 - val_loss: 535016960.0000 - val_mae: 16912.6660 - val_mse: 535016960.0000\n",
            "Epoch 146/500\n",
            "\u001b[1m56/56\u001b[0m \u001b[32m━━━━━━━━━━━━━━━━━━━━\u001b[0m\u001b[37m\u001b[0m \u001b[1m0s\u001b[0m 6ms/step - loss: 944812288.0000 - mae: 23110.1465 - mse: 944812288.0000 - val_loss: 630158848.0000 - val_mae: 18364.5742 - val_mse: 630158848.0000\n",
            "Epoch 147/500\n",
            "\u001b[1m56/56\u001b[0m \u001b[32m━━━━━━━━━━━━━━━━━━━━\u001b[0m\u001b[37m\u001b[0m \u001b[1m1s\u001b[0m 8ms/step - loss: 872043328.0000 - mae: 21781.1230 - mse: 872043328.0000 - val_loss: 539557760.0000 - val_mae: 16872.8809 - val_mse: 539557760.0000\n",
            "Epoch 148/500\n",
            "\u001b[1m56/56\u001b[0m \u001b[32m━━━━━━━━━━━━━━━━━━━━\u001b[0m\u001b[37m\u001b[0m \u001b[1m0s\u001b[0m 8ms/step - loss: 993901184.0000 - mae: 23129.4258 - mse: 993901184.0000 - val_loss: 534942048.0000 - val_mae: 16828.6211 - val_mse: 534942048.0000\n",
            "Epoch 149/500\n",
            "\u001b[1m56/56\u001b[0m \u001b[32m━━━━━━━━━━━━━━━━━━━━\u001b[0m\u001b[37m\u001b[0m \u001b[1m0s\u001b[0m 5ms/step - loss: 893851712.0000 - mae: 22665.6895 - mse: 893851712.0000 - val_loss: 541808576.0000 - val_mae: 16920.8262 - val_mse: 541808576.0000\n",
            "Epoch 150/500\n",
            "\u001b[1m56/56\u001b[0m \u001b[32m━━━━━━━━━━━━━━━━━━━━\u001b[0m\u001b[37m\u001b[0m \u001b[1m0s\u001b[0m 4ms/step - loss: 929415424.0000 - mae: 22498.3320 - mse: 929415424.0000 - val_loss: 566619776.0000 - val_mae: 17325.7090 - val_mse: 566619776.0000\n",
            "Epoch 151/500\n",
            "\u001b[1m56/56\u001b[0m \u001b[32m━━━━━━━━━━━━━━━━━━━━\u001b[0m\u001b[37m\u001b[0m \u001b[1m0s\u001b[0m 4ms/step - loss: 913375232.0000 - mae: 22485.0684 - mse: 913375232.0000 - val_loss: 526107200.0000 - val_mae: 16670.0059 - val_mse: 526107200.0000\n",
            "Epoch 152/500\n",
            "\u001b[1m56/56\u001b[0m \u001b[32m━━━━━━━━━━━━━━━━━━━━\u001b[0m\u001b[37m\u001b[0m \u001b[1m0s\u001b[0m 4ms/step - loss: 979378304.0000 - mae: 22985.0820 - mse: 979378304.0000 - val_loss: 519668768.0000 - val_mae: 16616.4336 - val_mse: 519668768.0000\n",
            "Epoch 153/500\n",
            "\u001b[1m56/56\u001b[0m \u001b[32m━━━━━━━━━━━━━━━━━━━━\u001b[0m\u001b[37m\u001b[0m \u001b[1m0s\u001b[0m 4ms/step - loss: 949272256.0000 - mae: 22529.1973 - mse: 949272256.0000 - val_loss: 564783232.0000 - val_mae: 17287.3516 - val_mse: 564783232.0000\n",
            "Epoch 154/500\n",
            "\u001b[1m56/56\u001b[0m \u001b[32m━━━━━━━━━━━━━━━━━━━━\u001b[0m\u001b[37m\u001b[0m \u001b[1m0s\u001b[0m 4ms/step - loss: 888470144.0000 - mae: 22378.6211 - mse: 888470144.0000 - val_loss: 532251360.0000 - val_mae: 16791.4414 - val_mse: 532251360.0000\n",
            "Epoch 155/500\n",
            "\u001b[1m56/56\u001b[0m \u001b[32m━━━━━━━━━━━━━━━━━━━━\u001b[0m\u001b[37m\u001b[0m \u001b[1m0s\u001b[0m 4ms/step - loss: 922001728.0000 - mae: 22579.6484 - mse: 922001728.0000 - val_loss: 545825728.0000 - val_mae: 16939.8945 - val_mse: 545825728.0000\n",
            "Epoch 156/500\n",
            "\u001b[1m56/56\u001b[0m \u001b[32m━━━━━━━━━━━━━━━━━━━━\u001b[0m\u001b[37m\u001b[0m \u001b[1m0s\u001b[0m 4ms/step - loss: 903901312.0000 - mae: 22270.6797 - mse: 903901312.0000 - val_loss: 515318912.0000 - val_mae: 16591.2910 - val_mse: 515318912.0000\n",
            "Epoch 157/500\n",
            "\u001b[1m56/56\u001b[0m \u001b[32m━━━━━━━━━━━━━━━━━━━━\u001b[0m\u001b[37m\u001b[0m \u001b[1m0s\u001b[0m 4ms/step - loss: 948471552.0000 - mae: 22434.8457 - mse: 948471552.0000 - val_loss: 519949920.0000 - val_mae: 16599.6367 - val_mse: 519949920.0000\n",
            "Epoch 158/500\n",
            "\u001b[1m56/56\u001b[0m \u001b[32m━━━━━━━━━━━━━━━━━━━━\u001b[0m\u001b[37m\u001b[0m \u001b[1m0s\u001b[0m 4ms/step - loss: 984224064.0000 - mae: 23053.8516 - mse: 984224064.0000 - val_loss: 517606656.0000 - val_mae: 16693.9395 - val_mse: 517606656.0000\n",
            "Epoch 159/500\n",
            "\u001b[1m56/56\u001b[0m \u001b[32m━━━━━━━━━━━━━━━━━━━━\u001b[0m\u001b[37m\u001b[0m \u001b[1m0s\u001b[0m 4ms/step - loss: 973652352.0000 - mae: 23288.7461 - mse: 973652352.0000 - val_loss: 510991776.0000 - val_mae: 16532.2129 - val_mse: 510991776.0000\n",
            "Epoch 160/500\n",
            "\u001b[1m56/56\u001b[0m \u001b[32m━━━━━━━━━━━━━━━━━━━━\u001b[0m\u001b[37m\u001b[0m \u001b[1m0s\u001b[0m 4ms/step - loss: 1001048704.0000 - mae: 22455.2656 - mse: 1001048704.0000 - val_loss: 525982656.0000 - val_mae: 16714.2441 - val_mse: 525982656.0000\n",
            "Epoch 161/500\n",
            "\u001b[1m56/56\u001b[0m \u001b[32m━━━━━━━━━━━━━━━━━━━━\u001b[0m\u001b[37m\u001b[0m \u001b[1m0s\u001b[0m 4ms/step - loss: 835433472.0000 - mae: 21639.9023 - mse: 835433472.0000 - val_loss: 509252512.0000 - val_mae: 16453.7676 - val_mse: 509252512.0000\n",
            "Epoch 162/500\n",
            "\u001b[1m56/56\u001b[0m \u001b[32m━━━━━━━━━━━━━━━━━━━━\u001b[0m\u001b[37m\u001b[0m \u001b[1m0s\u001b[0m 4ms/step - loss: 832296192.0000 - mae: 21935.6992 - mse: 832296192.0000 - val_loss: 520388704.0000 - val_mae: 16569.2500 - val_mse: 520388704.0000\n",
            "Epoch 163/500\n",
            "\u001b[1m56/56\u001b[0m \u001b[32m━━━━━━━━━━━━━━━━━━━━\u001b[0m\u001b[37m\u001b[0m \u001b[1m0s\u001b[0m 5ms/step - loss: 890240896.0000 - mae: 21785.3262 - mse: 890240896.0000 - val_loss: 506359616.0000 - val_mae: 16396.6660 - val_mse: 506359616.0000\n",
            "Epoch 164/500\n",
            "\u001b[1m56/56\u001b[0m \u001b[32m━━━━━━━━━━━━━━━━━━━━\u001b[0m\u001b[37m\u001b[0m \u001b[1m0s\u001b[0m 4ms/step - loss: 927005248.0000 - mae: 22559.8301 - mse: 927005248.0000 - val_loss: 517081088.0000 - val_mae: 16669.2910 - val_mse: 517081088.0000\n",
            "Epoch 165/500\n",
            "\u001b[1m56/56\u001b[0m \u001b[32m━━━━━━━━━━━━━━━━━━━━\u001b[0m\u001b[37m\u001b[0m \u001b[1m0s\u001b[0m 4ms/step - loss: 921370240.0000 - mae: 22209.0566 - mse: 921370240.0000 - val_loss: 599277888.0000 - val_mae: 17859.0762 - val_mse: 599277888.0000\n",
            "Epoch 166/500\n",
            "\u001b[1m56/56\u001b[0m \u001b[32m━━━━━━━━━━━━━━━━━━━━\u001b[0m\u001b[37m\u001b[0m \u001b[1m0s\u001b[0m 4ms/step - loss: 960721728.0000 - mae: 22512.2715 - mse: 960721728.0000 - val_loss: 514065312.0000 - val_mae: 16449.7051 - val_mse: 514065312.0000\n",
            "Epoch 167/500\n",
            "\u001b[1m56/56\u001b[0m \u001b[32m━━━━━━━━━━━━━━━━━━━━\u001b[0m\u001b[37m\u001b[0m \u001b[1m0s\u001b[0m 4ms/step - loss: 972788032.0000 - mae: 21763.9434 - mse: 972788032.0000 - val_loss: 500412192.0000 - val_mae: 16260.8799 - val_mse: 500412192.0000\n",
            "Epoch 168/500\n",
            "\u001b[1m56/56\u001b[0m \u001b[32m━━━━━━━━━━━━━━━━━━━━\u001b[0m\u001b[37m\u001b[0m \u001b[1m0s\u001b[0m 4ms/step - loss: 915750080.0000 - mae: 22450.2168 - mse: 915750080.0000 - val_loss: 506683424.0000 - val_mae: 16484.5781 - val_mse: 506683424.0000\n",
            "Epoch 169/500\n",
            "\u001b[1m56/56\u001b[0m \u001b[32m━━━━━━━━━━━━━━━━━━━━\u001b[0m\u001b[37m\u001b[0m \u001b[1m0s\u001b[0m 4ms/step - loss: 932092416.0000 - mae: 22227.1836 - mse: 932092416.0000 - val_loss: 506706816.0000 - val_mae: 16453.3340 - val_mse: 506706816.0000\n",
            "Epoch 170/500\n",
            "\u001b[1m56/56\u001b[0m \u001b[32m━━━━━━━━━━━━━━━━━━━━\u001b[0m\u001b[37m\u001b[0m \u001b[1m0s\u001b[0m 4ms/step - loss: 920075776.0000 - mae: 22730.2754 - mse: 920075776.0000 - val_loss: 517607808.0000 - val_mae: 16512.6016 - val_mse: 517607808.0000\n",
            "Epoch 171/500\n",
            "\u001b[1m56/56\u001b[0m \u001b[32m━━━━━━━━━━━━━━━━━━━━\u001b[0m\u001b[37m\u001b[0m \u001b[1m0s\u001b[0m 4ms/step - loss: 858817408.0000 - mae: 21563.9355 - mse: 858817408.0000 - val_loss: 542565376.0000 - val_mae: 16909.6172 - val_mse: 542565376.0000\n",
            "Epoch 172/500\n",
            "\u001b[1m56/56\u001b[0m \u001b[32m━━━━━━━━━━━━━━━━━━━━\u001b[0m\u001b[37m\u001b[0m \u001b[1m0s\u001b[0m 4ms/step - loss: 1104276736.0000 - mae: 22956.6953 - mse: 1104276736.0000 - val_loss: 507623904.0000 - val_mae: 16343.1406 - val_mse: 507623904.0000\n",
            "Epoch 173/500\n",
            "\u001b[1m56/56\u001b[0m \u001b[32m━━━━━━━━━━━━━━━━━━━━\u001b[0m\u001b[37m\u001b[0m \u001b[1m0s\u001b[0m 4ms/step - loss: 936819904.0000 - mae: 21950.5586 - mse: 936819904.0000 - val_loss: 502993856.0000 - val_mae: 16234.0107 - val_mse: 502993856.0000\n",
            "Epoch 174/500\n",
            "\u001b[1m56/56\u001b[0m \u001b[32m━━━━━━━━━━━━━━━━━━━━\u001b[0m\u001b[37m\u001b[0m \u001b[1m0s\u001b[0m 4ms/step - loss: 824033664.0000 - mae: 21122.6719 - mse: 824033664.0000 - val_loss: 538864000.0000 - val_mae: 16911.9180 - val_mse: 538864000.0000\n",
            "Epoch 175/500\n",
            "\u001b[1m56/56\u001b[0m \u001b[32m━━━━━━━━━━━━━━━━━━━━\u001b[0m\u001b[37m\u001b[0m \u001b[1m0s\u001b[0m 4ms/step - loss: 851560512.0000 - mae: 21575.9434 - mse: 851560512.0000 - val_loss: 512783808.0000 - val_mae: 16420.7500 - val_mse: 512783808.0000\n",
            "Epoch 176/500\n",
            "\u001b[1m56/56\u001b[0m \u001b[32m━━━━━━━━━━━━━━━━━━━━\u001b[0m\u001b[37m\u001b[0m \u001b[1m0s\u001b[0m 4ms/step - loss: 999003776.0000 - mae: 22654.6855 - mse: 999003776.0000 - val_loss: 602061504.0000 - val_mae: 18036.2285 - val_mse: 602061504.0000\n",
            "Epoch 177/500\n",
            "\u001b[1m56/56\u001b[0m \u001b[32m━━━━━━━━━━━━━━━━━━━━\u001b[0m\u001b[37m\u001b[0m \u001b[1m0s\u001b[0m 4ms/step - loss: 933819712.0000 - mae: 21745.3145 - mse: 933819712.0000 - val_loss: 497036608.0000 - val_mae: 16164.5234 - val_mse: 497036608.0000\n",
            "Epoch 178/500\n",
            "\u001b[1m56/56\u001b[0m \u001b[32m━━━━━━━━━━━━━━━━━━━━\u001b[0m\u001b[37m\u001b[0m \u001b[1m0s\u001b[0m 4ms/step - loss: 992710080.0000 - mae: 23152.4102 - mse: 992710080.0000 - val_loss: 491641024.0000 - val_mae: 16091.6289 - val_mse: 491641024.0000\n",
            "Epoch 179/500\n",
            "\u001b[1m56/56\u001b[0m \u001b[32m━━━━━━━━━━━━━━━━━━━━\u001b[0m\u001b[37m\u001b[0m \u001b[1m0s\u001b[0m 4ms/step - loss: 875291072.0000 - mae: 21987.1641 - mse: 875291072.0000 - val_loss: 491166912.0000 - val_mae: 16107.3232 - val_mse: 491166912.0000\n",
            "Epoch 180/500\n",
            "\u001b[1m56/56\u001b[0m \u001b[32m━━━━━━━━━━━━━━━━━━━━\u001b[0m\u001b[37m\u001b[0m \u001b[1m0s\u001b[0m 4ms/step - loss: 877958016.0000 - mae: 22343.0000 - mse: 877958016.0000 - val_loss: 498322784.0000 - val_mae: 16160.5928 - val_mse: 498322784.0000\n",
            "Epoch 181/500\n",
            "\u001b[1m56/56\u001b[0m \u001b[32m━━━━━━━━━━━━━━━━━━━━\u001b[0m\u001b[37m\u001b[0m \u001b[1m0s\u001b[0m 4ms/step - loss: 1008510016.0000 - mae: 22141.6465 - mse: 1008510016.0000 - val_loss: 493076736.0000 - val_mae: 16085.9844 - val_mse: 493076736.0000\n",
            "Epoch 182/500\n",
            "\u001b[1m56/56\u001b[0m \u001b[32m━━━━━━━━━━━━━━━━━━━━\u001b[0m\u001b[37m\u001b[0m \u001b[1m0s\u001b[0m 4ms/step - loss: 987340608.0000 - mae: 23260.4004 - mse: 987340608.0000 - val_loss: 487237440.0000 - val_mae: 16034.7441 - val_mse: 487237440.0000\n",
            "Epoch 183/500\n",
            "\u001b[1m56/56\u001b[0m \u001b[32m━━━━━━━━━━━━━━━━━━━━\u001b[0m\u001b[37m\u001b[0m \u001b[1m0s\u001b[0m 4ms/step - loss: 1337365760.0000 - mae: 24282.9199 - mse: 1337365760.0000 - val_loss: 486706272.0000 - val_mae: 16010.3398 - val_mse: 486706272.0000\n",
            "Epoch 184/500\n",
            "\u001b[1m56/56\u001b[0m \u001b[32m━━━━━━━━━━━━━━━━━━━━\u001b[0m\u001b[37m\u001b[0m \u001b[1m0s\u001b[0m 4ms/step - loss: 886948160.0000 - mae: 22344.5215 - mse: 886948160.0000 - val_loss: 496693856.0000 - val_mae: 16131.8457 - val_mse: 496693856.0000\n",
            "Epoch 185/500\n",
            "\u001b[1m56/56\u001b[0m \u001b[32m━━━━━━━━━━━━━━━━━━━━\u001b[0m\u001b[37m\u001b[0m \u001b[1m0s\u001b[0m 4ms/step - loss: 890763008.0000 - mae: 22124.1465 - mse: 890763008.0000 - val_loss: 484544544.0000 - val_mae: 15967.7568 - val_mse: 484544544.0000\n",
            "Epoch 186/500\n",
            "\u001b[1m56/56\u001b[0m \u001b[32m━━━━━━━━━━━━━━━━━━━━\u001b[0m\u001b[37m\u001b[0m \u001b[1m0s\u001b[0m 4ms/step - loss: 906625792.0000 - mae: 22611.6445 - mse: 906625792.0000 - val_loss: 501626336.0000 - val_mae: 16282.5215 - val_mse: 501626336.0000\n",
            "Epoch 187/500\n",
            "\u001b[1m56/56\u001b[0m \u001b[32m━━━━━━━━━━━━━━━━━━━━\u001b[0m\u001b[37m\u001b[0m \u001b[1m0s\u001b[0m 4ms/step - loss: 1029248064.0000 - mae: 23165.3965 - mse: 1029248064.0000 - val_loss: 481252832.0000 - val_mae: 15960.7539 - val_mse: 481252832.0000\n",
            "Epoch 188/500\n",
            "\u001b[1m56/56\u001b[0m \u001b[32m━━━━━━━━━━━━━━━━━━━━\u001b[0m\u001b[37m\u001b[0m \u001b[1m0s\u001b[0m 6ms/step - loss: 1070756096.0000 - mae: 23626.9766 - mse: 1070756096.0000 - val_loss: 510720544.0000 - val_mae: 16420.2969 - val_mse: 510720544.0000\n",
            "Epoch 189/500\n",
            "\u001b[1m56/56\u001b[0m \u001b[32m━━━━━━━━━━━━━━━━━━━━\u001b[0m\u001b[37m\u001b[0m \u001b[1m0s\u001b[0m 6ms/step - loss: 942275264.0000 - mae: 21792.3887 - mse: 942275264.0000 - val_loss: 483720896.0000 - val_mae: 15924.9463 - val_mse: 483720896.0000\n",
            "Epoch 190/500\n",
            "\u001b[1m56/56\u001b[0m \u001b[32m━━━━━━━━━━━━━━━━━━━━\u001b[0m\u001b[37m\u001b[0m \u001b[1m1s\u001b[0m 6ms/step - loss: 921426304.0000 - mae: 22336.2988 - mse: 921426304.0000 - val_loss: 525558848.0000 - val_mae: 16952.6562 - val_mse: 525558848.0000\n",
            "Epoch 191/500\n",
            "\u001b[1m56/56\u001b[0m \u001b[32m━━━━━━━━━━━━━━━━━━━━\u001b[0m\u001b[37m\u001b[0m \u001b[1m0s\u001b[0m 6ms/step - loss: 955268032.0000 - mae: 22364.0059 - mse: 955268032.0000 - val_loss: 481072768.0000 - val_mae: 15988.6396 - val_mse: 481072768.0000\n",
            "Epoch 192/500\n",
            "\u001b[1m56/56\u001b[0m \u001b[32m━━━━━━━━━━━━━━━━━━━━\u001b[0m\u001b[37m\u001b[0m \u001b[1m0s\u001b[0m 6ms/step - loss: 1024395584.0000 - mae: 22922.5234 - mse: 1024395584.0000 - val_loss: 487370368.0000 - val_mae: 15963.3066 - val_mse: 487370368.0000\n",
            "Epoch 193/500\n",
            "\u001b[1m56/56\u001b[0m \u001b[32m━━━━━━━━━━━━━━━━━━━━\u001b[0m\u001b[37m\u001b[0m \u001b[1m1s\u001b[0m 8ms/step - loss: 982277248.0000 - mae: 22248.8379 - mse: 982277248.0000 - val_loss: 507560992.0000 - val_mae: 16519.1934 - val_mse: 507560992.0000\n",
            "Epoch 194/500\n",
            "\u001b[1m56/56\u001b[0m \u001b[32m━━━━━━━━━━━━━━━━━━━━\u001b[0m\u001b[37m\u001b[0m \u001b[1m0s\u001b[0m 4ms/step - loss: 1027495168.0000 - mae: 23271.5488 - mse: 1027495168.0000 - val_loss: 488400128.0000 - val_mae: 16055.8936 - val_mse: 488400128.0000\n",
            "Epoch 195/500\n",
            "\u001b[1m56/56\u001b[0m \u001b[32m━━━━━━━━━━━━━━━━━━━━\u001b[0m\u001b[37m\u001b[0m \u001b[1m0s\u001b[0m 4ms/step - loss: 863811648.0000 - mae: 21529.4473 - mse: 863811648.0000 - val_loss: 487829568.0000 - val_mae: 15977.1943 - val_mse: 487829568.0000\n",
            "Epoch 196/500\n",
            "\u001b[1m56/56\u001b[0m \u001b[32m━━━━━━━━━━━━━━━━━━━━\u001b[0m\u001b[37m\u001b[0m \u001b[1m0s\u001b[0m 4ms/step - loss: 837396224.0000 - mae: 21816.1250 - mse: 837396224.0000 - val_loss: 514935744.0000 - val_mae: 16502.0449 - val_mse: 514935744.0000\n",
            "Epoch 197/500\n",
            "\u001b[1m56/56\u001b[0m \u001b[32m━━━━━━━━━━━━━━━━━━━━\u001b[0m\u001b[37m\u001b[0m \u001b[1m0s\u001b[0m 4ms/step - loss: 840230592.0000 - mae: 21691.5664 - mse: 840230592.0000 - val_loss: 560144960.0000 - val_mae: 17247.7676 - val_mse: 560144960.0000\n",
            "Epoch 198/500\n",
            "\u001b[1m56/56\u001b[0m \u001b[32m━━━━━━━━━━━━━━━━━━━━\u001b[0m\u001b[37m\u001b[0m \u001b[1m0s\u001b[0m 4ms/step - loss: 909663104.0000 - mae: 21996.0430 - mse: 909663104.0000 - val_loss: 519846400.0000 - val_mae: 16547.4551 - val_mse: 519846400.0000\n",
            "Epoch 199/500\n",
            "\u001b[1m56/56\u001b[0m \u001b[32m━━━━━━━━━━━━━━━━━━━━\u001b[0m\u001b[37m\u001b[0m \u001b[1m0s\u001b[0m 4ms/step - loss: 831739520.0000 - mae: 21896.5703 - mse: 831739520.0000 - val_loss: 473850752.0000 - val_mae: 15772.6396 - val_mse: 473850752.0000\n",
            "Epoch 200/500\n",
            "\u001b[1m56/56\u001b[0m \u001b[32m━━━━━━━━━━━━━━━━━━━━\u001b[0m\u001b[37m\u001b[0m \u001b[1m0s\u001b[0m 4ms/step - loss: 927383104.0000 - mae: 22901.4512 - mse: 927383104.0000 - val_loss: 504690880.0000 - val_mae: 16401.4883 - val_mse: 504690880.0000\n",
            "Epoch 201/500\n",
            "\u001b[1m56/56\u001b[0m \u001b[32m━━━━━━━━━━━━━━━━━━━━\u001b[0m\u001b[37m\u001b[0m \u001b[1m0s\u001b[0m 4ms/step - loss: 827007424.0000 - mae: 21746.1875 - mse: 827007424.0000 - val_loss: 530166368.0000 - val_mae: 16790.6973 - val_mse: 530166368.0000\n",
            "Epoch 202/500\n",
            "\u001b[1m56/56\u001b[0m \u001b[32m━━━━━━━━━━━━━━━━━━━━\u001b[0m\u001b[37m\u001b[0m \u001b[1m0s\u001b[0m 4ms/step - loss: 1082605184.0000 - mae: 22704.1816 - mse: 1082605184.0000 - val_loss: 479236352.0000 - val_mae: 15889.6641 - val_mse: 479236352.0000\n",
            "Epoch 203/500\n",
            "\u001b[1m56/56\u001b[0m \u001b[32m━━━━━━━━━━━━━━━━━━━━\u001b[0m\u001b[37m\u001b[0m \u001b[1m0s\u001b[0m 4ms/step - loss: 918824192.0000 - mae: 21508.6289 - mse: 918824192.0000 - val_loss: 470314112.0000 - val_mae: 15760.4238 - val_mse: 470314112.0000\n",
            "Epoch 204/500\n",
            "\u001b[1m56/56\u001b[0m \u001b[32m━━━━━━━━━━━━━━━━━━━━\u001b[0m\u001b[37m\u001b[0m \u001b[1m0s\u001b[0m 4ms/step - loss: 911114112.0000 - mae: 21830.6816 - mse: 911114112.0000 - val_loss: 533276096.0000 - val_mae: 16807.5059 - val_mse: 533276096.0000\n",
            "Epoch 205/500\n",
            "\u001b[1m56/56\u001b[0m \u001b[32m━━━━━━━━━━━━━━━━━━━━\u001b[0m\u001b[37m\u001b[0m \u001b[1m0s\u001b[0m 4ms/step - loss: 799650560.0000 - mae: 21476.7402 - mse: 799650560.0000 - val_loss: 468049728.0000 - val_mae: 15685.8008 - val_mse: 468049728.0000\n",
            "Epoch 206/500\n",
            "\u001b[1m56/56\u001b[0m \u001b[32m━━━━━━━━━━━━━━━━━━━━\u001b[0m\u001b[37m\u001b[0m \u001b[1m0s\u001b[0m 4ms/step - loss: 982826432.0000 - mae: 21789.2793 - mse: 982826432.0000 - val_loss: 500109248.0000 - val_mae: 16254.7949 - val_mse: 500109248.0000\n",
            "Epoch 207/500\n",
            "\u001b[1m56/56\u001b[0m \u001b[32m━━━━━━━━━━━━━━━━━━━━\u001b[0m\u001b[37m\u001b[0m \u001b[1m0s\u001b[0m 4ms/step - loss: 1067105984.0000 - mae: 23160.8809 - mse: 1067105984.0000 - val_loss: 474600096.0000 - val_mae: 15758.0352 - val_mse: 474600096.0000\n",
            "Epoch 208/500\n",
            "\u001b[1m56/56\u001b[0m \u001b[32m━━━━━━━━━━━━━━━━━━━━\u001b[0m\u001b[37m\u001b[0m \u001b[1m0s\u001b[0m 4ms/step - loss: 878767488.0000 - mae: 21559.3301 - mse: 878767488.0000 - val_loss: 466595456.0000 - val_mae: 15670.6982 - val_mse: 466595456.0000\n",
            "Epoch 209/500\n",
            "\u001b[1m56/56\u001b[0m \u001b[32m━━━━━━━━━━━━━━━━━━━━\u001b[0m\u001b[37m\u001b[0m \u001b[1m0s\u001b[0m 4ms/step - loss: 946214272.0000 - mae: 21977.6230 - mse: 946214272.0000 - val_loss: 482290624.0000 - val_mae: 15914.5020 - val_mse: 482290624.0000\n",
            "Epoch 210/500\n",
            "\u001b[1m56/56\u001b[0m \u001b[32m━━━━━━━━━━━━━━━━━━━━\u001b[0m\u001b[37m\u001b[0m \u001b[1m0s\u001b[0m 4ms/step - loss: 967046912.0000 - mae: 22031.3770 - mse: 967046912.0000 - val_loss: 470508736.0000 - val_mae: 15726.2969 - val_mse: 470508736.0000\n",
            "Epoch 211/500\n",
            "\u001b[1m56/56\u001b[0m \u001b[32m━━━━━━━━━━━━━━━━━━━━\u001b[0m\u001b[37m\u001b[0m \u001b[1m0s\u001b[0m 4ms/step - loss: 995982592.0000 - mae: 22712.0859 - mse: 995982592.0000 - val_loss: 478928608.0000 - val_mae: 15832.1641 - val_mse: 478928608.0000\n",
            "Epoch 212/500\n",
            "\u001b[1m56/56\u001b[0m \u001b[32m━━━━━━━━━━━━━━━━━━━━\u001b[0m\u001b[37m\u001b[0m \u001b[1m0s\u001b[0m 4ms/step - loss: 948772800.0000 - mae: 22653.3750 - mse: 948772800.0000 - val_loss: 470730016.0000 - val_mae: 15751.6260 - val_mse: 470730016.0000\n",
            "Epoch 213/500\n",
            "\u001b[1m56/56\u001b[0m \u001b[32m━━━━━━━━━━━━━━━━━━━━\u001b[0m\u001b[37m\u001b[0m \u001b[1m0s\u001b[0m 4ms/step - loss: 872668864.0000 - mae: 22203.1289 - mse: 872668864.0000 - val_loss: 463535936.0000 - val_mae: 15617.6104 - val_mse: 463535936.0000\n",
            "Epoch 214/500\n",
            "\u001b[1m56/56\u001b[0m \u001b[32m━━━━━━━━━━━━━━━━━━━━\u001b[0m\u001b[37m\u001b[0m \u001b[1m0s\u001b[0m 4ms/step - loss: 808521856.0000 - mae: 21370.1699 - mse: 808521856.0000 - val_loss: 464297376.0000 - val_mae: 15689.6377 - val_mse: 464297376.0000\n",
            "Epoch 215/500\n",
            "\u001b[1m56/56\u001b[0m \u001b[32m━━━━━━━━━━━━━━━━━━━━\u001b[0m\u001b[37m\u001b[0m \u001b[1m0s\u001b[0m 4ms/step - loss: 938469184.0000 - mae: 21353.4336 - mse: 938469184.0000 - val_loss: 492397280.0000 - val_mae: 16149.3369 - val_mse: 492397280.0000\n",
            "Epoch 216/500\n",
            "\u001b[1m56/56\u001b[0m \u001b[32m━━━━━━━━━━━━━━━━━━━━\u001b[0m\u001b[37m\u001b[0m \u001b[1m0s\u001b[0m 4ms/step - loss: 990008064.0000 - mae: 22104.3281 - mse: 990008064.0000 - val_loss: 476381728.0000 - val_mae: 15846.1787 - val_mse: 476381728.0000\n",
            "Epoch 217/500\n",
            "\u001b[1m56/56\u001b[0m \u001b[32m━━━━━━━━━━━━━━━━━━━━\u001b[0m\u001b[37m\u001b[0m \u001b[1m0s\u001b[0m 4ms/step - loss: 886594112.0000 - mae: 22461.6797 - mse: 886594112.0000 - val_loss: 478089344.0000 - val_mae: 15934.5137 - val_mse: 478089344.0000\n",
            "Epoch 218/500\n",
            "\u001b[1m56/56\u001b[0m \u001b[32m━━━━━━━━━━━━━━━━━━━━\u001b[0m\u001b[37m\u001b[0m \u001b[1m0s\u001b[0m 4ms/step - loss: 964130816.0000 - mae: 22763.1875 - mse: 964130816.0000 - val_loss: 473090304.0000 - val_mae: 15780.3818 - val_mse: 473090304.0000\n",
            "Epoch 219/500\n",
            "\u001b[1m56/56\u001b[0m \u001b[32m━━━━━━━━━━━━━━━━━━━━\u001b[0m\u001b[37m\u001b[0m \u001b[1m0s\u001b[0m 4ms/step - loss: 1161013376.0000 - mae: 22323.5059 - mse: 1161013376.0000 - val_loss: 477739456.0000 - val_mae: 15837.9336 - val_mse: 477739456.0000\n",
            "Epoch 220/500\n",
            "\u001b[1m56/56\u001b[0m \u001b[32m━━━━━━━━━━━━━━━━━━━━\u001b[0m\u001b[37m\u001b[0m \u001b[1m0s\u001b[0m 4ms/step - loss: 985808768.0000 - mae: 22983.6016 - mse: 985808768.0000 - val_loss: 477856064.0000 - val_mae: 15855.3857 - val_mse: 477856064.0000\n",
            "Epoch 221/500\n",
            "\u001b[1m56/56\u001b[0m \u001b[32m━━━━━━━━━━━━━━━━━━━━\u001b[0m\u001b[37m\u001b[0m \u001b[1m0s\u001b[0m 4ms/step - loss: 852205696.0000 - mae: 21931.8730 - mse: 852205696.0000 - val_loss: 461722720.0000 - val_mae: 15572.4609 - val_mse: 461722720.0000\n",
            "Epoch 222/500\n",
            "\u001b[1m56/56\u001b[0m \u001b[32m━━━━━━━━━━━━━━━━━━━━\u001b[0m\u001b[37m\u001b[0m \u001b[1m0s\u001b[0m 5ms/step - loss: 825962112.0000 - mae: 21442.9922 - mse: 825962112.0000 - val_loss: 466180544.0000 - val_mae: 15656.6689 - val_mse: 466180544.0000\n",
            "Epoch 223/500\n",
            "\u001b[1m56/56\u001b[0m \u001b[32m━━━━━━━━━━━━━━━━━━━━\u001b[0m\u001b[37m\u001b[0m \u001b[1m0s\u001b[0m 4ms/step - loss: 841187712.0000 - mae: 21687.1934 - mse: 841187712.0000 - val_loss: 464783776.0000 - val_mae: 15637.3691 - val_mse: 464783776.0000\n",
            "Epoch 224/500\n",
            "\u001b[1m56/56\u001b[0m \u001b[32m━━━━━━━━━━━━━━━━━━━━\u001b[0m\u001b[37m\u001b[0m \u001b[1m0s\u001b[0m 4ms/step - loss: 966346240.0000 - mae: 22200.1191 - mse: 966346240.0000 - val_loss: 489335872.0000 - val_mae: 16082.9062 - val_mse: 489335872.0000\n",
            "Epoch 225/500\n",
            "\u001b[1m56/56\u001b[0m \u001b[32m━━━━━━━━━━━━━━━━━━━━\u001b[0m\u001b[37m\u001b[0m \u001b[1m0s\u001b[0m 4ms/step - loss: 948794240.0000 - mae: 22313.9297 - mse: 948794240.0000 - val_loss: 562698816.0000 - val_mae: 17483.3633 - val_mse: 562698816.0000\n",
            "Epoch 226/500\n",
            "\u001b[1m56/56\u001b[0m \u001b[32m━━━━━━━━━━━━━━━━━━━━\u001b[0m\u001b[37m\u001b[0m \u001b[1m0s\u001b[0m 5ms/step - loss: 1156779264.0000 - mae: 22541.6816 - mse: 1156779264.0000 - val_loss: 458958208.0000 - val_mae: 15515.7715 - val_mse: 458958208.0000\n",
            "Epoch 227/500\n",
            "\u001b[1m56/56\u001b[0m \u001b[32m━━━━━━━━━━━━━━━━━━━━\u001b[0m\u001b[37m\u001b[0m \u001b[1m0s\u001b[0m 4ms/step - loss: 795052032.0000 - mae: 21463.4375 - mse: 795052032.0000 - val_loss: 456666880.0000 - val_mae: 15508.7402 - val_mse: 456666880.0000\n",
            "Epoch 228/500\n",
            "\u001b[1m56/56\u001b[0m \u001b[32m━━━━━━━━━━━━━━━━━━━━\u001b[0m\u001b[37m\u001b[0m \u001b[1m0s\u001b[0m 4ms/step - loss: 1018780800.0000 - mae: 22133.5273 - mse: 1018780800.0000 - val_loss: 456537376.0000 - val_mae: 15481.8252 - val_mse: 456537376.0000\n",
            "Epoch 229/500\n",
            "\u001b[1m56/56\u001b[0m \u001b[32m━━━━━━━━━━━━━━━━━━━━\u001b[0m\u001b[37m\u001b[0m \u001b[1m0s\u001b[0m 4ms/step - loss: 913342784.0000 - mae: 21646.2539 - mse: 913342784.0000 - val_loss: 456466272.0000 - val_mae: 15445.3623 - val_mse: 456466272.0000\n",
            "Epoch 230/500\n",
            "\u001b[1m56/56\u001b[0m \u001b[32m━━━━━━━━━━━━━━━━━━━━\u001b[0m\u001b[37m\u001b[0m \u001b[1m0s\u001b[0m 4ms/step - loss: 895938624.0000 - mae: 22780.2129 - mse: 895938624.0000 - val_loss: 543228480.0000 - val_mae: 17103.8027 - val_mse: 543228480.0000\n",
            "Epoch 231/500\n",
            "\u001b[1m56/56\u001b[0m \u001b[32m━━━━━━━━━━━━━━━━━━━━\u001b[0m\u001b[37m\u001b[0m \u001b[1m0s\u001b[0m 4ms/step - loss: 946752768.0000 - mae: 22378.8887 - mse: 946752768.0000 - val_loss: 453515104.0000 - val_mae: 15416.1104 - val_mse: 453515104.0000\n",
            "Epoch 232/500\n",
            "\u001b[1m56/56\u001b[0m \u001b[32m━━━━━━━━━━━━━━━━━━━━\u001b[0m\u001b[37m\u001b[0m \u001b[1m0s\u001b[0m 6ms/step - loss: 882023040.0000 - mae: 21347.2148 - mse: 882023040.0000 - val_loss: 477848672.0000 - val_mae: 15854.2871 - val_mse: 477848672.0000\n",
            "Epoch 233/500\n",
            "\u001b[1m56/56\u001b[0m \u001b[32m━━━━━━━━━━━━━━━━━━━━\u001b[0m\u001b[37m\u001b[0m \u001b[1m1s\u001b[0m 6ms/step - loss: 1021233600.0000 - mae: 21702.8594 - mse: 1021233600.0000 - val_loss: 511524864.0000 - val_mae: 16469.5879 - val_mse: 511524864.0000\n",
            "Epoch 234/500\n",
            "\u001b[1m56/56\u001b[0m \u001b[32m━━━━━━━━━━━━━━━━━━━━\u001b[0m\u001b[37m\u001b[0m \u001b[1m1s\u001b[0m 7ms/step - loss: 925243712.0000 - mae: 22267.2422 - mse: 925243712.0000 - val_loss: 455873536.0000 - val_mae: 15406.4648 - val_mse: 455873536.0000\n",
            "Epoch 235/500\n",
            "\u001b[1m56/56\u001b[0m \u001b[32m━━━━━━━━━━━━━━━━━━━━\u001b[0m\u001b[37m\u001b[0m \u001b[1m1s\u001b[0m 7ms/step - loss: 1048736384.0000 - mae: 23045.4531 - mse: 1048736384.0000 - val_loss: 460842528.0000 - val_mae: 15495.2686 - val_mse: 460842528.0000\n",
            "Epoch 236/500\n",
            "\u001b[1m56/56\u001b[0m \u001b[32m━━━━━━━━━━━━━━━━━━━━\u001b[0m\u001b[37m\u001b[0m \u001b[1m0s\u001b[0m 4ms/step - loss: 924369344.0000 - mae: 21590.3711 - mse: 924369344.0000 - val_loss: 463356480.0000 - val_mae: 15494.6152 - val_mse: 463356480.0000\n",
            "Epoch 237/500\n",
            "\u001b[1m56/56\u001b[0m \u001b[32m━━━━━━━━━━━━━━━━━━━━\u001b[0m\u001b[37m\u001b[0m \u001b[1m0s\u001b[0m 4ms/step - loss: 1002440704.0000 - mae: 21977.7559 - mse: 1002440704.0000 - val_loss: 459015552.0000 - val_mae: 15533.3633 - val_mse: 459015552.0000\n",
            "Epoch 238/500\n",
            "\u001b[1m56/56\u001b[0m \u001b[32m━━━━━━━━━━━━━━━━━━━━\u001b[0m\u001b[37m\u001b[0m \u001b[1m0s\u001b[0m 4ms/step - loss: 967494720.0000 - mae: 23198.3438 - mse: 967494720.0000 - val_loss: 528574816.0000 - val_mae: 16758.4062 - val_mse: 528574816.0000\n",
            "Epoch 239/500\n",
            "\u001b[1m56/56\u001b[0m \u001b[32m━━━━━━━━━━━━━━━━━━━━\u001b[0m\u001b[37m\u001b[0m \u001b[1m0s\u001b[0m 4ms/step - loss: 1076268160.0000 - mae: 22942.5391 - mse: 1076268160.0000 - val_loss: 462057120.0000 - val_mae: 15504.3789 - val_mse: 462057120.0000\n",
            "Epoch 240/500\n",
            "\u001b[1m56/56\u001b[0m \u001b[32m━━━━━━━━━━━━━━━━━━━━\u001b[0m\u001b[37m\u001b[0m \u001b[1m0s\u001b[0m 4ms/step - loss: 903556160.0000 - mae: 21853.0254 - mse: 903556160.0000 - val_loss: 482879360.0000 - val_mae: 15986.5850 - val_mse: 482879360.0000\n",
            "Epoch 241/500\n",
            "\u001b[1m56/56\u001b[0m \u001b[32m━━━━━━━━━━━━━━━━━━━━\u001b[0m\u001b[37m\u001b[0m \u001b[1m0s\u001b[0m 4ms/step - loss: 800747072.0000 - mae: 20830.2832 - mse: 800747072.0000 - val_loss: 452424736.0000 - val_mae: 15371.6982 - val_mse: 452424736.0000\n",
            "Epoch 242/500\n",
            "\u001b[1m56/56\u001b[0m \u001b[32m━━━━━━━━━━━━━━━━━━━━\u001b[0m\u001b[37m\u001b[0m \u001b[1m0s\u001b[0m 4ms/step - loss: 937598016.0000 - mae: 22762.7090 - mse: 937598016.0000 - val_loss: 452116896.0000 - val_mae: 15365.7900 - val_mse: 452116896.0000\n",
            "Epoch 243/500\n",
            "\u001b[1m56/56\u001b[0m \u001b[32m━━━━━━━━━━━━━━━━━━━━\u001b[0m\u001b[37m\u001b[0m \u001b[1m0s\u001b[0m 4ms/step - loss: 989737344.0000 - mae: 22910.6191 - mse: 989737344.0000 - val_loss: 475231264.0000 - val_mae: 15722.5176 - val_mse: 475231264.0000\n",
            "Epoch 244/500\n",
            "\u001b[1m56/56\u001b[0m \u001b[32m━━━━━━━━━━━━━━━━━━━━\u001b[0m\u001b[37m\u001b[0m \u001b[1m0s\u001b[0m 4ms/step - loss: 809303872.0000 - mae: 21082.1133 - mse: 809303872.0000 - val_loss: 479367872.0000 - val_mae: 15806.7510 - val_mse: 479367872.0000\n",
            "Epoch 245/500\n",
            "\u001b[1m56/56\u001b[0m \u001b[32m━━━━━━━━━━━━━━━━━━━━\u001b[0m\u001b[37m\u001b[0m \u001b[1m0s\u001b[0m 4ms/step - loss: 903881856.0000 - mae: 22286.1641 - mse: 903881856.0000 - val_loss: 496758048.0000 - val_mae: 16283.8770 - val_mse: 496758048.0000\n",
            "Epoch 246/500\n",
            "\u001b[1m56/56\u001b[0m \u001b[32m━━━━━━━━━━━━━━━━━━━━\u001b[0m\u001b[37m\u001b[0m \u001b[1m0s\u001b[0m 4ms/step - loss: 909677312.0000 - mae: 22299.6250 - mse: 909677312.0000 - val_loss: 480494368.0000 - val_mae: 15914.3789 - val_mse: 480494368.0000\n",
            "Epoch 247/500\n",
            "\u001b[1m56/56\u001b[0m \u001b[32m━━━━━━━━━━━━━━━━━━━━\u001b[0m\u001b[37m\u001b[0m \u001b[1m0s\u001b[0m 4ms/step - loss: 961875136.0000 - mae: 22279.7441 - mse: 961875136.0000 - val_loss: 450076064.0000 - val_mae: 15304.1465 - val_mse: 450076064.0000\n",
            "Epoch 248/500\n",
            "\u001b[1m56/56\u001b[0m \u001b[32m━━━━━━━━━━━━━━━━━━━━\u001b[0m\u001b[37m\u001b[0m \u001b[1m0s\u001b[0m 4ms/step - loss: 775726016.0000 - mae: 20937.9004 - mse: 775726016.0000 - val_loss: 451601664.0000 - val_mae: 15308.2998 - val_mse: 451601664.0000\n",
            "Epoch 249/500\n",
            "\u001b[1m56/56\u001b[0m \u001b[32m━━━━━━━━━━━━━━━━━━━━\u001b[0m\u001b[37m\u001b[0m \u001b[1m0s\u001b[0m 4ms/step - loss: 1013538624.0000 - mae: 22159.4434 - mse: 1013538624.0000 - val_loss: 461755776.0000 - val_mae: 15553.4541 - val_mse: 461755776.0000\n",
            "Epoch 250/500\n",
            "\u001b[1m56/56\u001b[0m \u001b[32m━━━━━━━━━━━━━━━━━━━━\u001b[0m\u001b[37m\u001b[0m \u001b[1m0s\u001b[0m 4ms/step - loss: 866963584.0000 - mae: 21519.0957 - mse: 866963584.0000 - val_loss: 466427872.0000 - val_mae: 15612.4180 - val_mse: 466427872.0000\n",
            "Epoch 251/500\n",
            "\u001b[1m56/56\u001b[0m \u001b[32m━━━━━━━━━━━━━━━━━━━━\u001b[0m\u001b[37m\u001b[0m \u001b[1m0s\u001b[0m 4ms/step - loss: 848787712.0000 - mae: 21987.7402 - mse: 848787712.0000 - val_loss: 453013120.0000 - val_mae: 15368.3838 - val_mse: 453013120.0000\n",
            "Epoch 252/500\n",
            "\u001b[1m56/56\u001b[0m \u001b[32m━━━━━━━━━━━━━━━━━━━━\u001b[0m\u001b[37m\u001b[0m \u001b[1m0s\u001b[0m 4ms/step - loss: 971695680.0000 - mae: 22404.5859 - mse: 971695680.0000 - val_loss: 444581440.0000 - val_mae: 15252.8066 - val_mse: 444581440.0000\n",
            "Epoch 253/500\n",
            "\u001b[1m56/56\u001b[0m \u001b[32m━━━━━━━━━━━━━━━━━━━━\u001b[0m\u001b[37m\u001b[0m \u001b[1m0s\u001b[0m 4ms/step - loss: 849975808.0000 - mae: 21837.7832 - mse: 849975808.0000 - val_loss: 455108896.0000 - val_mae: 15356.7334 - val_mse: 455108896.0000\n",
            "Epoch 254/500\n",
            "\u001b[1m56/56\u001b[0m \u001b[32m━━━━━━━━━━━━━━━━━━━━\u001b[0m\u001b[37m\u001b[0m \u001b[1m0s\u001b[0m 4ms/step - loss: 890816896.0000 - mae: 21828.2910 - mse: 890816896.0000 - val_loss: 446072032.0000 - val_mae: 15246.9922 - val_mse: 446072032.0000\n",
            "Epoch 255/500\n",
            "\u001b[1m56/56\u001b[0m \u001b[32m━━━━━━━━━━━━━━━━━━━━\u001b[0m\u001b[37m\u001b[0m \u001b[1m0s\u001b[0m 4ms/step - loss: 1065272384.0000 - mae: 22042.2695 - mse: 1065272384.0000 - val_loss: 446062016.0000 - val_mae: 15205.7598 - val_mse: 446062016.0000\n",
            "Epoch 256/500\n",
            "\u001b[1m56/56\u001b[0m \u001b[32m━━━━━━━━━━━━━━━━━━━━\u001b[0m\u001b[37m\u001b[0m \u001b[1m0s\u001b[0m 5ms/step - loss: 858665664.0000 - mae: 21796.9863 - mse: 858665664.0000 - val_loss: 443932512.0000 - val_mae: 15243.4453 - val_mse: 443932512.0000\n",
            "Epoch 257/500\n",
            "\u001b[1m56/56\u001b[0m \u001b[32m━━━━━━━━━━━━━━━━━━━━\u001b[0m\u001b[37m\u001b[0m \u001b[1m0s\u001b[0m 4ms/step - loss: 1082317824.0000 - mae: 22055.9922 - mse: 1082317824.0000 - val_loss: 455512096.0000 - val_mae: 15379.7002 - val_mse: 455512096.0000\n",
            "Epoch 258/500\n",
            "\u001b[1m56/56\u001b[0m \u001b[32m━━━━━━━━━━━━━━━━━━━━\u001b[0m\u001b[37m\u001b[0m \u001b[1m0s\u001b[0m 4ms/step - loss: 915275520.0000 - mae: 21997.8652 - mse: 915275520.0000 - val_loss: 453662336.0000 - val_mae: 15362.1621 - val_mse: 453662336.0000\n",
            "Epoch 259/500\n",
            "\u001b[1m56/56\u001b[0m \u001b[32m━━━━━━━━━━━━━━━━━━━━\u001b[0m\u001b[37m\u001b[0m \u001b[1m0s\u001b[0m 4ms/step - loss: 852839616.0000 - mae: 21412.7734 - mse: 852839616.0000 - val_loss: 497840288.0000 - val_mae: 16277.9326 - val_mse: 497840288.0000\n",
            "Epoch 260/500\n",
            "\u001b[1m56/56\u001b[0m \u001b[32m━━━━━━━━━━━━━━━━━━━━\u001b[0m\u001b[37m\u001b[0m \u001b[1m0s\u001b[0m 4ms/step - loss: 904109184.0000 - mae: 22101.3574 - mse: 904109184.0000 - val_loss: 454585728.0000 - val_mae: 15421.5078 - val_mse: 454585728.0000\n",
            "Epoch 261/500\n",
            "\u001b[1m56/56\u001b[0m \u001b[32m━━━━━━━━━━━━━━━━━━━━\u001b[0m\u001b[37m\u001b[0m \u001b[1m0s\u001b[0m 4ms/step - loss: 865675136.0000 - mae: 21722.0918 - mse: 865675136.0000 - val_loss: 451735360.0000 - val_mae: 15360.1523 - val_mse: 451735360.0000\n",
            "Epoch 262/500\n",
            "\u001b[1m56/56\u001b[0m \u001b[32m━━━━━━━━━━━━━━━━━━━━\u001b[0m\u001b[37m\u001b[0m \u001b[1m0s\u001b[0m 4ms/step - loss: 897833280.0000 - mae: 21672.4766 - mse: 897833280.0000 - val_loss: 444818336.0000 - val_mae: 15186.6748 - val_mse: 444818336.0000\n",
            "Epoch 263/500\n",
            "\u001b[1m56/56\u001b[0m \u001b[32m━━━━━━━━━━━━━━━━━━━━\u001b[0m\u001b[37m\u001b[0m \u001b[1m0s\u001b[0m 4ms/step - loss: 844979200.0000 - mae: 21152.8359 - mse: 844979200.0000 - val_loss: 451175200.0000 - val_mae: 15321.1250 - val_mse: 451175200.0000\n",
            "Epoch 264/500\n",
            "\u001b[1m56/56\u001b[0m \u001b[32m━━━━━━━━━━━━━━━━━━━━\u001b[0m\u001b[37m\u001b[0m \u001b[1m0s\u001b[0m 5ms/step - loss: 829907712.0000 - mae: 21675.4531 - mse: 829907712.0000 - val_loss: 437316672.0000 - val_mae: 15021.2373 - val_mse: 437316672.0000\n",
            "Epoch 265/500\n",
            "\u001b[1m56/56\u001b[0m \u001b[32m━━━━━━━━━━━━━━━━━━━━\u001b[0m\u001b[37m\u001b[0m \u001b[1m0s\u001b[0m 4ms/step - loss: 780578176.0000 - mae: 20975.9824 - mse: 780578176.0000 - val_loss: 484222656.0000 - val_mae: 15927.3848 - val_mse: 484222656.0000\n",
            "Epoch 266/500\n",
            "\u001b[1m56/56\u001b[0m \u001b[32m━━━━━━━━━━━━━━━━━━━━\u001b[0m\u001b[37m\u001b[0m \u001b[1m0s\u001b[0m 4ms/step - loss: 996653696.0000 - mae: 21972.6152 - mse: 996653696.0000 - val_loss: 484482656.0000 - val_mae: 16064.2285 - val_mse: 484482656.0000\n",
            "Epoch 267/500\n",
            "\u001b[1m56/56\u001b[0m \u001b[32m━━━━━━━━━━━━━━━━━━━━\u001b[0m\u001b[37m\u001b[0m \u001b[1m0s\u001b[0m 4ms/step - loss: 917461632.0000 - mae: 21286.4922 - mse: 917461632.0000 - val_loss: 440540064.0000 - val_mae: 15060.1006 - val_mse: 440540064.0000\n",
            "Epoch 268/500\n",
            "\u001b[1m56/56\u001b[0m \u001b[32m━━━━━━━━━━━━━━━━━━━━\u001b[0m\u001b[37m\u001b[0m \u001b[1m0s\u001b[0m 4ms/step - loss: 906199424.0000 - mae: 22284.5488 - mse: 906199424.0000 - val_loss: 490428864.0000 - val_mae: 16159.3848 - val_mse: 490428864.0000\n",
            "Epoch 269/500\n",
            "\u001b[1m56/56\u001b[0m \u001b[32m━━━━━━━━━━━━━━━━━━━━\u001b[0m\u001b[37m\u001b[0m \u001b[1m0s\u001b[0m 4ms/step - loss: 889017152.0000 - mae: 21061.0098 - mse: 889017152.0000 - val_loss: 437898176.0000 - val_mae: 15043.7168 - val_mse: 437898176.0000\n",
            "Epoch 270/500\n",
            "\u001b[1m56/56\u001b[0m \u001b[32m━━━━━━━━━━━━━━━━━━━━\u001b[0m\u001b[37m\u001b[0m \u001b[1m0s\u001b[0m 5ms/step - loss: 776220992.0000 - mae: 20967.4629 - mse: 776220992.0000 - val_loss: 435326656.0000 - val_mae: 15027.4434 - val_mse: 435326656.0000\n",
            "Epoch 271/500\n",
            "\u001b[1m56/56\u001b[0m \u001b[32m━━━━━━━━━━━━━━━━━━━━\u001b[0m\u001b[37m\u001b[0m \u001b[1m0s\u001b[0m 4ms/step - loss: 916409088.0000 - mae: 22325.1035 - mse: 916409088.0000 - val_loss: 448013664.0000 - val_mae: 15166.0771 - val_mse: 448013664.0000\n",
            "Epoch 272/500\n",
            "\u001b[1m56/56\u001b[0m \u001b[32m━━━━━━━━━━━━━━━━━━━━\u001b[0m\u001b[37m\u001b[0m \u001b[1m0s\u001b[0m 5ms/step - loss: 977818048.0000 - mae: 21504.2207 - mse: 977818048.0000 - val_loss: 437132384.0000 - val_mae: 14972.7559 - val_mse: 437132384.0000\n",
            "Epoch 273/500\n",
            "\u001b[1m56/56\u001b[0m \u001b[32m━━━━━━━━━━━━━━━━━━━━\u001b[0m\u001b[37m\u001b[0m \u001b[1m0s\u001b[0m 6ms/step - loss: 909440512.0000 - mae: 21824.4824 - mse: 909440512.0000 - val_loss: 435187040.0000 - val_mae: 14980.2852 - val_mse: 435187040.0000\n",
            "Epoch 274/500\n",
            "\u001b[1m56/56\u001b[0m \u001b[32m━━━━━━━━━━━━━━━━━━━━\u001b[0m\u001b[37m\u001b[0m \u001b[1m0s\u001b[0m 6ms/step - loss: 857107392.0000 - mae: 21110.3945 - mse: 857107392.0000 - val_loss: 459560576.0000 - val_mae: 15365.7998 - val_mse: 459560576.0000\n",
            "Epoch 275/500\n",
            "\u001b[1m56/56\u001b[0m \u001b[32m━━━━━━━━━━━━━━━━━━━━\u001b[0m\u001b[37m\u001b[0m \u001b[1m1s\u001b[0m 6ms/step - loss: 991783168.0000 - mae: 21695.2930 - mse: 991783168.0000 - val_loss: 434099872.0000 - val_mae: 14941.4102 - val_mse: 434099872.0000\n",
            "Epoch 276/500\n",
            "\u001b[1m56/56\u001b[0m \u001b[32m━━━━━━━━━━━━━━━━━━━━\u001b[0m\u001b[37m\u001b[0m \u001b[1m0s\u001b[0m 7ms/step - loss: 951584512.0000 - mae: 22204.0020 - mse: 951584512.0000 - val_loss: 438620512.0000 - val_mae: 15115.2393 - val_mse: 438620512.0000\n",
            "Epoch 277/500\n",
            "\u001b[1m56/56\u001b[0m \u001b[32m━━━━━━━━━━━━━━━━━━━━\u001b[0m\u001b[37m\u001b[0m \u001b[1m1s\u001b[0m 8ms/step - loss: 1079986304.0000 - mae: 22752.3457 - mse: 1079986304.0000 - val_loss: 452016928.0000 - val_mae: 15361.6084 - val_mse: 452016928.0000\n",
            "Epoch 278/500\n",
            "\u001b[1m56/56\u001b[0m \u001b[32m━━━━━━━━━━━━━━━━━━━━\u001b[0m\u001b[37m\u001b[0m \u001b[1m0s\u001b[0m 5ms/step - loss: 990112576.0000 - mae: 22335.1562 - mse: 990112576.0000 - val_loss: 443388512.0000 - val_mae: 15214.8359 - val_mse: 443388512.0000\n",
            "Epoch 279/500\n",
            "\u001b[1m56/56\u001b[0m \u001b[32m━━━━━━━━━━━━━━━━━━━━\u001b[0m\u001b[37m\u001b[0m \u001b[1m0s\u001b[0m 5ms/step - loss: 865275840.0000 - mae: 21817.8340 - mse: 865275840.0000 - val_loss: 431594400.0000 - val_mae: 14999.0645 - val_mse: 431594400.0000\n",
            "Epoch 280/500\n",
            "\u001b[1m56/56\u001b[0m \u001b[32m━━━━━━━━━━━━━━━━━━━━\u001b[0m\u001b[37m\u001b[0m \u001b[1m0s\u001b[0m 4ms/step - loss: 840074624.0000 - mae: 21553.0879 - mse: 840074624.0000 - val_loss: 449478400.0000 - val_mae: 15250.1133 - val_mse: 449478400.0000\n",
            "Epoch 281/500\n",
            "\u001b[1m56/56\u001b[0m \u001b[32m━━━━━━━━━━━━━━━━━━━━\u001b[0m\u001b[37m\u001b[0m \u001b[1m0s\u001b[0m 4ms/step - loss: 915542528.0000 - mae: 22151.3828 - mse: 915542528.0000 - val_loss: 437094976.0000 - val_mae: 14990.5430 - val_mse: 437094976.0000\n",
            "Epoch 282/500\n",
            "\u001b[1m56/56\u001b[0m \u001b[32m━━━━━━━━━━━━━━━━━━━━\u001b[0m\u001b[37m\u001b[0m \u001b[1m0s\u001b[0m 4ms/step - loss: 974914176.0000 - mae: 22374.6934 - mse: 974914176.0000 - val_loss: 428353184.0000 - val_mae: 14875.3604 - val_mse: 428353184.0000\n",
            "Epoch 283/500\n",
            "\u001b[1m56/56\u001b[0m \u001b[32m━━━━━━━━━━━━━━━━━━━━\u001b[0m\u001b[37m\u001b[0m \u001b[1m0s\u001b[0m 4ms/step - loss: 892678272.0000 - mae: 22276.8320 - mse: 892678272.0000 - val_loss: 476624608.0000 - val_mae: 15845.2354 - val_mse: 476624608.0000\n",
            "Epoch 284/500\n",
            "\u001b[1m56/56\u001b[0m \u001b[32m━━━━━━━━━━━━━━━━━━━━\u001b[0m\u001b[37m\u001b[0m \u001b[1m0s\u001b[0m 4ms/step - loss: 774880000.0000 - mae: 20741.6016 - mse: 774880000.0000 - val_loss: 429397472.0000 - val_mae: 14854.5371 - val_mse: 429397472.0000\n",
            "Epoch 285/500\n",
            "\u001b[1m56/56\u001b[0m \u001b[32m━━━━━━━━━━━━━━━━━━━━\u001b[0m\u001b[37m\u001b[0m \u001b[1m0s\u001b[0m 4ms/step - loss: 851702400.0000 - mae: 20967.8613 - mse: 851702400.0000 - val_loss: 427006592.0000 - val_mae: 14797.9746 - val_mse: 427006592.0000\n",
            "Epoch 286/500\n",
            "\u001b[1m56/56\u001b[0m \u001b[32m━━━━━━━━━━━━━━━━━━━━\u001b[0m\u001b[37m\u001b[0m \u001b[1m0s\u001b[0m 4ms/step - loss: 812061888.0000 - mae: 21436.6328 - mse: 812061888.0000 - val_loss: 433345504.0000 - val_mae: 14903.0771 - val_mse: 433345504.0000\n",
            "Epoch 287/500\n",
            "\u001b[1m56/56\u001b[0m \u001b[32m━━━━━━━━━━━━━━━━━━━━\u001b[0m\u001b[37m\u001b[0m \u001b[1m0s\u001b[0m 4ms/step - loss: 871271744.0000 - mae: 21747.6504 - mse: 871271744.0000 - val_loss: 454607776.0000 - val_mae: 15374.0400 - val_mse: 454607776.0000\n",
            "Epoch 288/500\n",
            "\u001b[1m56/56\u001b[0m \u001b[32m━━━━━━━━━━━━━━━━━━━━\u001b[0m\u001b[37m\u001b[0m \u001b[1m0s\u001b[0m 4ms/step - loss: 838979136.0000 - mae: 21377.8398 - mse: 838979136.0000 - val_loss: 429316672.0000 - val_mae: 14847.3770 - val_mse: 429316672.0000\n",
            "Epoch 289/500\n",
            "\u001b[1m56/56\u001b[0m \u001b[32m━━━━━━━━━━━━━━━━━━━━\u001b[0m\u001b[37m\u001b[0m \u001b[1m0s\u001b[0m 4ms/step - loss: 799113216.0000 - mae: 21360.6797 - mse: 799113216.0000 - val_loss: 450126176.0000 - val_mae: 15391.1133 - val_mse: 450126176.0000\n",
            "Epoch 290/500\n",
            "\u001b[1m56/56\u001b[0m \u001b[32m━━━━━━━━━━━━━━━━━━━━\u001b[0m\u001b[37m\u001b[0m \u001b[1m0s\u001b[0m 4ms/step - loss: 769869184.0000 - mae: 21087.8711 - mse: 769869184.0000 - val_loss: 439640448.0000 - val_mae: 15217.6338 - val_mse: 439640448.0000\n",
            "Epoch 291/500\n",
            "\u001b[1m56/56\u001b[0m \u001b[32m━━━━━━━━━━━━━━━━━━━━\u001b[0m\u001b[37m\u001b[0m \u001b[1m0s\u001b[0m 4ms/step - loss: 968876416.0000 - mae: 21208.9551 - mse: 968876416.0000 - val_loss: 427603072.0000 - val_mae: 14941.2686 - val_mse: 427603072.0000\n",
            "Epoch 292/500\n",
            "\u001b[1m56/56\u001b[0m \u001b[32m━━━━━━━━━━━━━━━━━━━━\u001b[0m\u001b[37m\u001b[0m \u001b[1m0s\u001b[0m 4ms/step - loss: 923907136.0000 - mae: 22395.0449 - mse: 923907136.0000 - val_loss: 519393536.0000 - val_mae: 16703.6680 - val_mse: 519393536.0000\n",
            "Epoch 293/500\n",
            "\u001b[1m56/56\u001b[0m \u001b[32m━━━━━━━━━━━━━━━━━━━━\u001b[0m\u001b[37m\u001b[0m \u001b[1m0s\u001b[0m 4ms/step - loss: 949384384.0000 - mae: 21552.9961 - mse: 949384384.0000 - val_loss: 450535136.0000 - val_mae: 15402.9355 - val_mse: 450535136.0000\n",
            "Epoch 294/500\n",
            "\u001b[1m56/56\u001b[0m \u001b[32m━━━━━━━━━━━━━━━━━━━━\u001b[0m\u001b[37m\u001b[0m \u001b[1m0s\u001b[0m 4ms/step - loss: 927735104.0000 - mae: 21023.3164 - mse: 927735104.0000 - val_loss: 463135264.0000 - val_mae: 15572.4395 - val_mse: 463135264.0000\n",
            "Epoch 295/500\n",
            "\u001b[1m56/56\u001b[0m \u001b[32m━━━━━━━━━━━━━━━━━━━━\u001b[0m\u001b[37m\u001b[0m \u001b[1m0s\u001b[0m 4ms/step - loss: 857529920.0000 - mae: 21415.7715 - mse: 857529920.0000 - val_loss: 425257824.0000 - val_mae: 14815.1934 - val_mse: 425257824.0000\n",
            "Epoch 296/500\n",
            "\u001b[1m56/56\u001b[0m \u001b[32m━━━━━━━━━━━━━━━━━━━━\u001b[0m\u001b[37m\u001b[0m \u001b[1m0s\u001b[0m 4ms/step - loss: 866649728.0000 - mae: 21811.0098 - mse: 866649728.0000 - val_loss: 429519616.0000 - val_mae: 14896.6758 - val_mse: 429519616.0000\n",
            "Epoch 297/500\n",
            "\u001b[1m56/56\u001b[0m \u001b[32m━━━━━━━━━━━━━━━━━━━━\u001b[0m\u001b[37m\u001b[0m \u001b[1m0s\u001b[0m 4ms/step - loss: 853436736.0000 - mae: 21481.0586 - mse: 853436736.0000 - val_loss: 445684288.0000 - val_mae: 15218.3516 - val_mse: 445684288.0000\n",
            "Epoch 298/500\n",
            "\u001b[1m56/56\u001b[0m \u001b[32m━━━━━━━━━━━━━━━━━━━━\u001b[0m\u001b[37m\u001b[0m \u001b[1m0s\u001b[0m 4ms/step - loss: 856658624.0000 - mae: 21412.2930 - mse: 856658624.0000 - val_loss: 454102816.0000 - val_mae: 15355.3262 - val_mse: 454102816.0000\n",
            "Epoch 299/500\n",
            "\u001b[1m56/56\u001b[0m \u001b[32m━━━━━━━━━━━━━━━━━━━━\u001b[0m\u001b[37m\u001b[0m \u001b[1m0s\u001b[0m 4ms/step - loss: 787590144.0000 - mae: 20960.6777 - mse: 787590144.0000 - val_loss: 431022624.0000 - val_mae: 14866.9678 - val_mse: 431022624.0000\n",
            "Epoch 300/500\n",
            "\u001b[1m56/56\u001b[0m \u001b[32m━━━━━━━━━━━━━━━━━━━━\u001b[0m\u001b[37m\u001b[0m \u001b[1m0s\u001b[0m 4ms/step - loss: 873569088.0000 - mae: 21079.6504 - mse: 873569088.0000 - val_loss: 473654528.0000 - val_mae: 15835.3672 - val_mse: 473654528.0000\n",
            "Epoch 301/500\n",
            "\u001b[1m56/56\u001b[0m \u001b[32m━━━━━━━━━━━━━━━━━━━━\u001b[0m\u001b[37m\u001b[0m \u001b[1m0s\u001b[0m 4ms/step - loss: 851729600.0000 - mae: 21492.7578 - mse: 851729600.0000 - val_loss: 489403008.0000 - val_mae: 16093.2842 - val_mse: 489403008.0000\n",
            "Epoch 302/500\n",
            "\u001b[1m56/56\u001b[0m \u001b[32m━━━━━━━━━━━━━━━━━━━━\u001b[0m\u001b[37m\u001b[0m \u001b[1m0s\u001b[0m 4ms/step - loss: 860947520.0000 - mae: 21872.9160 - mse: 860947520.0000 - val_loss: 504937536.0000 - val_mae: 16446.5078 - val_mse: 504937536.0000\n",
            "Epoch 303/500\n",
            "\u001b[1m56/56\u001b[0m \u001b[32m━━━━━━━━━━━━━━━━━━━━\u001b[0m\u001b[37m\u001b[0m \u001b[1m0s\u001b[0m 4ms/step - loss: 939293696.0000 - mae: 21623.2480 - mse: 939293696.0000 - val_loss: 445775968.0000 - val_mae: 15187.6758 - val_mse: 445775968.0000\n",
            "Epoch 304/500\n",
            "\u001b[1m56/56\u001b[0m \u001b[32m━━━━━━━━━━━━━━━━━━━━\u001b[0m\u001b[37m\u001b[0m \u001b[1m0s\u001b[0m 4ms/step - loss: 886877568.0000 - mae: 21622.5117 - mse: 886877568.0000 - val_loss: 433230080.0000 - val_mae: 14956.1055 - val_mse: 433230080.0000\n",
            "Epoch 305/500\n",
            "\u001b[1m56/56\u001b[0m \u001b[32m━━━━━━━━━━━━━━━━━━━━\u001b[0m\u001b[37m\u001b[0m \u001b[1m0s\u001b[0m 4ms/step - loss: 876626368.0000 - mae: 21500.8828 - mse: 876626368.0000 - val_loss: 464720384.0000 - val_mae: 15604.4795 - val_mse: 464720384.0000\n",
            "Epoch 306/500\n",
            "\u001b[1m56/56\u001b[0m \u001b[32m━━━━━━━━━━━━━━━━━━━━\u001b[0m\u001b[37m\u001b[0m \u001b[1m0s\u001b[0m 4ms/step - loss: 828465792.0000 - mae: 21707.6562 - mse: 828465792.0000 - val_loss: 473217568.0000 - val_mae: 15809.0605 - val_mse: 473217568.0000\n",
            "Epoch 307/500\n",
            "\u001b[1m56/56\u001b[0m \u001b[32m━━━━━━━━━━━━━━━━━━━━\u001b[0m\u001b[37m\u001b[0m \u001b[1m0s\u001b[0m 4ms/step - loss: 885415552.0000 - mae: 21718.1270 - mse: 885415552.0000 - val_loss: 422789632.0000 - val_mae: 14700.8828 - val_mse: 422789632.0000\n",
            "Epoch 308/500\n",
            "\u001b[1m56/56\u001b[0m \u001b[32m━━━━━━━━━━━━━━━━━━━━\u001b[0m\u001b[37m\u001b[0m \u001b[1m0s\u001b[0m 4ms/step - loss: 1018458944.0000 - mae: 21745.5703 - mse: 1018458944.0000 - val_loss: 425527424.0000 - val_mae: 14819.2139 - val_mse: 425527424.0000\n",
            "Epoch 309/500\n",
            "\u001b[1m56/56\u001b[0m \u001b[32m━━━━━━━━━━━━━━━━━━━━\u001b[0m\u001b[37m\u001b[0m \u001b[1m0s\u001b[0m 4ms/step - loss: 896008256.0000 - mae: 22188.8418 - mse: 896008256.0000 - val_loss: 452432480.0000 - val_mae: 15377.2061 - val_mse: 452432480.0000\n",
            "Epoch 310/500\n",
            "\u001b[1m56/56\u001b[0m \u001b[32m━━━━━━━━━━━━━━━━━━━━\u001b[0m\u001b[37m\u001b[0m \u001b[1m0s\u001b[0m 4ms/step - loss: 729300160.0000 - mae: 20452.9180 - mse: 729300160.0000 - val_loss: 485888288.0000 - val_mae: 16029.7969 - val_mse: 485888288.0000\n",
            "Epoch 311/500\n",
            "\u001b[1m56/56\u001b[0m \u001b[32m━━━━━━━━━━━━━━━━━━━━\u001b[0m\u001b[37m\u001b[0m \u001b[1m0s\u001b[0m 4ms/step - loss: 804120192.0000 - mae: 21248.6484 - mse: 804120192.0000 - val_loss: 517154880.0000 - val_mae: 16754.2891 - val_mse: 517154880.0000\n",
            "Epoch 312/500\n",
            "\u001b[1m56/56\u001b[0m \u001b[32m━━━━━━━━━━━━━━━━━━━━\u001b[0m\u001b[37m\u001b[0m \u001b[1m0s\u001b[0m 4ms/step - loss: 904748736.0000 - mae: 21527.4570 - mse: 904748736.0000 - val_loss: 422028736.0000 - val_mae: 14708.8447 - val_mse: 422028736.0000\n",
            "Epoch 313/500\n",
            "\u001b[1m56/56\u001b[0m \u001b[32m━━━━━━━━━━━━━━━━━━━━\u001b[0m\u001b[37m\u001b[0m \u001b[1m0s\u001b[0m 4ms/step - loss: 831646528.0000 - mae: 21312.4062 - mse: 831646528.0000 - val_loss: 431663040.0000 - val_mae: 14894.4492 - val_mse: 431663040.0000\n",
            "Epoch 314/500\n",
            "\u001b[1m56/56\u001b[0m \u001b[32m━━━━━━━━━━━━━━━━━━━━\u001b[0m\u001b[37m\u001b[0m \u001b[1m0s\u001b[0m 5ms/step - loss: 729727744.0000 - mae: 20615.0137 - mse: 729727744.0000 - val_loss: 435046688.0000 - val_mae: 15000.4229 - val_mse: 435046688.0000\n",
            "Epoch 315/500\n",
            "\u001b[1m56/56\u001b[0m \u001b[32m━━━━━━━━━━━━━━━━━━━━\u001b[0m\u001b[37m\u001b[0m \u001b[1m0s\u001b[0m 4ms/step - loss: 769525824.0000 - mae: 20816.7793 - mse: 769525824.0000 - val_loss: 422503296.0000 - val_mae: 14677.1699 - val_mse: 422503296.0000\n",
            "Epoch 316/500\n",
            "\u001b[1m56/56\u001b[0m \u001b[32m━━━━━━━━━━━━━━━━━━━━\u001b[0m\u001b[37m\u001b[0m \u001b[1m0s\u001b[0m 6ms/step - loss: 1009284736.0000 - mae: 21581.0469 - mse: 1009284736.0000 - val_loss: 445077152.0000 - val_mae: 15232.4951 - val_mse: 445077152.0000\n",
            "Epoch 317/500\n",
            "\u001b[1m56/56\u001b[0m \u001b[32m━━━━━━━━━━━━━━━━━━━━\u001b[0m\u001b[37m\u001b[0m \u001b[1m0s\u001b[0m 6ms/step - loss: 931278656.0000 - mae: 21828.7227 - mse: 931278656.0000 - val_loss: 469335232.0000 - val_mae: 15721.3018 - val_mse: 469335232.0000\n",
            "Epoch 318/500\n",
            "\u001b[1m56/56\u001b[0m \u001b[32m━━━━━━━━━━━━━━━━━━━━\u001b[0m\u001b[37m\u001b[0m \u001b[1m1s\u001b[0m 6ms/step - loss: 907084288.0000 - mae: 20462.3945 - mse: 907084288.0000 - val_loss: 467841824.0000 - val_mae: 15699.3682 - val_mse: 467841824.0000\n",
            "Epoch 319/500\n",
            "\u001b[1m56/56\u001b[0m \u001b[32m━━━━━━━━━━━━━━━━━━━━\u001b[0m\u001b[37m\u001b[0m \u001b[1m0s\u001b[0m 7ms/step - loss: 894219520.0000 - mae: 21203.6094 - mse: 894219520.0000 - val_loss: 504215136.0000 - val_mae: 16450.3320 - val_mse: 504215136.0000\n",
            "Epoch 320/500\n",
            "\u001b[1m56/56\u001b[0m \u001b[32m━━━━━━━━━━━━━━━━━━━━\u001b[0m\u001b[37m\u001b[0m \u001b[1m0s\u001b[0m 7ms/step - loss: 858137152.0000 - mae: 21400.1758 - mse: 858137152.0000 - val_loss: 437265440.0000 - val_mae: 15015.8438 - val_mse: 437265440.0000\n",
            "Epoch 321/500\n",
            "\u001b[1m56/56\u001b[0m \u001b[32m━━━━━━━━━━━━━━━━━━━━\u001b[0m\u001b[37m\u001b[0m \u001b[1m0s\u001b[0m 8ms/step - loss: 814340160.0000 - mae: 21805.7891 - mse: 814340160.0000 - val_loss: 426110464.0000 - val_mae: 14834.2783 - val_mse: 426110464.0000\n",
            "Epoch 322/500\n",
            "\u001b[1m56/56\u001b[0m \u001b[32m━━━━━━━━━━━━━━━━━━━━\u001b[0m\u001b[37m\u001b[0m \u001b[1m0s\u001b[0m 5ms/step - loss: 822893120.0000 - mae: 21348.0059 - mse: 822893120.0000 - val_loss: 528366784.0000 - val_mae: 17013.8770 - val_mse: 528366784.0000\n",
            "Epoch 323/500\n",
            "\u001b[1m56/56\u001b[0m \u001b[32m━━━━━━━━━━━━━━━━━━━━\u001b[0m\u001b[37m\u001b[0m \u001b[1m0s\u001b[0m 4ms/step - loss: 825602176.0000 - mae: 21510.5762 - mse: 825602176.0000 - val_loss: 415779840.0000 - val_mae: 14609.6533 - val_mse: 415779840.0000\n",
            "Epoch 324/500\n",
            "\u001b[1m56/56\u001b[0m \u001b[32m━━━━━━━━━━━━━━━━━━━━\u001b[0m\u001b[37m\u001b[0m \u001b[1m0s\u001b[0m 4ms/step - loss: 851177920.0000 - mae: 21575.4863 - mse: 851177920.0000 - val_loss: 433293728.0000 - val_mae: 15042.5859 - val_mse: 433293728.0000\n",
            "Epoch 325/500\n",
            "\u001b[1m56/56\u001b[0m \u001b[32m━━━━━━━━━━━━━━━━━━━━\u001b[0m\u001b[37m\u001b[0m \u001b[1m0s\u001b[0m 5ms/step - loss: 944354048.0000 - mae: 21207.6953 - mse: 944354048.0000 - val_loss: 428471552.0000 - val_mae: 14799.2646 - val_mse: 428471552.0000\n",
            "Epoch 326/500\n",
            "\u001b[1m56/56\u001b[0m \u001b[32m━━━━━━━━━━━━━━━━━━━━\u001b[0m\u001b[37m\u001b[0m \u001b[1m0s\u001b[0m 4ms/step - loss: 1001936384.0000 - mae: 21433.4258 - mse: 1001936384.0000 - val_loss: 425869920.0000 - val_mae: 14806.6367 - val_mse: 425869920.0000\n",
            "Epoch 327/500\n",
            "\u001b[1m56/56\u001b[0m \u001b[32m━━━━━━━━━━━━━━━━━━━━\u001b[0m\u001b[37m\u001b[0m \u001b[1m0s\u001b[0m 4ms/step - loss: 786406272.0000 - mae: 20874.3125 - mse: 786406272.0000 - val_loss: 460982528.0000 - val_mae: 15642.1299 - val_mse: 460982528.0000\n",
            "Epoch 328/500\n",
            "\u001b[1m56/56\u001b[0m \u001b[32m━━━━━━━━━━━━━━━━━━━━\u001b[0m\u001b[37m\u001b[0m \u001b[1m0s\u001b[0m 4ms/step - loss: 907416960.0000 - mae: 21989.5938 - mse: 907416960.0000 - val_loss: 437057344.0000 - val_mae: 15013.4238 - val_mse: 437057344.0000\n",
            "Epoch 329/500\n",
            "\u001b[1m56/56\u001b[0m \u001b[32m━━━━━━━━━━━━━━━━━━━━\u001b[0m\u001b[37m\u001b[0m \u001b[1m0s\u001b[0m 5ms/step - loss: 930721728.0000 - mae: 22029.5410 - mse: 930721728.0000 - val_loss: 413639840.0000 - val_mae: 14520.8467 - val_mse: 413639840.0000\n",
            "Epoch 330/500\n",
            "\u001b[1m56/56\u001b[0m \u001b[32m━━━━━━━━━━━━━━━━━━━━\u001b[0m\u001b[37m\u001b[0m \u001b[1m0s\u001b[0m 4ms/step - loss: 867044864.0000 - mae: 21287.5352 - mse: 867044864.0000 - val_loss: 413862912.0000 - val_mae: 14544.5303 - val_mse: 413862912.0000\n",
            "Epoch 331/500\n",
            "\u001b[1m56/56\u001b[0m \u001b[32m━━━━━━━━━━━━━━━━━━━━\u001b[0m\u001b[37m\u001b[0m \u001b[1m0s\u001b[0m 4ms/step - loss: 940298944.0000 - mae: 22380.2168 - mse: 940298944.0000 - val_loss: 438647360.0000 - val_mae: 15079.9229 - val_mse: 438647360.0000\n",
            "Epoch 332/500\n",
            "\u001b[1m56/56\u001b[0m \u001b[32m━━━━━━━━━━━━━━━━━━━━\u001b[0m\u001b[37m\u001b[0m \u001b[1m0s\u001b[0m 4ms/step - loss: 813480320.0000 - mae: 21265.0547 - mse: 813480320.0000 - val_loss: 437452128.0000 - val_mae: 14996.6992 - val_mse: 437452128.0000\n",
            "Epoch 333/500\n",
            "\u001b[1m56/56\u001b[0m \u001b[32m━━━━━━━━━━━━━━━━━━━━\u001b[0m\u001b[37m\u001b[0m \u001b[1m0s\u001b[0m 4ms/step - loss: 762059520.0000 - mae: 20159.4082 - mse: 762059520.0000 - val_loss: 419708320.0000 - val_mae: 14667.3018 - val_mse: 419708320.0000\n",
            "Epoch 334/500\n",
            "\u001b[1m56/56\u001b[0m \u001b[32m━━━━━━━━━━━━━━━━━━━━\u001b[0m\u001b[37m\u001b[0m \u001b[1m0s\u001b[0m 4ms/step - loss: 828340864.0000 - mae: 20826.5898 - mse: 828340864.0000 - val_loss: 422251168.0000 - val_mae: 14799.6777 - val_mse: 422251168.0000\n",
            "Epoch 335/500\n",
            "\u001b[1m56/56\u001b[0m \u001b[32m━━━━━━━━━━━━━━━━━━━━\u001b[0m\u001b[37m\u001b[0m \u001b[1m0s\u001b[0m 4ms/step - loss: 919831680.0000 - mae: 22325.7793 - mse: 919831680.0000 - val_loss: 426841472.0000 - val_mae: 14817.7969 - val_mse: 426841472.0000\n",
            "Epoch 336/500\n",
            "\u001b[1m56/56\u001b[0m \u001b[32m━━━━━━━━━━━━━━━━━━━━\u001b[0m\u001b[37m\u001b[0m \u001b[1m0s\u001b[0m 4ms/step - loss: 813354112.0000 - mae: 20875.3242 - mse: 813354112.0000 - val_loss: 435905824.0000 - val_mae: 15041.6406 - val_mse: 435905824.0000\n",
            "Epoch 337/500\n",
            "\u001b[1m56/56\u001b[0m \u001b[32m━━━━━━━━━━━━━━━━━━━━\u001b[0m\u001b[37m\u001b[0m \u001b[1m0s\u001b[0m 5ms/step - loss: 756172544.0000 - mae: 20688.0723 - mse: 756172544.0000 - val_loss: 409838144.0000 - val_mae: 14497.1748 - val_mse: 409838144.0000\n",
            "Epoch 338/500\n",
            "\u001b[1m56/56\u001b[0m \u001b[32m━━━━━━━━━━━━━━━━━━━━\u001b[0m\u001b[37m\u001b[0m \u001b[1m0s\u001b[0m 4ms/step - loss: 843837952.0000 - mae: 21701.5508 - mse: 843837952.0000 - val_loss: 416380480.0000 - val_mae: 14628.7715 - val_mse: 416380480.0000\n",
            "Epoch 339/500\n",
            "\u001b[1m56/56\u001b[0m \u001b[32m━━━━━━━━━━━━━━━━━━━━\u001b[0m\u001b[37m\u001b[0m \u001b[1m0s\u001b[0m 4ms/step - loss: 800628160.0000 - mae: 21356.9277 - mse: 800628160.0000 - val_loss: 430487904.0000 - val_mae: 14914.7979 - val_mse: 430487904.0000\n",
            "Epoch 340/500\n",
            "\u001b[1m56/56\u001b[0m \u001b[32m━━━━━━━━━━━━━━━━━━━━\u001b[0m\u001b[37m\u001b[0m \u001b[1m0s\u001b[0m 4ms/step - loss: 790978240.0000 - mae: 20668.8477 - mse: 790978240.0000 - val_loss: 413779584.0000 - val_mae: 14475.2080 - val_mse: 413779584.0000\n",
            "Epoch 341/500\n",
            "\u001b[1m56/56\u001b[0m \u001b[32m━━━━━━━━━━━━━━━━━━━━\u001b[0m\u001b[37m\u001b[0m \u001b[1m0s\u001b[0m 4ms/step - loss: 815036416.0000 - mae: 20542.1836 - mse: 815036416.0000 - val_loss: 433429184.0000 - val_mae: 14925.9297 - val_mse: 433429184.0000\n",
            "Epoch 342/500\n",
            "\u001b[1m56/56\u001b[0m \u001b[32m━━━━━━━━━━━━━━━━━━━━\u001b[0m\u001b[37m\u001b[0m \u001b[1m0s\u001b[0m 4ms/step - loss: 964157312.0000 - mae: 21118.3887 - mse: 964157312.0000 - val_loss: 410163424.0000 - val_mae: 14404.7217 - val_mse: 410163424.0000\n",
            "Epoch 343/500\n",
            "\u001b[1m56/56\u001b[0m \u001b[32m━━━━━━━━━━━━━━━━━━━━\u001b[0m\u001b[37m\u001b[0m \u001b[1m0s\u001b[0m 4ms/step - loss: 892731136.0000 - mae: 21511.1504 - mse: 892731136.0000 - val_loss: 417331648.0000 - val_mae: 14631.7139 - val_mse: 417331648.0000\n",
            "Epoch 344/500\n",
            "\u001b[1m56/56\u001b[0m \u001b[32m━━━━━━━━━━━━━━━━━━━━\u001b[0m\u001b[37m\u001b[0m \u001b[1m0s\u001b[0m 4ms/step - loss: 795256192.0000 - mae: 21033.7910 - mse: 795256192.0000 - val_loss: 415289088.0000 - val_mae: 14563.6904 - val_mse: 415289088.0000\n",
            "Epoch 345/500\n",
            "\u001b[1m56/56\u001b[0m \u001b[32m━━━━━━━━━━━━━━━━━━━━\u001b[0m\u001b[37m\u001b[0m \u001b[1m0s\u001b[0m 4ms/step - loss: 884062400.0000 - mae: 21614.2832 - mse: 884062400.0000 - val_loss: 408454208.0000 - val_mae: 14399.0703 - val_mse: 408454208.0000\n",
            "Epoch 346/500\n",
            "\u001b[1m56/56\u001b[0m \u001b[32m━━━━━━━━━━━━━━━━━━━━\u001b[0m\u001b[37m\u001b[0m \u001b[1m0s\u001b[0m 4ms/step - loss: 907098688.0000 - mae: 21003.9727 - mse: 907098688.0000 - val_loss: 421455744.0000 - val_mae: 14757.8291 - val_mse: 421455744.0000\n",
            "Epoch 347/500\n",
            "\u001b[1m56/56\u001b[0m \u001b[32m━━━━━━━━━━━━━━━━━━━━\u001b[0m\u001b[37m\u001b[0m \u001b[1m0s\u001b[0m 4ms/step - loss: 963683392.0000 - mae: 22070.6895 - mse: 963683392.0000 - val_loss: 407729696.0000 - val_mae: 14415.6006 - val_mse: 407729696.0000\n",
            "Epoch 348/500\n",
            "\u001b[1m56/56\u001b[0m \u001b[32m━━━━━━━━━━━━━━━━━━━━\u001b[0m\u001b[37m\u001b[0m \u001b[1m0s\u001b[0m 4ms/step - loss: 747155456.0000 - mae: 20815.4824 - mse: 747155456.0000 - val_loss: 456769888.0000 - val_mae: 15443.2783 - val_mse: 456769888.0000\n",
            "Epoch 349/500\n",
            "\u001b[1m56/56\u001b[0m \u001b[32m━━━━━━━━━━━━━━━━━━━━\u001b[0m\u001b[37m\u001b[0m \u001b[1m0s\u001b[0m 4ms/step - loss: 817030272.0000 - mae: 21461.4277 - mse: 817030272.0000 - val_loss: 417554560.0000 - val_mae: 14572.2207 - val_mse: 417554560.0000\n",
            "Epoch 350/500\n",
            "\u001b[1m56/56\u001b[0m \u001b[32m━━━━━━━━━━━━━━━━━━━━\u001b[0m\u001b[37m\u001b[0m \u001b[1m0s\u001b[0m 4ms/step - loss: 816470016.0000 - mae: 21227.4961 - mse: 816470016.0000 - val_loss: 414390240.0000 - val_mae: 14545.6406 - val_mse: 414390240.0000\n",
            "Epoch 351/500\n",
            "\u001b[1m56/56\u001b[0m \u001b[32m━━━━━━━━━━━━━━━━━━━━\u001b[0m\u001b[37m\u001b[0m \u001b[1m0s\u001b[0m 4ms/step - loss: 797748608.0000 - mae: 20642.0742 - mse: 797748608.0000 - val_loss: 408572288.0000 - val_mae: 14362.2783 - val_mse: 408572288.0000\n",
            "Epoch 352/500\n",
            "\u001b[1m56/56\u001b[0m \u001b[32m━━━━━━━━━━━━━━━━━━━━\u001b[0m\u001b[37m\u001b[0m \u001b[1m0s\u001b[0m 5ms/step - loss: 826654656.0000 - mae: 22099.0137 - mse: 826654656.0000 - val_loss: 441858304.0000 - val_mae: 15161.8643 - val_mse: 441858304.0000\n",
            "Epoch 353/500\n",
            "\u001b[1m56/56\u001b[0m \u001b[32m━━━━━━━━━━━━━━━━━━━━\u001b[0m\u001b[37m\u001b[0m \u001b[1m0s\u001b[0m 5ms/step - loss: 1047164416.0000 - mae: 21466.5566 - mse: 1047164416.0000 - val_loss: 419322976.0000 - val_mae: 14646.8008 - val_mse: 419322976.0000\n",
            "Epoch 354/500\n",
            "\u001b[1m56/56\u001b[0m \u001b[32m━━━━━━━━━━━━━━━━━━━━\u001b[0m\u001b[37m\u001b[0m \u001b[1m0s\u001b[0m 5ms/step - loss: 1101382016.0000 - mae: 21696.4863 - mse: 1101382016.0000 - val_loss: 405083040.0000 - val_mae: 14317.9648 - val_mse: 405083040.0000\n",
            "Epoch 355/500\n",
            "\u001b[1m56/56\u001b[0m \u001b[32m━━━━━━━━━━━━━━━━━━━━\u001b[0m\u001b[37m\u001b[0m \u001b[1m0s\u001b[0m 4ms/step - loss: 828951488.0000 - mae: 21772.6523 - mse: 828951488.0000 - val_loss: 420637632.0000 - val_mae: 14605.8213 - val_mse: 420637632.0000\n",
            "Epoch 356/500\n",
            "\u001b[1m56/56\u001b[0m \u001b[32m━━━━━━━━━━━━━━━━━━━━\u001b[0m\u001b[37m\u001b[0m \u001b[1m0s\u001b[0m 4ms/step - loss: 912262464.0000 - mae: 21290.4473 - mse: 912262464.0000 - val_loss: 404824544.0000 - val_mae: 14284.7764 - val_mse: 404824544.0000\n",
            "Epoch 357/500\n",
            "\u001b[1m56/56\u001b[0m \u001b[32m━━━━━━━━━━━━━━━━━━━━\u001b[0m\u001b[37m\u001b[0m \u001b[1m0s\u001b[0m 4ms/step - loss: 749308928.0000 - mae: 20517.0195 - mse: 749308928.0000 - val_loss: 409123104.0000 - val_mae: 14381.5908 - val_mse: 409123104.0000\n",
            "Epoch 358/500\n",
            "\u001b[1m56/56\u001b[0m \u001b[32m━━━━━━━━━━━━━━━━━━━━\u001b[0m\u001b[37m\u001b[0m \u001b[1m0s\u001b[0m 8ms/step - loss: 958456512.0000 - mae: 21114.2227 - mse: 958456512.0000 - val_loss: 430224672.0000 - val_mae: 14916.0029 - val_mse: 430224672.0000\n",
            "Epoch 359/500\n",
            "\u001b[1m56/56\u001b[0m \u001b[32m━━━━━━━━━━━━━━━━━━━━\u001b[0m\u001b[37m\u001b[0m \u001b[1m0s\u001b[0m 7ms/step - loss: 939014592.0000 - mae: 22640.6426 - mse: 939014592.0000 - val_loss: 495168832.0000 - val_mae: 16286.0977 - val_mse: 495168832.0000\n",
            "Epoch 360/500\n",
            "\u001b[1m56/56\u001b[0m \u001b[32m━━━━━━━━━━━━━━━━━━━━\u001b[0m\u001b[37m\u001b[0m \u001b[1m1s\u001b[0m 5ms/step - loss: 896027200.0000 - mae: 22548.6973 - mse: 896027200.0000 - val_loss: 402419328.0000 - val_mae: 14311.6553 - val_mse: 402419328.0000\n",
            "Epoch 361/500\n",
            "\u001b[1m56/56\u001b[0m \u001b[32m━━━━━━━━━━━━━━━━━━━━\u001b[0m\u001b[37m\u001b[0m \u001b[1m1s\u001b[0m 7ms/step - loss: 831204160.0000 - mae: 20964.0176 - mse: 831204160.0000 - val_loss: 401785408.0000 - val_mae: 14217.3994 - val_mse: 401785408.0000\n",
            "Epoch 362/500\n",
            "\u001b[1m56/56\u001b[0m \u001b[32m━━━━━━━━━━━━━━━━━━━━\u001b[0m\u001b[37m\u001b[0m \u001b[1m1s\u001b[0m 8ms/step - loss: 805032896.0000 - mae: 21479.7227 - mse: 805032896.0000 - val_loss: 465151616.0000 - val_mae: 15602.7988 - val_mse: 465151616.0000\n",
            "Epoch 363/500\n",
            "\u001b[1m56/56\u001b[0m \u001b[32m━━━━━━━━━━━━━━━━━━━━\u001b[0m\u001b[37m\u001b[0m \u001b[1m0s\u001b[0m 4ms/step - loss: 773710144.0000 - mae: 20795.1543 - mse: 773710144.0000 - val_loss: 454076992.0000 - val_mae: 15415.0820 - val_mse: 454076992.0000\n",
            "Epoch 364/500\n",
            "\u001b[1m56/56\u001b[0m \u001b[32m━━━━━━━━━━━━━━━━━━━━\u001b[0m\u001b[37m\u001b[0m \u001b[1m0s\u001b[0m 4ms/step - loss: 922670720.0000 - mae: 20698.2969 - mse: 922670720.0000 - val_loss: 416649472.0000 - val_mae: 14681.8623 - val_mse: 416649472.0000\n",
            "Epoch 365/500\n",
            "\u001b[1m56/56\u001b[0m \u001b[32m━━━━━━━━━━━━━━━━━━━━\u001b[0m\u001b[37m\u001b[0m \u001b[1m0s\u001b[0m 4ms/step - loss: 761943040.0000 - mae: 20637.7832 - mse: 761943040.0000 - val_loss: 422274848.0000 - val_mae: 14723.2705 - val_mse: 422274848.0000\n",
            "Epoch 366/500\n",
            "\u001b[1m56/56\u001b[0m \u001b[32m━━━━━━━━━━━━━━━━━━━━\u001b[0m\u001b[37m\u001b[0m \u001b[1m0s\u001b[0m 4ms/step - loss: 832785536.0000 - mae: 20425.5859 - mse: 832785536.0000 - val_loss: 417826208.0000 - val_mae: 14601.1279 - val_mse: 417826208.0000\n",
            "Epoch 367/500\n",
            "\u001b[1m56/56\u001b[0m \u001b[32m━━━━━━━━━━━━━━━━━━━━\u001b[0m\u001b[37m\u001b[0m \u001b[1m0s\u001b[0m 4ms/step - loss: 817135616.0000 - mae: 20886.0625 - mse: 817135616.0000 - val_loss: 412659072.0000 - val_mae: 14532.5645 - val_mse: 412659072.0000\n",
            "Epoch 368/500\n",
            "\u001b[1m56/56\u001b[0m \u001b[32m━━━━━━━━━━━━━━━━━━━━\u001b[0m\u001b[37m\u001b[0m \u001b[1m0s\u001b[0m 4ms/step - loss: 804311232.0000 - mae: 21085.0410 - mse: 804311232.0000 - val_loss: 532204960.0000 - val_mae: 17077.4648 - val_mse: 532204960.0000\n",
            "Epoch 369/500\n",
            "\u001b[1m56/56\u001b[0m \u001b[32m━━━━━━━━━━━━━━━━━━━━\u001b[0m\u001b[37m\u001b[0m \u001b[1m0s\u001b[0m 4ms/step - loss: 861780864.0000 - mae: 21151.9727 - mse: 861780864.0000 - val_loss: 482213216.0000 - val_mae: 15994.9834 - val_mse: 482213216.0000\n",
            "Epoch 370/500\n",
            "\u001b[1m56/56\u001b[0m \u001b[32m━━━━━━━━━━━━━━━━━━━━\u001b[0m\u001b[37m\u001b[0m \u001b[1m0s\u001b[0m 4ms/step - loss: 908785664.0000 - mae: 21380.1445 - mse: 908785664.0000 - val_loss: 439013888.0000 - val_mae: 15053.1797 - val_mse: 439013888.0000\n",
            "Epoch 371/500\n",
            "\u001b[1m56/56\u001b[0m \u001b[32m━━━━━━━━━━━━━━━━━━━━\u001b[0m\u001b[37m\u001b[0m \u001b[1m0s\u001b[0m 4ms/step - loss: 804579520.0000 - mae: 21186.0098 - mse: 804579520.0000 - val_loss: 412314240.0000 - val_mae: 14506.1367 - val_mse: 412314240.0000\n",
            "Epoch 372/500\n",
            "\u001b[1m56/56\u001b[0m \u001b[32m━━━━━━━━━━━━━━━━━━━━\u001b[0m\u001b[37m\u001b[0m \u001b[1m0s\u001b[0m 4ms/step - loss: 835230528.0000 - mae: 20805.9062 - mse: 835230528.0000 - val_loss: 459048672.0000 - val_mae: 15497.1523 - val_mse: 459048672.0000\n",
            "Epoch 373/500\n",
            "\u001b[1m56/56\u001b[0m \u001b[32m━━━━━━━━━━━━━━━━━━━━\u001b[0m\u001b[37m\u001b[0m \u001b[1m0s\u001b[0m 5ms/step - loss: 903204352.0000 - mae: 21281.0938 - mse: 903204352.0000 - val_loss: 406079360.0000 - val_mae: 14371.2021 - val_mse: 406079360.0000\n",
            "Epoch 374/500\n",
            "\u001b[1m56/56\u001b[0m \u001b[32m━━━━━━━━━━━━━━━━━━━━\u001b[0m\u001b[37m\u001b[0m \u001b[1m0s\u001b[0m 4ms/step - loss: 1103689600.0000 - mae: 21928.5938 - mse: 1103689600.0000 - val_loss: 402799872.0000 - val_mae: 14246.4336 - val_mse: 402799872.0000\n",
            "Epoch 375/500\n",
            "\u001b[1m56/56\u001b[0m \u001b[32m━━━━━━━━━━━━━━━━━━━━\u001b[0m\u001b[37m\u001b[0m \u001b[1m0s\u001b[0m 4ms/step - loss: 796896832.0000 - mae: 20252.4473 - mse: 796896832.0000 - val_loss: 401274816.0000 - val_mae: 14214.6924 - val_mse: 401274816.0000\n",
            "Epoch 376/500\n",
            "\u001b[1m56/56\u001b[0m \u001b[32m━━━━━━━━━━━━━━━━━━━━\u001b[0m\u001b[37m\u001b[0m \u001b[1m0s\u001b[0m 4ms/step - loss: 786872256.0000 - mae: 20679.8672 - mse: 786872256.0000 - val_loss: 405784288.0000 - val_mae: 14319.3389 - val_mse: 405784288.0000\n",
            "Epoch 377/500\n",
            "\u001b[1m56/56\u001b[0m \u001b[32m━━━━━━━━━━━━━━━━━━━━\u001b[0m\u001b[37m\u001b[0m \u001b[1m0s\u001b[0m 5ms/step - loss: 886701696.0000 - mae: 21729.6484 - mse: 886701696.0000 - val_loss: 403926848.0000 - val_mae: 14369.3281 - val_mse: 403926848.0000\n",
            "Epoch 378/500\n",
            "\u001b[1m56/56\u001b[0m \u001b[32m━━━━━━━━━━━━━━━━━━━━\u001b[0m\u001b[37m\u001b[0m \u001b[1m0s\u001b[0m 4ms/step - loss: 783254784.0000 - mae: 21225.7500 - mse: 783254784.0000 - val_loss: 431416416.0000 - val_mae: 14850.0371 - val_mse: 431416416.0000\n",
            "Epoch 379/500\n",
            "\u001b[1m56/56\u001b[0m \u001b[32m━━━━━━━━━━━━━━━━━━━━\u001b[0m\u001b[37m\u001b[0m \u001b[1m0s\u001b[0m 4ms/step - loss: 950142528.0000 - mae: 21295.8672 - mse: 950142528.0000 - val_loss: 401184864.0000 - val_mae: 14212.1943 - val_mse: 401184864.0000\n",
            "Epoch 380/500\n",
            "\u001b[1m56/56\u001b[0m \u001b[32m━━━━━━━━━━━━━━━━━━━━\u001b[0m\u001b[37m\u001b[0m \u001b[1m0s\u001b[0m 4ms/step - loss: 922051200.0000 - mae: 21873.6387 - mse: 922051200.0000 - val_loss: 435526240.0000 - val_mae: 15050.8760 - val_mse: 435526240.0000\n",
            "Epoch 381/500\n",
            "\u001b[1m56/56\u001b[0m \u001b[32m━━━━━━━━━━━━━━━━━━━━\u001b[0m\u001b[37m\u001b[0m \u001b[1m0s\u001b[0m 5ms/step - loss: 840671872.0000 - mae: 21121.0137 - mse: 840671872.0000 - val_loss: 415131200.0000 - val_mae: 14530.1357 - val_mse: 415131200.0000\n",
            "Epoch 382/500\n",
            "\u001b[1m56/56\u001b[0m \u001b[32m━━━━━━━━━━━━━━━━━━━━\u001b[0m\u001b[37m\u001b[0m \u001b[1m0s\u001b[0m 4ms/step - loss: 836984000.0000 - mae: 21176.2559 - mse: 836984000.0000 - val_loss: 411198976.0000 - val_mae: 14474.8174 - val_mse: 411198976.0000\n",
            "Epoch 383/500\n",
            "\u001b[1m56/56\u001b[0m \u001b[32m━━━━━━━━━━━━━━━━━━━━\u001b[0m\u001b[37m\u001b[0m \u001b[1m0s\u001b[0m 4ms/step - loss: 891720000.0000 - mae: 21305.9551 - mse: 891720000.0000 - val_loss: 404526720.0000 - val_mae: 14281.1992 - val_mse: 404526720.0000\n",
            "Epoch 384/500\n",
            "\u001b[1m56/56\u001b[0m \u001b[32m━━━━━━━━━━━━━━━━━━━━\u001b[0m\u001b[37m\u001b[0m \u001b[1m0s\u001b[0m 4ms/step - loss: 845851200.0000 - mae: 21266.0215 - mse: 845851200.0000 - val_loss: 408695040.0000 - val_mae: 14378.3330 - val_mse: 408695040.0000\n",
            "Epoch 385/500\n",
            "\u001b[1m56/56\u001b[0m \u001b[32m━━━━━━━━━━━━━━━━━━━━\u001b[0m\u001b[37m\u001b[0m \u001b[1m0s\u001b[0m 5ms/step - loss: 732625664.0000 - mae: 20487.8223 - mse: 732625664.0000 - val_loss: 397186624.0000 - val_mae: 14155.6611 - val_mse: 397186624.0000\n",
            "Epoch 386/500\n",
            "\u001b[1m56/56\u001b[0m \u001b[32m━━━━━━━━━━━━━━━━━━━━\u001b[0m\u001b[37m\u001b[0m \u001b[1m0s\u001b[0m 4ms/step - loss: 876584704.0000 - mae: 21320.4531 - mse: 876584704.0000 - val_loss: 398792928.0000 - val_mae: 14160.3818 - val_mse: 398792928.0000\n",
            "Epoch 387/500\n",
            "\u001b[1m56/56\u001b[0m \u001b[32m━━━━━━━━━━━━━━━━━━━━\u001b[0m\u001b[37m\u001b[0m \u001b[1m0s\u001b[0m 4ms/step - loss: 944038272.0000 - mae: 20770.8066 - mse: 944038272.0000 - val_loss: 400435008.0000 - val_mae: 14219.3906 - val_mse: 400435008.0000\n",
            "Epoch 388/500\n",
            "\u001b[1m56/56\u001b[0m \u001b[32m━━━━━━━━━━━━━━━━━━━━\u001b[0m\u001b[37m\u001b[0m \u001b[1m0s\u001b[0m 4ms/step - loss: 731723904.0000 - mae: 19738.3906 - mse: 731723904.0000 - val_loss: 400813376.0000 - val_mae: 14205.8779 - val_mse: 400813376.0000\n",
            "Epoch 389/500\n",
            "\u001b[1m56/56\u001b[0m \u001b[32m━━━━━━━━━━━━━━━━━━━━\u001b[0m\u001b[37m\u001b[0m \u001b[1m0s\u001b[0m 4ms/step - loss: 866293120.0000 - mae: 21542.1406 - mse: 866293120.0000 - val_loss: 431178656.0000 - val_mae: 14851.6895 - val_mse: 431178656.0000\n",
            "Epoch 390/500\n",
            "\u001b[1m56/56\u001b[0m \u001b[32m━━━━━━━━━━━━━━━━━━━━\u001b[0m\u001b[37m\u001b[0m \u001b[1m0s\u001b[0m 4ms/step - loss: 836817280.0000 - mae: 21170.3887 - mse: 836817280.0000 - val_loss: 402189568.0000 - val_mae: 14276.7090 - val_mse: 402189568.0000\n",
            "Epoch 391/500\n",
            "\u001b[1m56/56\u001b[0m \u001b[32m━━━━━━━━━━━━━━━━━━━━\u001b[0m\u001b[37m\u001b[0m \u001b[1m0s\u001b[0m 4ms/step - loss: 873569536.0000 - mae: 20890.2637 - mse: 873569536.0000 - val_loss: 403070144.0000 - val_mae: 14262.3955 - val_mse: 403070144.0000\n",
            "Epoch 392/500\n",
            "\u001b[1m56/56\u001b[0m \u001b[32m━━━━━━━━━━━━━━━━━━━━\u001b[0m\u001b[37m\u001b[0m \u001b[1m0s\u001b[0m 4ms/step - loss: 949031488.0000 - mae: 22325.8027 - mse: 949031488.0000 - val_loss: 398128128.0000 - val_mae: 14138.3984 - val_mse: 398128128.0000\n",
            "Epoch 393/500\n",
            "\u001b[1m56/56\u001b[0m \u001b[32m━━━━━━━━━━━━━━━━━━━━\u001b[0m\u001b[37m\u001b[0m \u001b[1m0s\u001b[0m 4ms/step - loss: 965488768.0000 - mae: 21752.9297 - mse: 965488768.0000 - val_loss: 394498656.0000 - val_mae: 14094.0361 - val_mse: 394498656.0000\n",
            "Epoch 394/500\n",
            "\u001b[1m56/56\u001b[0m \u001b[32m━━━━━━━━━━━━━━━━━━━━\u001b[0m\u001b[37m\u001b[0m \u001b[1m0s\u001b[0m 4ms/step - loss: 706654016.0000 - mae: 20303.4160 - mse: 706654016.0000 - val_loss: 395425408.0000 - val_mae: 14086.2285 - val_mse: 395425408.0000\n",
            "Epoch 395/500\n",
            "\u001b[1m56/56\u001b[0m \u001b[32m━━━━━━━━━━━━━━━━━━━━\u001b[0m\u001b[37m\u001b[0m \u001b[1m0s\u001b[0m 4ms/step - loss: 902294592.0000 - mae: 21198.6406 - mse: 902294592.0000 - val_loss: 404995328.0000 - val_mae: 14288.0176 - val_mse: 404995328.0000\n",
            "Epoch 396/500\n",
            "\u001b[1m56/56\u001b[0m \u001b[32m━━━━━━━━━━━━━━━━━━━━\u001b[0m\u001b[37m\u001b[0m \u001b[1m0s\u001b[0m 4ms/step - loss: 880375872.0000 - mae: 21138.6035 - mse: 880375872.0000 - val_loss: 400962912.0000 - val_mae: 14249.5898 - val_mse: 400962912.0000\n",
            "Epoch 397/500\n",
            "\u001b[1m56/56\u001b[0m \u001b[32m━━━━━━━━━━━━━━━━━━━━\u001b[0m\u001b[37m\u001b[0m \u001b[1m0s\u001b[0m 5ms/step - loss: 1000313216.0000 - mae: 21757.6035 - mse: 1000313216.0000 - val_loss: 393943200.0000 - val_mae: 14074.8906 - val_mse: 393943200.0000\n",
            "Epoch 398/500\n",
            "\u001b[1m56/56\u001b[0m \u001b[32m━━━━━━━━━━━━━━━━━━━━\u001b[0m\u001b[37m\u001b[0m \u001b[1m0s\u001b[0m 4ms/step - loss: 918018624.0000 - mae: 21826.8281 - mse: 918018624.0000 - val_loss: 410164448.0000 - val_mae: 14500.6006 - val_mse: 410164448.0000\n",
            "Epoch 399/500\n",
            "\u001b[1m56/56\u001b[0m \u001b[32m━━━━━━━━━━━━━━━━━━━━\u001b[0m\u001b[37m\u001b[0m \u001b[1m0s\u001b[0m 8ms/step - loss: 976343552.0000 - mae: 21647.5664 - mse: 976343552.0000 - val_loss: 395224896.0000 - val_mae: 14097.5518 - val_mse: 395224896.0000\n",
            "Epoch 400/500\n",
            "\u001b[1m56/56\u001b[0m \u001b[32m━━━━━━━━━━━━━━━━━━━━\u001b[0m\u001b[37m\u001b[0m \u001b[1m0s\u001b[0m 6ms/step - loss: 1055483904.0000 - mae: 21400.9648 - mse: 1055483904.0000 - val_loss: 394685184.0000 - val_mae: 14077.6523 - val_mse: 394685184.0000\n",
            "Epoch 401/500\n",
            "\u001b[1m56/56\u001b[0m \u001b[32m━━━━━━━━━━━━━━━━━━━━\u001b[0m\u001b[37m\u001b[0m \u001b[1m0s\u001b[0m 6ms/step - loss: 751822400.0000 - mae: 20668.2734 - mse: 751822400.0000 - val_loss: 421688192.0000 - val_mae: 14745.5010 - val_mse: 421688192.0000\n",
            "Epoch 402/500\n",
            "\u001b[1m56/56\u001b[0m \u001b[32m━━━━━━━━━━━━━━━━━━━━\u001b[0m\u001b[37m\u001b[0m \u001b[1m0s\u001b[0m 6ms/step - loss: 897448256.0000 - mae: 20102.7949 - mse: 897448256.0000 - val_loss: 438445024.0000 - val_mae: 15112.8760 - val_mse: 438445024.0000\n",
            "Epoch 403/500\n",
            "\u001b[1m56/56\u001b[0m \u001b[32m━━━━━━━━━━━━━━━━━━━━\u001b[0m\u001b[37m\u001b[0m \u001b[1m1s\u001b[0m 7ms/step - loss: 930487104.0000 - mae: 22093.6367 - mse: 930487104.0000 - val_loss: 502507808.0000 - val_mae: 16472.5137 - val_mse: 502507808.0000\n",
            "Epoch 404/500\n",
            "\u001b[1m56/56\u001b[0m \u001b[32m━━━━━━━━━━━━━━━━━━━━\u001b[0m\u001b[37m\u001b[0m \u001b[1m1s\u001b[0m 9ms/step - loss: 850406784.0000 - mae: 21511.0996 - mse: 850406784.0000 - val_loss: 521462464.0000 - val_mae: 16934.9902 - val_mse: 521462464.0000\n",
            "Epoch 405/500\n",
            "\u001b[1m56/56\u001b[0m \u001b[32m━━━━━━━━━━━━━━━━━━━━\u001b[0m\u001b[37m\u001b[0m \u001b[1m0s\u001b[0m 4ms/step - loss: 768368832.0000 - mae: 20774.5215 - mse: 768368832.0000 - val_loss: 391601632.0000 - val_mae: 14053.4990 - val_mse: 391601632.0000\n",
            "Epoch 406/500\n",
            "\u001b[1m56/56\u001b[0m \u001b[32m━━━━━━━━━━━━━━━━━━━━\u001b[0m\u001b[37m\u001b[0m \u001b[1m0s\u001b[0m 4ms/step - loss: 786115392.0000 - mae: 21117.0879 - mse: 786115392.0000 - val_loss: 444576384.0000 - val_mae: 15125.4668 - val_mse: 444576384.0000\n",
            "Epoch 407/500\n",
            "\u001b[1m56/56\u001b[0m \u001b[32m━━━━━━━━━━━━━━━━━━━━\u001b[0m\u001b[37m\u001b[0m \u001b[1m0s\u001b[0m 4ms/step - loss: 949908416.0000 - mae: 21301.4844 - mse: 949908416.0000 - val_loss: 429948864.0000 - val_mae: 14946.1787 - val_mse: 429948864.0000\n",
            "Epoch 408/500\n",
            "\u001b[1m56/56\u001b[0m \u001b[32m━━━━━━━━━━━━━━━━━━━━\u001b[0m\u001b[37m\u001b[0m \u001b[1m0s\u001b[0m 4ms/step - loss: 931291072.0000 - mae: 22184.4707 - mse: 931291072.0000 - val_loss: 392153824.0000 - val_mae: 14044.4756 - val_mse: 392153824.0000\n",
            "Epoch 409/500\n",
            "\u001b[1m56/56\u001b[0m \u001b[32m━━━━━━━━━━━━━━━━━━━━\u001b[0m\u001b[37m\u001b[0m \u001b[1m0s\u001b[0m 4ms/step - loss: 755607424.0000 - mae: 20746.2988 - mse: 755607424.0000 - val_loss: 411196000.0000 - val_mae: 14507.9355 - val_mse: 411196000.0000\n",
            "Epoch 410/500\n",
            "\u001b[1m56/56\u001b[0m \u001b[32m━━━━━━━━━━━━━━━━━━━━\u001b[0m\u001b[37m\u001b[0m \u001b[1m0s\u001b[0m 4ms/step - loss: 738245888.0000 - mae: 20700.9395 - mse: 738245888.0000 - val_loss: 417157984.0000 - val_mae: 14646.9980 - val_mse: 417157984.0000\n",
            "Epoch 411/500\n",
            "\u001b[1m56/56\u001b[0m \u001b[32m━━━━━━━━━━━━━━━━━━━━\u001b[0m\u001b[37m\u001b[0m \u001b[1m0s\u001b[0m 4ms/step - loss: 820004224.0000 - mae: 21189.7559 - mse: 820004224.0000 - val_loss: 439796896.0000 - val_mae: 15035.1533 - val_mse: 439796896.0000\n",
            "Epoch 412/500\n",
            "\u001b[1m56/56\u001b[0m \u001b[32m━━━━━━━━━━━━━━━━━━━━\u001b[0m\u001b[37m\u001b[0m \u001b[1m0s\u001b[0m 4ms/step - loss: 815576704.0000 - mae: 20776.3809 - mse: 815576704.0000 - val_loss: 428797536.0000 - val_mae: 14918.2207 - val_mse: 428797536.0000\n",
            "Epoch 413/500\n",
            "\u001b[1m56/56\u001b[0m \u001b[32m━━━━━━━━━━━━━━━━━━━━\u001b[0m\u001b[37m\u001b[0m \u001b[1m0s\u001b[0m 4ms/step - loss: 910264832.0000 - mae: 22186.3438 - mse: 910264832.0000 - val_loss: 389817600.0000 - val_mae: 13984.2637 - val_mse: 389817600.0000\n",
            "Epoch 414/500\n",
            "\u001b[1m56/56\u001b[0m \u001b[32m━━━━━━━━━━━━━━━━━━━━\u001b[0m\u001b[37m\u001b[0m \u001b[1m0s\u001b[0m 4ms/step - loss: 765244416.0000 - mae: 20072.4473 - mse: 765244416.0000 - val_loss: 392749792.0000 - val_mae: 14001.6621 - val_mse: 392749792.0000\n",
            "Epoch 415/500\n",
            "\u001b[1m56/56\u001b[0m \u001b[32m━━━━━━━━━━━━━━━━━━━━\u001b[0m\u001b[37m\u001b[0m \u001b[1m0s\u001b[0m 4ms/step - loss: 814782016.0000 - mae: 21123.0391 - mse: 814782016.0000 - val_loss: 388767776.0000 - val_mae: 13929.1143 - val_mse: 388767776.0000\n",
            "Epoch 416/500\n",
            "\u001b[1m56/56\u001b[0m \u001b[32m━━━━━━━━━━━━━━━━━━━━\u001b[0m\u001b[37m\u001b[0m \u001b[1m0s\u001b[0m 4ms/step - loss: 849440832.0000 - mae: 21217.6211 - mse: 849440832.0000 - val_loss: 388559968.0000 - val_mae: 13982.1318 - val_mse: 388559968.0000\n",
            "Epoch 417/500\n",
            "\u001b[1m56/56\u001b[0m \u001b[32m━━━━━━━━━━━━━━━━━━━━\u001b[0m\u001b[37m\u001b[0m \u001b[1m0s\u001b[0m 4ms/step - loss: 972291072.0000 - mae: 21548.0254 - mse: 972291072.0000 - val_loss: 399809248.0000 - val_mae: 14152.7070 - val_mse: 399809248.0000\n",
            "Epoch 418/500\n",
            "\u001b[1m56/56\u001b[0m \u001b[32m━━━━━━━━━━━━━━━━━━━━\u001b[0m\u001b[37m\u001b[0m \u001b[1m0s\u001b[0m 4ms/step - loss: 797547264.0000 - mae: 20551.1348 - mse: 797547264.0000 - val_loss: 513906400.0000 - val_mae: 16804.5859 - val_mse: 513906400.0000\n",
            "Epoch 419/500\n",
            "\u001b[1m56/56\u001b[0m \u001b[32m━━━━━━━━━━━━━━━━━━━━\u001b[0m\u001b[37m\u001b[0m \u001b[1m0s\u001b[0m 4ms/step - loss: 767026432.0000 - mae: 20862.6641 - mse: 767026432.0000 - val_loss: 430508864.0000 - val_mae: 14969.9941 - val_mse: 430508864.0000\n",
            "Epoch 420/500\n",
            "\u001b[1m56/56\u001b[0m \u001b[32m━━━━━━━━━━━━━━━━━━━━\u001b[0m\u001b[37m\u001b[0m \u001b[1m0s\u001b[0m 4ms/step - loss: 821567104.0000 - mae: 21170.0625 - mse: 821567104.0000 - val_loss: 399967360.0000 - val_mae: 14136.4980 - val_mse: 399967360.0000\n",
            "Epoch 421/500\n",
            "\u001b[1m56/56\u001b[0m \u001b[32m━━━━━━━━━━━━━━━━━━━━\u001b[0m\u001b[37m\u001b[0m \u001b[1m0s\u001b[0m 4ms/step - loss: 796402752.0000 - mae: 20801.3906 - mse: 796402752.0000 - val_loss: 393190688.0000 - val_mae: 13987.4072 - val_mse: 393190688.0000\n",
            "Epoch 422/500\n",
            "\u001b[1m56/56\u001b[0m \u001b[32m━━━━━━━━━━━━━━━━━━━━\u001b[0m\u001b[37m\u001b[0m \u001b[1m0s\u001b[0m 4ms/step - loss: 914476544.0000 - mae: 20959.5156 - mse: 914476544.0000 - val_loss: 446779744.0000 - val_mae: 15278.6357 - val_mse: 446779744.0000\n",
            "Epoch 423/500\n",
            "\u001b[1m56/56\u001b[0m \u001b[32m━━━━━━━━━━━━━━━━━━━━\u001b[0m\u001b[37m\u001b[0m \u001b[1m0s\u001b[0m 4ms/step - loss: 724745920.0000 - mae: 19752.9570 - mse: 724745920.0000 - val_loss: 409496800.0000 - val_mae: 14419.3857 - val_mse: 409496800.0000\n",
            "Epoch 424/500\n",
            "\u001b[1m56/56\u001b[0m \u001b[32m━━━━━━━━━━━━━━━━━━━━\u001b[0m\u001b[37m\u001b[0m \u001b[1m0s\u001b[0m 4ms/step - loss: 1270823424.0000 - mae: 22532.5098 - mse: 1270823424.0000 - val_loss: 389505856.0000 - val_mae: 14020.1162 - val_mse: 389505856.0000\n",
            "Epoch 425/500\n",
            "\u001b[1m56/56\u001b[0m \u001b[32m━━━━━━━━━━━━━━━━━━━━\u001b[0m\u001b[37m\u001b[0m \u001b[1m0s\u001b[0m 4ms/step - loss: 799335424.0000 - mae: 21206.9902 - mse: 799335424.0000 - val_loss: 422432704.0000 - val_mae: 14627.9824 - val_mse: 422432704.0000\n",
            "Epoch 426/500\n",
            "\u001b[1m56/56\u001b[0m \u001b[32m━━━━━━━━━━━━━━━━━━━━\u001b[0m\u001b[37m\u001b[0m \u001b[1m0s\u001b[0m 5ms/step - loss: 860656768.0000 - mae: 21418.8535 - mse: 860656768.0000 - val_loss: 404026624.0000 - val_mae: 14268.2979 - val_mse: 404026624.0000\n",
            "Epoch 427/500\n",
            "\u001b[1m56/56\u001b[0m \u001b[32m━━━━━━━━━━━━━━━━━━━━\u001b[0m\u001b[37m\u001b[0m \u001b[1m0s\u001b[0m 4ms/step - loss: 783039168.0000 - mae: 20522.6855 - mse: 783039168.0000 - val_loss: 395631104.0000 - val_mae: 14129.4473 - val_mse: 395631104.0000\n",
            "Epoch 428/500\n",
            "\u001b[1m56/56\u001b[0m \u001b[32m━━━━━━━━━━━━━━━━━━━━\u001b[0m\u001b[37m\u001b[0m \u001b[1m0s\u001b[0m 4ms/step - loss: 703154112.0000 - mae: 19823.6953 - mse: 703154112.0000 - val_loss: 400971136.0000 - val_mae: 14222.6328 - val_mse: 400971136.0000\n",
            "Epoch 429/500\n",
            "\u001b[1m56/56\u001b[0m \u001b[32m━━━━━━━━━━━━━━━━━━━━\u001b[0m\u001b[37m\u001b[0m \u001b[1m0s\u001b[0m 4ms/step - loss: 868986176.0000 - mae: 21013.5000 - mse: 868986176.0000 - val_loss: 394401856.0000 - val_mae: 14062.7480 - val_mse: 394401856.0000\n",
            "Epoch 430/500\n",
            "\u001b[1m56/56\u001b[0m \u001b[32m━━━━━━━━━━━━━━━━━━━━\u001b[0m\u001b[37m\u001b[0m \u001b[1m0s\u001b[0m 5ms/step - loss: 710001536.0000 - mae: 19813.9062 - mse: 710001536.0000 - val_loss: 424152064.0000 - val_mae: 14695.2676 - val_mse: 424152064.0000\n",
            "Epoch 431/500\n",
            "\u001b[1m56/56\u001b[0m \u001b[32m━━━━━━━━━━━━━━━━━━━━\u001b[0m\u001b[37m\u001b[0m \u001b[1m1s\u001b[0m 4ms/step - loss: 788262592.0000 - mae: 20658.4238 - mse: 788262592.0000 - val_loss: 388432896.0000 - val_mae: 13913.5293 - val_mse: 388432896.0000\n",
            "Epoch 432/500\n",
            "\u001b[1m56/56\u001b[0m \u001b[32m━━━━━━━━━━━━━━━━━━━━\u001b[0m\u001b[37m\u001b[0m \u001b[1m0s\u001b[0m 4ms/step - loss: 795177280.0000 - mae: 20772.4219 - mse: 795177280.0000 - val_loss: 428230848.0000 - val_mae: 14822.7051 - val_mse: 428230848.0000\n",
            "Epoch 433/500\n",
            "\u001b[1m56/56\u001b[0m \u001b[32m━━━━━━━━━━━━━━━━━━━━\u001b[0m\u001b[37m\u001b[0m \u001b[1m0s\u001b[0m 4ms/step - loss: 916023744.0000 - mae: 22073.1934 - mse: 916023744.0000 - val_loss: 427648128.0000 - val_mae: 14796.7822 - val_mse: 427648128.0000\n",
            "Epoch 434/500\n",
            "\u001b[1m56/56\u001b[0m \u001b[32m━━━━━━━━━━━━━━━━━━━━\u001b[0m\u001b[37m\u001b[0m \u001b[1m0s\u001b[0m 4ms/step - loss: 941422080.0000 - mae: 21645.4199 - mse: 941422080.0000 - val_loss: 388961760.0000 - val_mae: 13970.4258 - val_mse: 388961760.0000\n",
            "Epoch 435/500\n",
            "\u001b[1m56/56\u001b[0m \u001b[32m━━━━━━━━━━━━━━━━━━━━\u001b[0m\u001b[37m\u001b[0m \u001b[1m0s\u001b[0m 4ms/step - loss: 956778112.0000 - mae: 21744.0977 - mse: 956778112.0000 - val_loss: 413078720.0000 - val_mae: 14472.2080 - val_mse: 413078720.0000\n",
            "Epoch 436/500\n",
            "\u001b[1m56/56\u001b[0m \u001b[32m━━━━━━━━━━━━━━━━━━━━\u001b[0m\u001b[37m\u001b[0m \u001b[1m0s\u001b[0m 5ms/step - loss: 792196160.0000 - mae: 21051.9336 - mse: 792196160.0000 - val_loss: 389452928.0000 - val_mae: 13915.7793 - val_mse: 389452928.0000\n",
            "Epoch 437/500\n",
            "\u001b[1m56/56\u001b[0m \u001b[32m━━━━━━━━━━━━━━━━━━━━\u001b[0m\u001b[37m\u001b[0m \u001b[1m0s\u001b[0m 4ms/step - loss: 991491648.0000 - mae: 21906.1270 - mse: 991491648.0000 - val_loss: 387318752.0000 - val_mae: 13947.1846 - val_mse: 387318752.0000\n",
            "Epoch 438/500\n",
            "\u001b[1m56/56\u001b[0m \u001b[32m━━━━━━━━━━━━━━━━━━━━\u001b[0m\u001b[37m\u001b[0m \u001b[1m0s\u001b[0m 4ms/step - loss: 775509504.0000 - mae: 20233.4199 - mse: 775509504.0000 - val_loss: 426479616.0000 - val_mae: 14819.0098 - val_mse: 426479616.0000\n",
            "Epoch 439/500\n",
            "\u001b[1m56/56\u001b[0m \u001b[32m━━━━━━━━━━━━━━━━━━━━\u001b[0m\u001b[37m\u001b[0m \u001b[1m0s\u001b[0m 5ms/step - loss: 893621120.0000 - mae: 21387.4727 - mse: 893621120.0000 - val_loss: 414048320.0000 - val_mae: 14393.5586 - val_mse: 414048320.0000\n",
            "Epoch 440/500\n",
            "\u001b[1m56/56\u001b[0m \u001b[32m━━━━━━━━━━━━━━━━━━━━\u001b[0m\u001b[37m\u001b[0m \u001b[1m0s\u001b[0m 6ms/step - loss: 1045013568.0000 - mae: 22276.2812 - mse: 1045013568.0000 - val_loss: 392516352.0000 - val_mae: 14016.9512 - val_mse: 392516352.0000\n",
            "Epoch 441/500\n",
            "\u001b[1m56/56\u001b[0m \u001b[32m━━━━━━━━━━━━━━━━━━━━\u001b[0m\u001b[37m\u001b[0m \u001b[1m0s\u001b[0m 5ms/step - loss: 793231808.0000 - mae: 20797.9043 - mse: 793231808.0000 - val_loss: 404279776.0000 - val_mae: 14264.0410 - val_mse: 404279776.0000\n",
            "Epoch 442/500\n",
            "\u001b[1m56/56\u001b[0m \u001b[32m━━━━━━━━━━━━━━━━━━━━\u001b[0m\u001b[37m\u001b[0m \u001b[1m0s\u001b[0m 6ms/step - loss: 766737152.0000 - mae: 20747.7598 - mse: 766737152.0000 - val_loss: 385993536.0000 - val_mae: 13864.1973 - val_mse: 385993536.0000\n",
            "Epoch 443/500\n",
            "\u001b[1m56/56\u001b[0m \u001b[32m━━━━━━━━━━━━━━━━━━━━\u001b[0m\u001b[37m\u001b[0m \u001b[1m1s\u001b[0m 8ms/step - loss: 786526272.0000 - mae: 21174.2891 - mse: 786526272.0000 - val_loss: 382714048.0000 - val_mae: 13791.0488 - val_mse: 382714048.0000\n",
            "Epoch 444/500\n",
            "\u001b[1m56/56\u001b[0m \u001b[32m━━━━━━━━━━━━━━━━━━━━\u001b[0m\u001b[37m\u001b[0m \u001b[1m0s\u001b[0m 7ms/step - loss: 827854528.0000 - mae: 20670.5195 - mse: 827854528.0000 - val_loss: 389308544.0000 - val_mae: 13940.0254 - val_mse: 389308544.0000\n",
            "Epoch 445/500\n",
            "\u001b[1m56/56\u001b[0m \u001b[32m━━━━━━━━━━━━━━━━━━━━\u001b[0m\u001b[37m\u001b[0m \u001b[1m0s\u001b[0m 8ms/step - loss: 781137280.0000 - mae: 21458.6543 - mse: 781137280.0000 - val_loss: 388734816.0000 - val_mae: 13913.1846 - val_mse: 388734816.0000\n",
            "Epoch 446/500\n",
            "\u001b[1m56/56\u001b[0m \u001b[32m━━━━━━━━━━━━━━━━━━━━\u001b[0m\u001b[37m\u001b[0m \u001b[1m0s\u001b[0m 5ms/step - loss: 881222592.0000 - mae: 21437.4297 - mse: 881222592.0000 - val_loss: 413799200.0000 - val_mae: 14419.3682 - val_mse: 413799200.0000\n",
            "Epoch 447/500\n",
            "\u001b[1m56/56\u001b[0m \u001b[32m━━━━━━━━━━━━━━━━━━━━\u001b[0m\u001b[37m\u001b[0m \u001b[1m0s\u001b[0m 5ms/step - loss: 756392896.0000 - mae: 20966.8008 - mse: 756392896.0000 - val_loss: 392838976.0000 - val_mae: 14007.6475 - val_mse: 392838976.0000\n",
            "Epoch 448/500\n",
            "\u001b[1m56/56\u001b[0m \u001b[32m━━━━━━━━━━━━━━━━━━━━\u001b[0m\u001b[37m\u001b[0m \u001b[1m0s\u001b[0m 4ms/step - loss: 886396416.0000 - mae: 21005.8711 - mse: 886396416.0000 - val_loss: 398924384.0000 - val_mae: 14130.4619 - val_mse: 398924384.0000\n",
            "Epoch 449/500\n",
            "\u001b[1m56/56\u001b[0m \u001b[32m━━━━━━━━━━━━━━━━━━━━\u001b[0m\u001b[37m\u001b[0m \u001b[1m0s\u001b[0m 4ms/step - loss: 783542720.0000 - mae: 20693.0996 - mse: 783542720.0000 - val_loss: 384289888.0000 - val_mae: 13842.0547 - val_mse: 384289888.0000\n",
            "Epoch 450/500\n",
            "\u001b[1m56/56\u001b[0m \u001b[32m━━━━━━━━━━━━━━━━━━━━\u001b[0m\u001b[37m\u001b[0m \u001b[1m0s\u001b[0m 4ms/step - loss: 749712960.0000 - mae: 20559.3770 - mse: 749712960.0000 - val_loss: 416599488.0000 - val_mae: 14487.2832 - val_mse: 416599488.0000\n",
            "Epoch 451/500\n",
            "\u001b[1m56/56\u001b[0m \u001b[32m━━━━━━━━━━━━━━━━━━━━\u001b[0m\u001b[37m\u001b[0m \u001b[1m0s\u001b[0m 5ms/step - loss: 798722304.0000 - mae: 21171.3477 - mse: 798722304.0000 - val_loss: 422294272.0000 - val_mae: 14658.5205 - val_mse: 422294272.0000\n",
            "Epoch 452/500\n",
            "\u001b[1m56/56\u001b[0m \u001b[32m━━━━━━━━━━━━━━━━━━━━\u001b[0m\u001b[37m\u001b[0m \u001b[1m0s\u001b[0m 4ms/step - loss: 755120384.0000 - mae: 20400.0938 - mse: 755120384.0000 - val_loss: 421309376.0000 - val_mae: 14614.9150 - val_mse: 421309376.0000\n",
            "Epoch 453/500\n",
            "\u001b[1m56/56\u001b[0m \u001b[32m━━━━━━━━━━━━━━━━━━━━\u001b[0m\u001b[37m\u001b[0m \u001b[1m0s\u001b[0m 4ms/step - loss: 835304896.0000 - mae: 21297.3457 - mse: 835304896.0000 - val_loss: 443225728.0000 - val_mae: 15191.7227 - val_mse: 443225728.0000\n",
            "Epoch 454/500\n",
            "\u001b[1m56/56\u001b[0m \u001b[32m━━━━━━━━━━━━━━━━━━━━\u001b[0m\u001b[37m\u001b[0m \u001b[1m0s\u001b[0m 4ms/step - loss: 728149760.0000 - mae: 20031.5918 - mse: 728149760.0000 - val_loss: 383853472.0000 - val_mae: 13806.5244 - val_mse: 383853472.0000\n",
            "Epoch 455/500\n",
            "\u001b[1m56/56\u001b[0m \u001b[32m━━━━━━━━━━━━━━━━━━━━\u001b[0m\u001b[37m\u001b[0m \u001b[1m0s\u001b[0m 5ms/step - loss: 751910720.0000 - mae: 20635.1797 - mse: 751910720.0000 - val_loss: 384178176.0000 - val_mae: 13821.1006 - val_mse: 384178176.0000\n",
            "Epoch 456/500\n",
            "\u001b[1m56/56\u001b[0m \u001b[32m━━━━━━━━━━━━━━━━━━━━\u001b[0m\u001b[37m\u001b[0m \u001b[1m0s\u001b[0m 4ms/step - loss: 802580928.0000 - mae: 20581.2324 - mse: 802580928.0000 - val_loss: 405432224.0000 - val_mae: 14291.2510 - val_mse: 405432224.0000\n",
            "Epoch 457/500\n",
            "\u001b[1m56/56\u001b[0m \u001b[32m━━━━━━━━━━━━━━━━━━━━\u001b[0m\u001b[37m\u001b[0m \u001b[1m0s\u001b[0m 4ms/step - loss: 1001662528.0000 - mae: 21909.8535 - mse: 1001662528.0000 - val_loss: 382849664.0000 - val_mae: 13782.3701 - val_mse: 382849664.0000\n",
            "Epoch 458/500\n",
            "\u001b[1m56/56\u001b[0m \u001b[32m━━━━━━━━━━━━━━━━━━━━\u001b[0m\u001b[37m\u001b[0m \u001b[1m0s\u001b[0m 5ms/step - loss: 702264704.0000 - mae: 20061.6855 - mse: 702264704.0000 - val_loss: 406939520.0000 - val_mae: 14287.1836 - val_mse: 406939520.0000\n",
            "Epoch 459/500\n",
            "\u001b[1m56/56\u001b[0m \u001b[32m━━━━━━━━━━━━━━━━━━━━\u001b[0m\u001b[37m\u001b[0m \u001b[1m0s\u001b[0m 4ms/step - loss: 876906304.0000 - mae: 21512.1680 - mse: 876906304.0000 - val_loss: 390725184.0000 - val_mae: 13974.9609 - val_mse: 390725184.0000\n",
            "Epoch 460/500\n",
            "\u001b[1m56/56\u001b[0m \u001b[32m━━━━━━━━━━━━━━━━━━━━\u001b[0m\u001b[37m\u001b[0m \u001b[1m0s\u001b[0m 4ms/step - loss: 1126213632.0000 - mae: 22258.9590 - mse: 1126213632.0000 - val_loss: 419666240.0000 - val_mae: 14600.9746 - val_mse: 419666240.0000\n",
            "Epoch 461/500\n",
            "\u001b[1m56/56\u001b[0m \u001b[32m━━━━━━━━━━━━━━━━━━━━\u001b[0m\u001b[37m\u001b[0m \u001b[1m0s\u001b[0m 4ms/step - loss: 943713280.0000 - mae: 21050.4570 - mse: 943713280.0000 - val_loss: 405129088.0000 - val_mae: 14246.3643 - val_mse: 405129088.0000\n",
            "Epoch 462/500\n",
            "\u001b[1m56/56\u001b[0m \u001b[32m━━━━━━━━━━━━━━━━━━━━\u001b[0m\u001b[37m\u001b[0m \u001b[1m0s\u001b[0m 5ms/step - loss: 930567168.0000 - mae: 21390.3418 - mse: 930567168.0000 - val_loss: 386983200.0000 - val_mae: 13881.6025 - val_mse: 386983200.0000\n",
            "Epoch 463/500\n",
            "\u001b[1m56/56\u001b[0m \u001b[32m━━━━━━━━━━━━━━━━━━━━\u001b[0m\u001b[37m\u001b[0m \u001b[1m0s\u001b[0m 4ms/step - loss: 819119744.0000 - mae: 20574.7559 - mse: 819119744.0000 - val_loss: 405473440.0000 - val_mae: 14242.9385 - val_mse: 405473440.0000\n"
          ]
        }
      ]
    },
    {
      "cell_type": "code",
      "source": [
        "y_train_pred = model.predict(X_train)\n",
        "y_test_pred = model.predict(X_test)\n",
        "\n",
        "evaluate(y_train, y_train_pred, \"Training (NN)\")\n",
        "evaluate(y_test, y_test_pred, \"Test (NN)\")\n"
      ],
      "metadata": {
        "colab": {
          "base_uri": "https://localhost:8080/"
        },
        "id": "xgpRsl54oRuT",
        "outputId": "641b2c0e-67a8-4a2f-8fbd-bb8b51a01704"
      },
      "execution_count": 206,
      "outputs": [
        {
          "output_type": "stream",
          "name": "stdout",
          "text": [
            "\u001b[1m70/70\u001b[0m \u001b[32m━━━━━━━━━━━━━━━━━━━━\u001b[0m\u001b[37m\u001b[0m \u001b[1m0s\u001b[0m 2ms/step\n",
            "\u001b[1m18/18\u001b[0m \u001b[32m━━━━━━━━━━━━━━━━━━━━\u001b[0m\u001b[37m\u001b[0m \u001b[1m0s\u001b[0m 2ms/step \n",
            "Training (NN) Evaluation:\n",
            "  MAE: 13771.98\n",
            "  RMSE: 20296.60\n",
            "  R²: 0.8794\n",
            "----------------------------\n",
            "Test (NN) Evaluation:\n",
            "  MAE: 14311.49\n",
            "  RMSE: 23388.43\n",
            "  R²: 0.8529\n",
            "----------------------------\n"
          ]
        }
      ]
    }
  ]
}